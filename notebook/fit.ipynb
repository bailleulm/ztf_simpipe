{
 "cells": [
  {
   "cell_type": "code",
   "execution_count": 1,
   "id": "99466cb9",
   "metadata": {},
   "outputs": [],
   "source": [
    "import sys\n",
    "sys.path.append(\"/Users/manon/ztf_stage/python\") #directory to your python class\n",
    "sys.path.append(\"/Users/manon/ztf_stage/script\") #directory to your python script\n",
    "sys.path.append(\"/Users/manon/ztf_stage/csv\") #directory to your csv file\n",
    "sys.path.append(\"/Users/manon/ZTF/data\") #directory to your data (from simsurvey)\n",
    "sys.path.append(\"/Users/manon/ZTF\") #directory to simsurvey_tools.py"
   ]
  },
  {
   "cell_type": "code",
   "execution_count": 2,
   "id": "05576a31",
   "metadata": {},
   "outputs": [],
   "source": [
    "from ztf_hdf5 import Write_LightCurve, Read_LightCurve, Plot_LightCurve\n",
    "from ztf_fit import SN_fit, SN_fit_tab\n",
    "from astropy.table import QTable, Table, Column, vstack\n",
    "import astropy\n",
    "import os"
   ]
  },
  {
   "cell_type": "code",
   "execution_count": 3,
   "id": "93ad9f8f",
   "metadata": {
    "scrolled": true
   },
   "outputs": [
    {
     "data": {
      "text/plain": [
       "OrderedDict([('directory', 'dataLC'),\n",
       "             ('file_name', 'dataLC/meta_simu_nb.hdf5')])"
      ]
     },
     "execution_count": 3,
     "metadata": {},
     "output_type": "execute_result"
    }
   ],
   "source": [
    "class_meta = Read_LightCurve(file_name='meta_selected.hdf5')\n",
    "new_read_meta = class_meta.Read_file(path='meta')\n",
    "new_read_meta.meta"
   ]
  },
  {
   "cell_type": "code",
   "execution_count": 4,
   "id": "09e8c069",
   "metadata": {
    "scrolled": true
   },
   "outputs": [
    {
     "name": "stderr",
     "output_type": "stream",
     "text": [
      "/Users/manon/opt/anaconda3/lib/python3.9/site-packages/sncosmo/fitting.py:235: RuntimeWarning: invalid value encountered in true_divide\n",
      "  significant_data = data[(data.flux / data.fluxerr) > minsnr]\n"
     ]
    },
    {
     "name": "stdout",
     "output_type": "stream",
     "text": [
      "WARNING : That was no valid light curve.\n",
      "None\n"
     ]
    },
    {
     "name": "stderr",
     "output_type": "stream",
     "text": [
      "/Users/manon/opt/anaconda3/lib/python3.9/site-packages/sncosmo/fitting.py:235: RuntimeWarning: invalid value encountered in true_divide\n",
      "  significant_data = data[(data.flux / data.fluxerr) > minsnr]\n"
     ]
    },
    {
     "name": "stdout",
     "output_type": "stream",
     "text": [
      "WARNING : That was no valid light curve.\n",
      "None\n"
     ]
    },
    {
     "name": "stderr",
     "output_type": "stream",
     "text": [
      "/Users/manon/opt/anaconda3/lib/python3.9/site-packages/sncosmo/fitting.py:235: RuntimeWarning: invalid value encountered in true_divide\n",
      "  significant_data = data[(data.flux / data.fluxerr) > minsnr]\n"
     ]
    },
    {
     "name": "stdout",
     "output_type": "stream",
     "text": [
      "WARNING : That was no valid light curve.\n",
      "None\n"
     ]
    },
    {
     "name": "stderr",
     "output_type": "stream",
     "text": [
      "/Users/manon/opt/anaconda3/lib/python3.9/site-packages/sncosmo/fitting.py:235: RuntimeWarning: invalid value encountered in true_divide\n",
      "  significant_data = data[(data.flux / data.fluxerr) > minsnr]\n"
     ]
    },
    {
     "name": "stdout",
     "output_type": "stream",
     "text": [
      "WARNING : That was no valid light curve.\n",
      "None\n"
     ]
    },
    {
     "name": "stderr",
     "output_type": "stream",
     "text": [
      "/Users/manon/opt/anaconda3/lib/python3.9/site-packages/sncosmo/fitting.py:235: RuntimeWarning: invalid value encountered in true_divide\n",
      "  significant_data = data[(data.flux / data.fluxerr) > minsnr]\n"
     ]
    },
    {
     "name": "stdout",
     "output_type": "stream",
     "text": [
      "WARNING : That was no valid light curve.\n",
      "None\n"
     ]
    },
    {
     "name": "stderr",
     "output_type": "stream",
     "text": [
      "/Users/manon/opt/anaconda3/lib/python3.9/site-packages/sncosmo/fitting.py:235: RuntimeWarning: invalid value encountered in true_divide\n",
      "  significant_data = data[(data.flux / data.fluxerr) > minsnr]\n"
     ]
    },
    {
     "name": "stdout",
     "output_type": "stream",
     "text": [
      "WARNING : That was no valid light curve.\n",
      "None\n",
      "WARNING : That was no valid light curve.\n",
      "None\n",
      "WARNING : That was no valid light curve.\n",
      "None\n"
     ]
    },
    {
     "name": "stderr",
     "output_type": "stream",
     "text": [
      "/Users/manon/opt/anaconda3/lib/python3.9/site-packages/sncosmo/fitting.py:235: RuntimeWarning: invalid value encountered in true_divide\n",
      "  significant_data = data[(data.flux / data.fluxerr) > minsnr]\n"
     ]
    },
    {
     "name": "stdout",
     "output_type": "stream",
     "text": [
      "WARNING : That was no valid light curve.\n",
      "None\n"
     ]
    },
    {
     "name": "stderr",
     "output_type": "stream",
     "text": [
      "/Users/manon/opt/anaconda3/lib/python3.9/site-packages/sncosmo/fitting.py:235: RuntimeWarning: invalid value encountered in true_divide\n",
      "  significant_data = data[(data.flux / data.fluxerr) > minsnr]\n"
     ]
    },
    {
     "name": "stdout",
     "output_type": "stream",
     "text": [
      "WARNING : That was no valid light curve.\n",
      "None\n"
     ]
    },
    {
     "name": "stderr",
     "output_type": "stream",
     "text": [
      "/Users/manon/opt/anaconda3/lib/python3.9/site-packages/sncosmo/fitting.py:235: RuntimeWarning: invalid value encountered in true_divide\n",
      "  significant_data = data[(data.flux / data.fluxerr) > minsnr]\n"
     ]
    },
    {
     "name": "stdout",
     "output_type": "stream",
     "text": [
      "WARNING : That was no valid light curve.\n",
      "None\n",
      "WARNING : That was no valid light curve.\n",
      "None\n"
     ]
    },
    {
     "name": "stderr",
     "output_type": "stream",
     "text": [
      "/Users/manon/opt/anaconda3/lib/python3.9/site-packages/sncosmo/fitting.py:235: RuntimeWarning: invalid value encountered in true_divide\n",
      "  significant_data = data[(data.flux / data.fluxerr) > minsnr]\n"
     ]
    },
    {
     "name": "stdout",
     "output_type": "stream",
     "text": [
      "WARNING : That was no valid light curve.\n",
      "None\n"
     ]
    },
    {
     "name": "stderr",
     "output_type": "stream",
     "text": [
      "/Users/manon/opt/anaconda3/lib/python3.9/site-packages/sncosmo/fitting.py:235: RuntimeWarning: invalid value encountered in true_divide\n",
      "  significant_data = data[(data.flux / data.fluxerr) > minsnr]\n"
     ]
    },
    {
     "name": "stdout",
     "output_type": "stream",
     "text": [
      "WARNING : That was no valid light curve.\n",
      "None\n"
     ]
    },
    {
     "name": "stderr",
     "output_type": "stream",
     "text": [
      "/Users/manon/opt/anaconda3/lib/python3.9/site-packages/sncosmo/fitting.py:235: RuntimeWarning: invalid value encountered in true_divide\n",
      "  significant_data = data[(data.flux / data.fluxerr) > minsnr]\n"
     ]
    },
    {
     "name": "stdout",
     "output_type": "stream",
     "text": [
      "WARNING : That was no valid light curve.\n",
      "None\n"
     ]
    },
    {
     "name": "stderr",
     "output_type": "stream",
     "text": [
      "/Users/manon/opt/anaconda3/lib/python3.9/site-packages/sncosmo/models.py:813: RuntimeWarning: overflow encountered in power\n",
      "  10. ** (-0.4 * self._colorlaw(wave) * self._parameters[2]))\n",
      "/Users/manon/opt/anaconda3/lib/python3.9/site-packages/sncosmo/models.py:812: RuntimeWarning: invalid value encountered in multiply\n",
      "  return (self._parameters[0] * (m0 + self._parameters[1] * m1) *\n",
      "/Users/manon/opt/anaconda3/lib/python3.9/site-packages/numpy/core/fromnumeric.py:87: RuntimeWarning: invalid value encountered in reduce\n",
      "  return ufunc.reduce(obj, axis, dtype, out, **passkwargs)\n"
     ]
    },
    {
     "name": "stdout",
     "output_type": "stream",
     "text": [
      "WARNING : That was no valid light curve.\n",
      "None\n"
     ]
    },
    {
     "name": "stderr",
     "output_type": "stream",
     "text": [
      "/Users/manon/opt/anaconda3/lib/python3.9/site-packages/sncosmo/fitting.py:235: RuntimeWarning: invalid value encountered in true_divide\n",
      "  significant_data = data[(data.flux / data.fluxerr) > minsnr]\n"
     ]
    },
    {
     "name": "stdout",
     "output_type": "stream",
     "text": [
      "WARNING : That was no valid light curve.\n",
      "None\n",
      "WARNING : That was no valid light curve.\n",
      "None\n"
     ]
    },
    {
     "name": "stderr",
     "output_type": "stream",
     "text": [
      "/Users/manon/opt/anaconda3/lib/python3.9/site-packages/sncosmo/fitting.py:235: RuntimeWarning: invalid value encountered in true_divide\n",
      "  significant_data = data[(data.flux / data.fluxerr) > minsnr]\n"
     ]
    },
    {
     "name": "stdout",
     "output_type": "stream",
     "text": [
      "WARNING : That was no valid light curve.\n",
      "None\n"
     ]
    },
    {
     "name": "stderr",
     "output_type": "stream",
     "text": [
      "/Users/manon/opt/anaconda3/lib/python3.9/site-packages/sncosmo/fitting.py:235: RuntimeWarning: invalid value encountered in true_divide\n",
      "  significant_data = data[(data.flux / data.fluxerr) > minsnr]\n"
     ]
    },
    {
     "name": "stdout",
     "output_type": "stream",
     "text": [
      "WARNING : That was no valid light curve.\n",
      "None\n"
     ]
    },
    {
     "name": "stderr",
     "output_type": "stream",
     "text": [
      "/Users/manon/opt/anaconda3/lib/python3.9/site-packages/sncosmo/fitting.py:235: RuntimeWarning: invalid value encountered in true_divide\n",
      "  significant_data = data[(data.flux / data.fluxerr) > minsnr]\n"
     ]
    },
    {
     "name": "stdout",
     "output_type": "stream",
     "text": [
      "WARNING : That was no valid light curve.\n",
      "None\n"
     ]
    },
    {
     "name": "stderr",
     "output_type": "stream",
     "text": [
      "/Users/manon/opt/anaconda3/lib/python3.9/site-packages/sncosmo/fitting.py:235: RuntimeWarning: invalid value encountered in true_divide\n",
      "  significant_data = data[(data.flux / data.fluxerr) > minsnr]\n"
     ]
    },
    {
     "name": "stdout",
     "output_type": "stream",
     "text": [
      "WARNING : That was no valid light curve.\n",
      "None\n"
     ]
    },
    {
     "name": "stderr",
     "output_type": "stream",
     "text": [
      "/Users/manon/opt/anaconda3/lib/python3.9/site-packages/sncosmo/fitting.py:235: RuntimeWarning: invalid value encountered in true_divide\n",
      "  significant_data = data[(data.flux / data.fluxerr) > minsnr]\n"
     ]
    },
    {
     "name": "stdout",
     "output_type": "stream",
     "text": [
      "WARNING : That was no valid light curve.\n",
      "None\n"
     ]
    },
    {
     "name": "stderr",
     "output_type": "stream",
     "text": [
      "/Users/manon/opt/anaconda3/lib/python3.9/site-packages/sncosmo/fitting.py:235: RuntimeWarning: invalid value encountered in true_divide\n",
      "  significant_data = data[(data.flux / data.fluxerr) > minsnr]\n"
     ]
    },
    {
     "name": "stdout",
     "output_type": "stream",
     "text": [
      "WARNING : That was no valid light curve.\n",
      "None\n"
     ]
    },
    {
     "name": "stderr",
     "output_type": "stream",
     "text": [
      "/Users/manon/opt/anaconda3/lib/python3.9/site-packages/sncosmo/fitting.py:235: RuntimeWarning: invalid value encountered in true_divide\n",
      "  significant_data = data[(data.flux / data.fluxerr) > minsnr]\n"
     ]
    },
    {
     "name": "stdout",
     "output_type": "stream",
     "text": [
      "WARNING : That was no valid light curve.\n",
      "None\n"
     ]
    },
    {
     "name": "stderr",
     "output_type": "stream",
     "text": [
      "/Users/manon/opt/anaconda3/lib/python3.9/site-packages/sncosmo/fitting.py:235: RuntimeWarning: invalid value encountered in true_divide\n",
      "  significant_data = data[(data.flux / data.fluxerr) > minsnr]\n"
     ]
    },
    {
     "name": "stdout",
     "output_type": "stream",
     "text": [
      "WARNING : That was no valid light curve.\n",
      "None\n"
     ]
    },
    {
     "name": "stderr",
     "output_type": "stream",
     "text": [
      "/Users/manon/opt/anaconda3/lib/python3.9/site-packages/sncosmo/fitting.py:235: RuntimeWarning: invalid value encountered in true_divide\n",
      "  significant_data = data[(data.flux / data.fluxerr) > minsnr]\n"
     ]
    },
    {
     "name": "stdout",
     "output_type": "stream",
     "text": [
      "WARNING : That was no valid light curve.\n",
      "None\n"
     ]
    },
    {
     "name": "stderr",
     "output_type": "stream",
     "text": [
      "/Users/manon/opt/anaconda3/lib/python3.9/site-packages/sncosmo/fitting.py:235: RuntimeWarning: invalid value encountered in true_divide\n",
      "  significant_data = data[(data.flux / data.fluxerr) > minsnr]\n"
     ]
    },
    {
     "name": "stdout",
     "output_type": "stream",
     "text": [
      "WARNING : That was no valid light curve.\n",
      "None\n"
     ]
    },
    {
     "name": "stderr",
     "output_type": "stream",
     "text": [
      "/Users/manon/opt/anaconda3/lib/python3.9/site-packages/sncosmo/fitting.py:235: RuntimeWarning: invalid value encountered in true_divide\n",
      "  significant_data = data[(data.flux / data.fluxerr) > minsnr]\n"
     ]
    },
    {
     "name": "stdout",
     "output_type": "stream",
     "text": [
      "WARNING : That was no valid light curve.\n",
      "None\n"
     ]
    },
    {
     "name": "stderr",
     "output_type": "stream",
     "text": [
      "/Users/manon/opt/anaconda3/lib/python3.9/site-packages/sncosmo/fitting.py:235: RuntimeWarning: invalid value encountered in true_divide\n",
      "  significant_data = data[(data.flux / data.fluxerr) > minsnr]\n"
     ]
    },
    {
     "name": "stdout",
     "output_type": "stream",
     "text": [
      "WARNING : That was no valid light curve.\n",
      "None\n"
     ]
    },
    {
     "name": "stderr",
     "output_type": "stream",
     "text": [
      "/Users/manon/opt/anaconda3/lib/python3.9/site-packages/sncosmo/fitting.py:235: RuntimeWarning: invalid value encountered in true_divide\n",
      "  significant_data = data[(data.flux / data.fluxerr) > minsnr]\n"
     ]
    },
    {
     "name": "stdout",
     "output_type": "stream",
     "text": [
      "WARNING : That was no valid light curve.\n",
      "None\n"
     ]
    },
    {
     "name": "stderr",
     "output_type": "stream",
     "text": [
      "/Users/manon/opt/anaconda3/lib/python3.9/site-packages/sncosmo/fitting.py:235: RuntimeWarning: invalid value encountered in true_divide\n",
      "  significant_data = data[(data.flux / data.fluxerr) > minsnr]\n"
     ]
    },
    {
     "name": "stdout",
     "output_type": "stream",
     "text": [
      "WARNING : That was no valid light curve.\n",
      "None\n",
      "WARNING : That was no valid light curve.\n",
      "None\n"
     ]
    },
    {
     "name": "stderr",
     "output_type": "stream",
     "text": [
      "/Users/manon/opt/anaconda3/lib/python3.9/site-packages/sncosmo/fitting.py:235: RuntimeWarning: invalid value encountered in true_divide\n",
      "  significant_data = data[(data.flux / data.fluxerr) > minsnr]\n"
     ]
    },
    {
     "name": "stdout",
     "output_type": "stream",
     "text": [
      "WARNING : That was no valid light curve.\n",
      "None\n"
     ]
    },
    {
     "name": "stderr",
     "output_type": "stream",
     "text": [
      "/Users/manon/opt/anaconda3/lib/python3.9/site-packages/sncosmo/fitting.py:235: RuntimeWarning: invalid value encountered in true_divide\n",
      "  significant_data = data[(data.flux / data.fluxerr) > minsnr]\n"
     ]
    },
    {
     "name": "stdout",
     "output_type": "stream",
     "text": [
      "WARNING : That was no valid light curve.\n",
      "None\n"
     ]
    },
    {
     "name": "stderr",
     "output_type": "stream",
     "text": [
      "/Users/manon/opt/anaconda3/lib/python3.9/site-packages/sncosmo/fitting.py:235: RuntimeWarning: invalid value encountered in true_divide\n",
      "  significant_data = data[(data.flux / data.fluxerr) > minsnr]\n"
     ]
    },
    {
     "name": "stdout",
     "output_type": "stream",
     "text": [
      "WARNING : That was no valid light curve.\n",
      "None\n",
      "WARNING : That was no valid light curve.\n",
      "None\n",
      "WARNING : That was no valid light curve.\n",
      "None\n"
     ]
    },
    {
     "name": "stderr",
     "output_type": "stream",
     "text": [
      "/Users/manon/opt/anaconda3/lib/python3.9/site-packages/sncosmo/fitting.py:235: RuntimeWarning: invalid value encountered in true_divide\n",
      "  significant_data = data[(data.flux / data.fluxerr) > minsnr]\n"
     ]
    },
    {
     "name": "stdout",
     "output_type": "stream",
     "text": [
      "WARNING : That was no valid light curve.\n",
      "None\n"
     ]
    },
    {
     "name": "stderr",
     "output_type": "stream",
     "text": [
      "/Users/manon/opt/anaconda3/lib/python3.9/site-packages/sncosmo/fitting.py:235: RuntimeWarning: invalid value encountered in true_divide\n",
      "  significant_data = data[(data.flux / data.fluxerr) > minsnr]\n"
     ]
    },
    {
     "name": "stdout",
     "output_type": "stream",
     "text": [
      "WARNING : That was no valid light curve.\n",
      "None\n"
     ]
    },
    {
     "name": "stderr",
     "output_type": "stream",
     "text": [
      "/Users/manon/opt/anaconda3/lib/python3.9/site-packages/sncosmo/fitting.py:235: RuntimeWarning: invalid value encountered in true_divide\n",
      "  significant_data = data[(data.flux / data.fluxerr) > minsnr]\n"
     ]
    },
    {
     "name": "stdout",
     "output_type": "stream",
     "text": [
      "WARNING : That was no valid light curve.\n",
      "None\n"
     ]
    },
    {
     "name": "stderr",
     "output_type": "stream",
     "text": [
      "/Users/manon/opt/anaconda3/lib/python3.9/site-packages/sncosmo/fitting.py:235: RuntimeWarning: invalid value encountered in true_divide\n",
      "  significant_data = data[(data.flux / data.fluxerr) > minsnr]\n"
     ]
    },
    {
     "name": "stdout",
     "output_type": "stream",
     "text": [
      "WARNING : That was no valid light curve.\n",
      "None\n"
     ]
    },
    {
     "name": "stderr",
     "output_type": "stream",
     "text": [
      "/Users/manon/opt/anaconda3/lib/python3.9/site-packages/sncosmo/fitting.py:235: RuntimeWarning: invalid value encountered in true_divide\n",
      "  significant_data = data[(data.flux / data.fluxerr) > minsnr]\n"
     ]
    },
    {
     "name": "stdout",
     "output_type": "stream",
     "text": [
      "WARNING : That was no valid light curve.\n",
      "None\n"
     ]
    },
    {
     "name": "stderr",
     "output_type": "stream",
     "text": [
      "/Users/manon/opt/anaconda3/lib/python3.9/site-packages/sncosmo/fitting.py:235: RuntimeWarning: invalid value encountered in true_divide\n",
      "  significant_data = data[(data.flux / data.fluxerr) > minsnr]\n"
     ]
    },
    {
     "name": "stdout",
     "output_type": "stream",
     "text": [
      "WARNING : That was no valid light curve.\n",
      "None\n"
     ]
    },
    {
     "name": "stderr",
     "output_type": "stream",
     "text": [
      "/Users/manon/opt/anaconda3/lib/python3.9/site-packages/sncosmo/fitting.py:235: RuntimeWarning: invalid value encountered in true_divide\n",
      "  significant_data = data[(data.flux / data.fluxerr) > minsnr]\n"
     ]
    },
    {
     "name": "stdout",
     "output_type": "stream",
     "text": [
      "WARNING : That was no valid light curve.\n",
      "None\n"
     ]
    },
    {
     "name": "stderr",
     "output_type": "stream",
     "text": [
      "/Users/manon/opt/anaconda3/lib/python3.9/site-packages/sncosmo/fitting.py:235: RuntimeWarning: invalid value encountered in true_divide\n",
      "  significant_data = data[(data.flux / data.fluxerr) > minsnr]\n"
     ]
    },
    {
     "name": "stdout",
     "output_type": "stream",
     "text": [
      "WARNING : That was no valid light curve.\n",
      "None\n"
     ]
    },
    {
     "name": "stderr",
     "output_type": "stream",
     "text": [
      "/Users/manon/opt/anaconda3/lib/python3.9/site-packages/sncosmo/fitting.py:235: RuntimeWarning: invalid value encountered in true_divide\n",
      "  significant_data = data[(data.flux / data.fluxerr) > minsnr]\n"
     ]
    },
    {
     "name": "stdout",
     "output_type": "stream",
     "text": [
      "WARNING : That was no valid light curve.\n",
      "None\n"
     ]
    },
    {
     "name": "stderr",
     "output_type": "stream",
     "text": [
      "/Users/manon/opt/anaconda3/lib/python3.9/site-packages/sncosmo/fitting.py:235: RuntimeWarning: invalid value encountered in true_divide\n",
      "  significant_data = data[(data.flux / data.fluxerr) > minsnr]\n"
     ]
    },
    {
     "name": "stdout",
     "output_type": "stream",
     "text": [
      "WARNING : That was no valid light curve.\n",
      "None\n"
     ]
    },
    {
     "name": "stderr",
     "output_type": "stream",
     "text": [
      "/Users/manon/opt/anaconda3/lib/python3.9/site-packages/sncosmo/fitting.py:235: RuntimeWarning: invalid value encountered in true_divide\n",
      "  significant_data = data[(data.flux / data.fluxerr) > minsnr]\n"
     ]
    },
    {
     "name": "stdout",
     "output_type": "stream",
     "text": [
      "WARNING : That was no valid light curve.\n",
      "None\n",
      "WARNING : That was no valid light curve.\n",
      "None\n"
     ]
    },
    {
     "name": "stderr",
     "output_type": "stream",
     "text": [
      "/Users/manon/opt/anaconda3/lib/python3.9/site-packages/sncosmo/fitting.py:235: RuntimeWarning: invalid value encountered in true_divide\n",
      "  significant_data = data[(data.flux / data.fluxerr) > minsnr]\n"
     ]
    },
    {
     "name": "stdout",
     "output_type": "stream",
     "text": [
      "WARNING : That was no valid light curve.\n",
      "None\n"
     ]
    },
    {
     "name": "stderr",
     "output_type": "stream",
     "text": [
      "/Users/manon/opt/anaconda3/lib/python3.9/site-packages/sncosmo/fitting.py:235: RuntimeWarning: invalid value encountered in true_divide\n",
      "  significant_data = data[(data.flux / data.fluxerr) > minsnr]\n"
     ]
    },
    {
     "name": "stdout",
     "output_type": "stream",
     "text": [
      "WARNING : That was no valid light curve.\n",
      "None\n"
     ]
    },
    {
     "name": "stderr",
     "output_type": "stream",
     "text": [
      "/Users/manon/opt/anaconda3/lib/python3.9/site-packages/sncosmo/fitting.py:235: RuntimeWarning: invalid value encountered in true_divide\n",
      "  significant_data = data[(data.flux / data.fluxerr) > minsnr]\n"
     ]
    },
    {
     "name": "stdout",
     "output_type": "stream",
     "text": [
      "WARNING : That was no valid light curve.\n",
      "None\n"
     ]
    },
    {
     "name": "stderr",
     "output_type": "stream",
     "text": [
      "/Users/manon/opt/anaconda3/lib/python3.9/site-packages/sncosmo/fitting.py:235: RuntimeWarning: invalid value encountered in true_divide\n",
      "  significant_data = data[(data.flux / data.fluxerr) > minsnr]\n"
     ]
    },
    {
     "name": "stdout",
     "output_type": "stream",
     "text": [
      "WARNING : That was no valid light curve.\n",
      "None\n"
     ]
    },
    {
     "name": "stderr",
     "output_type": "stream",
     "text": [
      "/Users/manon/opt/anaconda3/lib/python3.9/site-packages/sncosmo/fitting.py:235: RuntimeWarning: invalid value encountered in true_divide\n",
      "  significant_data = data[(data.flux / data.fluxerr) > minsnr]\n"
     ]
    },
    {
     "name": "stdout",
     "output_type": "stream",
     "text": [
      "WARNING : That was no valid light curve.\n",
      "None\n"
     ]
    },
    {
     "name": "stderr",
     "output_type": "stream",
     "text": [
      "/Users/manon/opt/anaconda3/lib/python3.9/site-packages/sncosmo/fitting.py:235: RuntimeWarning: invalid value encountered in true_divide\n",
      "  significant_data = data[(data.flux / data.fluxerr) > minsnr]\n"
     ]
    },
    {
     "name": "stdout",
     "output_type": "stream",
     "text": [
      "WARNING : That was no valid light curve.\n",
      "None\n"
     ]
    },
    {
     "name": "stderr",
     "output_type": "stream",
     "text": [
      "/Users/manon/opt/anaconda3/lib/python3.9/site-packages/sncosmo/fitting.py:235: RuntimeWarning: invalid value encountered in true_divide\n",
      "  significant_data = data[(data.flux / data.fluxerr) > minsnr]\n"
     ]
    },
    {
     "name": "stdout",
     "output_type": "stream",
     "text": [
      "WARNING : That was no valid light curve.\n",
      "None\n",
      "WARNING : That was no valid light curve.\n",
      "None\n"
     ]
    },
    {
     "name": "stderr",
     "output_type": "stream",
     "text": [
      "/Users/manon/opt/anaconda3/lib/python3.9/site-packages/sncosmo/fitting.py:235: RuntimeWarning: invalid value encountered in true_divide\n",
      "  significant_data = data[(data.flux / data.fluxerr) > minsnr]\n"
     ]
    },
    {
     "name": "stdout",
     "output_type": "stream",
     "text": [
      "WARNING : That was no valid light curve.\n",
      "None\n"
     ]
    },
    {
     "name": "stderr",
     "output_type": "stream",
     "text": [
      "/Users/manon/opt/anaconda3/lib/python3.9/site-packages/sncosmo/fitting.py:235: RuntimeWarning: invalid value encountered in true_divide\n",
      "  significant_data = data[(data.flux / data.fluxerr) > minsnr]\n"
     ]
    },
    {
     "name": "stdout",
     "output_type": "stream",
     "text": [
      "WARNING : That was no valid light curve.\n",
      "None\n"
     ]
    },
    {
     "name": "stderr",
     "output_type": "stream",
     "text": [
      "/Users/manon/opt/anaconda3/lib/python3.9/site-packages/sncosmo/fitting.py:235: RuntimeWarning: invalid value encountered in true_divide\n",
      "  significant_data = data[(data.flux / data.fluxerr) > minsnr]\n"
     ]
    },
    {
     "name": "stdout",
     "output_type": "stream",
     "text": [
      "WARNING : That was no valid light curve.\n",
      "None\n"
     ]
    },
    {
     "name": "stderr",
     "output_type": "stream",
     "text": [
      "/Users/manon/opt/anaconda3/lib/python3.9/site-packages/sncosmo/fitting.py:235: RuntimeWarning: invalid value encountered in true_divide\n",
      "  significant_data = data[(data.flux / data.fluxerr) > minsnr]\n"
     ]
    },
    {
     "name": "stdout",
     "output_type": "stream",
     "text": [
      "WARNING : That was no valid light curve.\n",
      "None\n"
     ]
    },
    {
     "name": "stderr",
     "output_type": "stream",
     "text": [
      "/Users/manon/opt/anaconda3/lib/python3.9/site-packages/sncosmo/fitting.py:235: RuntimeWarning: invalid value encountered in true_divide\n",
      "  significant_data = data[(data.flux / data.fluxerr) > minsnr]\n"
     ]
    },
    {
     "name": "stdout",
     "output_type": "stream",
     "text": [
      "WARNING : That was no valid light curve.\n",
      "None\n"
     ]
    },
    {
     "name": "stderr",
     "output_type": "stream",
     "text": [
      "/Users/manon/opt/anaconda3/lib/python3.9/site-packages/sncosmo/fitting.py:235: RuntimeWarning: invalid value encountered in true_divide\n",
      "  significant_data = data[(data.flux / data.fluxerr) > minsnr]\n"
     ]
    },
    {
     "name": "stdout",
     "output_type": "stream",
     "text": [
      "WARNING : That was no valid light curve.\n",
      "None\n"
     ]
    },
    {
     "name": "stderr",
     "output_type": "stream",
     "text": [
      "/Users/manon/opt/anaconda3/lib/python3.9/site-packages/sncosmo/fitting.py:235: RuntimeWarning: invalid value encountered in true_divide\n",
      "  significant_data = data[(data.flux / data.fluxerr) > minsnr]\n"
     ]
    },
    {
     "name": "stdout",
     "output_type": "stream",
     "text": [
      "WARNING : That was no valid light curve.\n",
      "None\n"
     ]
    },
    {
     "name": "stderr",
     "output_type": "stream",
     "text": [
      "/Users/manon/opt/anaconda3/lib/python3.9/site-packages/sncosmo/fitting.py:235: RuntimeWarning: invalid value encountered in true_divide\n",
      "  significant_data = data[(data.flux / data.fluxerr) > minsnr]\n"
     ]
    },
    {
     "name": "stdout",
     "output_type": "stream",
     "text": [
      "WARNING : That was no valid light curve.\n",
      "None\n"
     ]
    },
    {
     "name": "stderr",
     "output_type": "stream",
     "text": [
      "/Users/manon/opt/anaconda3/lib/python3.9/site-packages/sncosmo/fitting.py:235: RuntimeWarning: invalid value encountered in true_divide\n",
      "  significant_data = data[(data.flux / data.fluxerr) > minsnr]\n"
     ]
    },
    {
     "name": "stdout",
     "output_type": "stream",
     "text": [
      "WARNING : That was no valid light curve.\n",
      "None\n"
     ]
    },
    {
     "name": "stderr",
     "output_type": "stream",
     "text": [
      "/Users/manon/opt/anaconda3/lib/python3.9/site-packages/sncosmo/fitting.py:235: RuntimeWarning: invalid value encountered in true_divide\n",
      "  significant_data = data[(data.flux / data.fluxerr) > minsnr]\n"
     ]
    },
    {
     "name": "stdout",
     "output_type": "stream",
     "text": [
      "WARNING : That was no valid light curve.\n",
      "None\n"
     ]
    },
    {
     "name": "stderr",
     "output_type": "stream",
     "text": [
      "/Users/manon/opt/anaconda3/lib/python3.9/site-packages/sncosmo/fitting.py:235: RuntimeWarning: invalid value encountered in true_divide\n",
      "  significant_data = data[(data.flux / data.fluxerr) > minsnr]\n"
     ]
    },
    {
     "name": "stdout",
     "output_type": "stream",
     "text": [
      "WARNING : That was no valid light curve.\n",
      "None\n"
     ]
    },
    {
     "name": "stderr",
     "output_type": "stream",
     "text": [
      "/Users/manon/opt/anaconda3/lib/python3.9/site-packages/sncosmo/fitting.py:235: RuntimeWarning: invalid value encountered in true_divide\n",
      "  significant_data = data[(data.flux / data.fluxerr) > minsnr]\n"
     ]
    },
    {
     "name": "stdout",
     "output_type": "stream",
     "text": [
      "WARNING : That was no valid light curve.\n",
      "None\n"
     ]
    },
    {
     "name": "stderr",
     "output_type": "stream",
     "text": [
      "/Users/manon/opt/anaconda3/lib/python3.9/site-packages/sncosmo/fitting.py:235: RuntimeWarning: invalid value encountered in true_divide\n",
      "  significant_data = data[(data.flux / data.fluxerr) > minsnr]\n"
     ]
    },
    {
     "name": "stdout",
     "output_type": "stream",
     "text": [
      "WARNING : That was no valid light curve.\n",
      "None\n",
      "WARNING : That was no valid light curve.\n",
      "None\n"
     ]
    },
    {
     "name": "stderr",
     "output_type": "stream",
     "text": [
      "/Users/manon/opt/anaconda3/lib/python3.9/site-packages/sncosmo/fitting.py:235: RuntimeWarning: invalid value encountered in true_divide\n",
      "  significant_data = data[(data.flux / data.fluxerr) > minsnr]\n"
     ]
    },
    {
     "name": "stdout",
     "output_type": "stream",
     "text": [
      "WARNING : That was no valid light curve.\n",
      "None\n"
     ]
    },
    {
     "name": "stderr",
     "output_type": "stream",
     "text": [
      "/Users/manon/opt/anaconda3/lib/python3.9/site-packages/sncosmo/fitting.py:235: RuntimeWarning: invalid value encountered in true_divide\n",
      "  significant_data = data[(data.flux / data.fluxerr) > minsnr]\n"
     ]
    },
    {
     "name": "stdout",
     "output_type": "stream",
     "text": [
      "WARNING : That was no valid light curve.\n",
      "None\n"
     ]
    },
    {
     "name": "stderr",
     "output_type": "stream",
     "text": [
      "/Users/manon/opt/anaconda3/lib/python3.9/site-packages/sncosmo/fitting.py:235: RuntimeWarning: invalid value encountered in true_divide\n",
      "  significant_data = data[(data.flux / data.fluxerr) > minsnr]\n"
     ]
    },
    {
     "name": "stdout",
     "output_type": "stream",
     "text": [
      "WARNING : That was no valid light curve.\n",
      "None\n"
     ]
    },
    {
     "name": "stderr",
     "output_type": "stream",
     "text": [
      "/Users/manon/opt/anaconda3/lib/python3.9/site-packages/sncosmo/fitting.py:235: RuntimeWarning: invalid value encountered in true_divide\n",
      "  significant_data = data[(data.flux / data.fluxerr) > minsnr]\n"
     ]
    },
    {
     "name": "stdout",
     "output_type": "stream",
     "text": [
      "WARNING : That was no valid light curve.\n",
      "None\n"
     ]
    },
    {
     "name": "stderr",
     "output_type": "stream",
     "text": [
      "/Users/manon/opt/anaconda3/lib/python3.9/site-packages/sncosmo/fitting.py:235: RuntimeWarning: invalid value encountered in true_divide\n",
      "  significant_data = data[(data.flux / data.fluxerr) > minsnr]\n"
     ]
    },
    {
     "name": "stdout",
     "output_type": "stream",
     "text": [
      "WARNING : That was no valid light curve.\n",
      "None\n"
     ]
    },
    {
     "name": "stderr",
     "output_type": "stream",
     "text": [
      "/Users/manon/opt/anaconda3/lib/python3.9/site-packages/sncosmo/fitting.py:235: RuntimeWarning: invalid value encountered in true_divide\n",
      "  significant_data = data[(data.flux / data.fluxerr) > minsnr]\n"
     ]
    },
    {
     "name": "stdout",
     "output_type": "stream",
     "text": [
      "WARNING : That was no valid light curve.\n",
      "None\n"
     ]
    },
    {
     "name": "stderr",
     "output_type": "stream",
     "text": [
      "/Users/manon/opt/anaconda3/lib/python3.9/site-packages/sncosmo/fitting.py:235: RuntimeWarning: invalid value encountered in true_divide\n",
      "  significant_data = data[(data.flux / data.fluxerr) > minsnr]\n"
     ]
    },
    {
     "name": "stdout",
     "output_type": "stream",
     "text": [
      "WARNING : That was no valid light curve.\n",
      "None\n"
     ]
    }
   ],
   "source": [
    "mask_pass_selec = new_read_meta['pass selec'] == 1\n",
    "new_read_meta = new_read_meta[mask_pass_selec]\n",
    "\n",
    "class_tab = SN_fit_tab(metaTable = new_read_meta, dataFile='data_simu_nb.hdf5', param = ['t0', 'x0', 'x1', 'c'])\n",
    "t = class_tab.addto_meta()"
   ]
  },
  {
   "cell_type": "code",
   "execution_count": 5,
   "id": "7e26058c",
   "metadata": {},
   "outputs": [
    {
     "name": "stdout",
     "output_type": "stream",
     "text": [
      "File already exist : file remove\n"
     ]
    },
    {
     "name": "stderr",
     "output_type": "stream",
     "text": [
      "WARNING: Attribute `__serialized_columns__` of type <class 'dict'> cannot be written to HDF5 files - skipping. (Consider specifying serialize_meta=True to write all meta data) [astropy.io.misc.hdf5]\n"
     ]
    }
   ],
   "source": [
    "if os.path.isfile('dataLC/meta_fitted.hdf5'):\n",
    "    print('File already exist : file remove')\n",
    "    os.remove('dataLC/meta_fitted.hdf5')\n",
    "else:\n",
    "    print('')\n",
    "    \n",
    "astropy.io.misc.hdf5.write_table_hdf5(t, 'dataLC/meta_fitted.hdf5', path='meta', append=True,\n",
    "                                                  overwrite=True, serialize_meta=False)"
   ]
  },
  {
   "cell_type": "code",
   "execution_count": 6,
   "id": "72621f0b",
   "metadata": {
    "scrolled": true
   },
   "outputs": [
    {
     "data": {
      "text/html": [
       "<div><i>Table length=672</i>\n",
       "<table id=\"table140469462005120\" class=\"table-striped table-bordered table-condensed\">\n",
       "<thead><tr><th>z</th><th>t0</th><th>x0</th><th>x1</th><th>c</th><th>mwebv</th><th>ra</th><th>dec</th><th>mwebv_sfd98</th><th>idx_orig</th><th>path</th><th>nb_phase&lt;0</th><th>nb_phase&gt;0</th><th>nb_phase&lt;-10</th><th>nb_phase&gt;20</th><th>nb_band_ztfr</th><th>nb_band_ztfg</th><th>nb_band_ztfi</th><th>pass selec</th><th>col0</th><th>col0.mask</th><th>z_fit</th><th>z_err</th><th>t0_fit</th><th>t0_err</th><th>x0_fit</th><th>x0_err</th><th>x1_fit</th><th>x1_err</th><th>c_fit</th><th>c_err</th><th>chisq</th><th>ndof</th><th>z_t0_cov</th><th>z_x0_cov</th><th>z_x1_cov</th><th>z_c_cov</th><th>x0_t0_cov</th><th>x0_x1_cov</th><th>x0_c_cov</th><th>t0_x1_cov</th><th>t0_c_cov</th><th>x1_c_cov</th></tr></thead>\n",
       "<thead><tr><th>float64</th><th>float64</th><th>float64</th><th>float64</th><th>float64</th><th>float64</th><th>float64</th><th>float64</th><th>float64</th><th>int64</th><th>str7</th><th>int64</th><th>int64</th><th>int64</th><th>int64</th><th>int64</th><th>int64</th><th>int64</th><th>int64</th><th>float64</th><th>bool</th><th>float64</th><th>float64</th><th>float64</th><th>float64</th><th>float64</th><th>float64</th><th>float64</th><th>float64</th><th>float64</th><th>float64</th><th>float64</th><th>int64</th><th>float64</th><th>float64</th><th>float64</th><th>float64</th><th>float64</th><th>float64</th><th>float64</th><th>float64</th><th>float64</th><th>float64</th></tr></thead>\n",
       "<tr><td>0.09496615230696706</td><td>58311.20197489228</td><td>0.0006119488225370554</td><td>0.7980226932864936</td><td>-0.050078362872994435</td><td>0.012269386001239686</td><td>220.163406234109</td><td>56.56643570276057</td><td>0.01422503874472932</td><td>6</td><td>SN_3</td><td>42</td><td>73</td><td>21</td><td>44</td><td>68</td><td>38</td><td>9</td><td>1</td><td>0.0</td><td>True</td><td>0.09496615230696706</td><td>0.0</td><td>58310.992291233946</td><td>0.06921235890331445</td><td>0.0006191124878548048</td><td>6.659448673774444e-06</td><td>0.7049251986969172</td><td>0.0947768193731289</td><td>-0.06770492074692461</td><td>0.009315923966496218</td><td>299.2007009521245</td><td>267</td><td>0.0</td><td>0.0</td><td>0.0</td><td>0.0</td><td>1.3083278241963137e-08</td><td>-3.9424789019968685e-07</td><td>-3.8204101920759276e-08</td><td>0.001982094949494856</td><td>-7.463343166585065e-05</td><td>7.926471706490327e-05</td></tr>\n",
       "<tr><td>0.07864194667329098</td><td>58334.909398505326</td><td>0.0009331921528894242</td><td>0.4480246584401117</td><td>-0.12112950761147448</td><td>0.055517227748341544</td><td>261.1530093052832</td><td>20.720253108136966</td><td>0.05042068232864323</td><td>8</td><td>SN_5</td><td>8</td><td>32</td><td>2</td><td>18</td><td>19</td><td>12</td><td>9</td><td>1</td><td>0.0</td><td>True</td><td>0.07864194667329098</td><td>0.0</td><td>58334.805338182996</td><td>0.1517057966448192</td><td>0.0009282463920255894</td><td>1.3344618244964551e-05</td><td>0.537063574751798</td><td>0.1392305656697989</td><td>-0.12177885108653563</td><td>0.012949614059842171</td><td>49.228119217203925</td><td>53</td><td>0.0</td><td>0.0</td><td>0.0</td><td>0.0</td><td>-2.090280266122562e-07</td><td>-7.463598309625898e-07</td><td>-1.189848979591377e-07</td><td>-0.0008250047663085964</td><td>-7.310496808670078e-05</td><td>-4.8899014195487566e-05</td></tr>\n",
       "<tr><td>0.06350687289352495</td><td>58285.42305707414</td><td>0.0010296304646536993</td><td>-0.4535401128481856</td><td>-0.023769855002025764</td><td>0.010812825738655957</td><td>232.86450937143496</td><td>48.44589718330789</td><td>0.01271561381923838</td><td>11</td><td>SN_8</td><td>86</td><td>188</td><td>24</td><td>94</td><td>156</td><td>108</td><td>10</td><td>1</td><td>0.0</td><td>True</td><td>0.06350687289352495</td><td>0.0</td><td>58285.39934200462</td><td>0.026705242838943377</td><td>0.0010333327458604091</td><td>4.5923827168362645e-06</td><td>-0.4558806862758959</td><td>0.03258067463329987</td><td>-0.025565039848922794</td><td>0.003784298533205558</td><td>381.7542661838446</td><td>381</td><td>0.0</td><td>0.0</td><td>0.0</td><td>0.0</td><td>-4.122423883443095e-09</td><td>-8.073074631964782e-08</td><td>-1.406954560668442e-08</td><td>0.0002607781512041929</td><td>2.2095647765835135e-06</td><td>3.5052159617437854e-05</td></tr>\n",
       "<tr><td>0.05647814437682584</td><td>58352.113433949526</td><td>0.0009241014179105386</td><td>1.2917456278751926</td><td>0.1437480592708887</td><td>0.02770856445815746</td><td>227.39289295201368</td><td>68.19509102999442</td><td>0.018160189253985135</td><td>16</td><td>SN_12</td><td>27</td><td>44</td><td>3</td><td>15</td><td>42</td><td>25</td><td>4</td><td>1</td><td>0.0</td><td>True</td><td>0.05647814437682584</td><td>0.0</td><td>58351.87000446813</td><td>0.07996114717752789</td><td>0.000926687469508815</td><td>8.738782527149605e-06</td><td>1.3684062793160723</td><td>0.09268653904694926</td><td>0.13364330750861764</td><td>0.007776943975820487</td><td>116.5939800722158</td><td>109</td><td>0.0</td><td>0.0</td><td>0.0</td><td>0.0</td><td>-1.5034727746878912e-08</td><td>-3.953114685911886e-07</td><td>-6.11218388819289e-08</td><td>0.0007901967598602192</td><td>4.0486846383459716e-05</td><td>0.0002853278963298759</td></tr>\n",
       "<tr><td>0.05704765622053076</td><td>58209.52125745381</td><td>0.0010452101539038625</td><td>-0.8383780581478772</td><td>-0.011578611391709766</td><td>0.02659784947453422</td><td>199.2291487893578</td><td>-0.14687317039898423</td><td>0.019850719169121935</td><td>17</td><td>SN_13</td><td>5</td><td>19</td><td>1</td><td>11</td><td>16</td><td>8</td><td>0</td><td>1</td><td>0.0</td><td>True</td><td>0.05704765622053076</td><td>0.0</td><td>58209.62684320788</td><td>0.1634412204803084</td><td>0.0010710695002493305</td><td>2.5362662242138452e-05</td><td>-1.1954475662934585</td><td>0.1555858967041974</td><td>-0.006169321714812731</td><td>0.02248153870499304</td><td>11.628684107969892</td><td>24</td><td>0.0</td><td>0.0</td><td>0.0</td><td>0.0</td><td>1.1033821709353508e-06</td><td>-8.673061761828804e-07</td><td>-4.5851657134635067e-07</td><td>0.006467152130456094</td><td>-0.0018725433854185286</td><td>-0.0006680910242650744</td></tr>\n",
       "<tr><td>0.04963981168196111</td><td>58274.60936929726</td><td>0.001993874169364107</td><td>0.31534820634255284</td><td>-0.030558005979771333</td><td>0.09481235974977135</td><td>224.10584979603783</td><td>-15.3583661488368</td><td>0.08482867742206854</td><td>19</td><td>SN_14</td><td>10</td><td>29</td><td>3</td><td>10</td><td>19</td><td>20</td><td>0</td><td>1</td><td>0.0</td><td>True</td><td>0.04963981168196111</td><td>0.0</td><td>58274.60659511528</td><td>0.11365927080623806</td><td>0.0019713444089903926</td><td>2.0847586383676345e-05</td><td>0.36744025923475815</td><td>0.12077192759950026</td><td>-0.019114210649546548</td><td>0.008899097611259236</td><td>49.588383583529094</td><td>48</td><td>0.0</td><td>0.0</td><td>0.0</td><td>0.0</td><td>-5.218495416693545e-07</td><td>-1.265389862096791e-06</td><td>-1.4968032625645176e-07</td><td>-0.0036318762376565078</td><td>4.776094216872663e-05</td><td>0.00034410464483976017</td></tr>\n",
       "<tr><td>0.09924158873036648</td><td>58342.68538742703</td><td>0.0004228687086892035</td><td>1.3195902193326556</td><td>0.016233541013785515</td><td>0.031057187065401146</td><td>2.7374615360018018</td><td>27.753565776950595</td><td>0.03657677374279575</td><td>23</td><td>SN_17</td><td>10</td><td>45</td><td>1</td><td>35</td><td>24</td><td>16</td><td>15</td><td>1</td><td>0.0</td><td>True</td><td>0.09924158873036648</td><td>0.0</td><td>58342.79324928532</td><td>0.1873316528290161</td><td>0.00041896487202878704</td><td>8.708722025707742e-06</td><td>1.1312658493413745</td><td>0.1670767655759728</td><td>0.017888529245575466</td><td>0.016044292127402094</td><td>72.82992120105072</td><td>80</td><td>0.0</td><td>0.0</td><td>0.0</td><td>0.0</td><td>-1.6265679655737224e-07</td><td>-7.467385849952428e-07</td><td>-1.0653344825947764e-07</td><td>-0.004247945411232935</td><td>0.0003766208892996794</td><td>0.00018021554868427852</td></tr>\n",
       "<tr><td>0.0696175414329167</td><td>58334.663924220855</td><td>0.0008964998970484629</td><td>-0.017843871872983825</td><td>-0.00446270104606232</td><td>0.03241402530152532</td><td>41.942059913548995</td><td>-1.484663706801985</td><td>0.0345202233376979</td><td>28</td><td>SN_22</td><td>6</td><td>89</td><td>3</td><td>64</td><td>57</td><td>38</td><td>0</td><td>1</td><td>0.0</td><td>True</td><td>0.0696175414329167</td><td>0.0</td><td>58334.75071989158</td><td>0.11001459235194488</td><td>0.000896073595456775</td><td>1.33048163275117e-05</td><td>-0.06751107720025108</td><td>0.0779104975562367</td><td>-0.004188268021097474</td><td>0.010285532503305</td><td>109.29647397904132</td><td>104</td><td>0.0</td><td>0.0</td><td>0.0</td><td>0.0</td><td>-5.913896303183345e-07</td><td>-6.073596604605752e-07</td><td>-1.0676233072845872e-07</td><td>-0.00021246723872638036</td><td>0.000233057545770309</td><td>0.0001788486954194073</td></tr>\n",
       "<tr><td>0.0694164026092382</td><td>58371.77444336007</td><td>0.000564647617514307</td><td>-0.14276366969881227</td><td>0.11155048501476086</td><td>0.26530438068811735</td><td>334.52769567378726</td><td>50.05340688695361</td><td>0.2668933241692984</td><td>29</td><td>SN_23</td><td>23</td><td>41</td><td>3</td><td>1</td><td>39</td><td>25</td><td>0</td><td>1</td><td>0.0</td><td>True</td><td>0.0694164026092382</td><td>0.0</td><td>58371.83751366251</td><td>0.14773142163903685</td><td>0.0005787743476630301</td><td>1.1060771652237414e-05</td><td>-0.15450620135545823</td><td>0.224070312900939</td><td>0.07885945271752741</td><td>0.01629636421872616</td><td>127.43152052914868</td><td>132</td><td>0.0</td><td>0.0</td><td>0.0</td><td>0.0</td><td>-2.9744899695327435e-07</td><td>-1.1428372680891572e-06</td><td>-1.5429659195577268e-07</td><td>0.010743048058510013</td><td>0.0003785301146672591</td><td>0.0009795752804402959</td></tr>\n",
       "<tr><td>0.09819494260279925</td><td>58358.68238861098</td><td>0.00029850589445567133</td><td>-0.22831333803477277</td><td>0.09561016569919994</td><td>0.070875890288129</td><td>33.783195646280156</td><td>14.573048237620366</td><td>0.0703366139528807</td><td>33</td><td>SN_26</td><td>48</td><td>76</td><td>17</td><td>22</td><td>74</td><td>50</td><td>0</td><td>1</td><td>0.0</td><td>True</td><td>0.09819494260279925</td><td>0.0</td><td>58358.64313451356</td><td>0.0874176998368057</td><td>0.00030527454655641966</td><td>5.815152679520541e-06</td><td>-0.281370068479944</td><td>0.13897298221699192</td><td>0.07860377935537367</td><td>0.014936666491516504</td><td>147.31502970458243</td><td>162</td><td>0.0</td><td>0.0</td><td>0.0</td><td>0.0</td><td>-2.1000606218597233e-07</td><td>-6.435594743688874e-07</td><td>-7.496976801545015e-08</td><td>0.00607247193351231</td><td>0.00047530669831635227</td><td>0.0012251597765105496</td></tr>\n",
       "<tr><td>0.09701056376486197</td><td>58351.927437663</td><td>0.0002807248391629498</td><td>0.5691590262331854</td><td>0.14562100116385432</td><td>0.01002792688778861</td><td>249.25613194266316</td><td>50.52421200742129</td><td>0.016390725200979544</td><td>44</td><td>SN_35</td><td>51</td><td>302</td><td>6</td><td>126</td><td>225</td><td>122</td><td>6</td><td>1</td><td>0.0</td><td>True</td><td>0.09701056376486197</td><td>0.0</td><td>58351.91364752946</td><td>0.0971237781959644</td><td>0.0002818458863888823</td><td>2.8622442121567305e-06</td><td>0.588204357985282</td><td>0.0848678072729034</td><td>0.13646402254128084</td><td>0.008344383543615354</td><td>592.6932975337174</td><td>629</td><td>0.0</td><td>0.0</td><td>0.0</td><td>0.0</td><td>-4.0427299813349446e-08</td><td>-1.3704174917354978e-07</td><td>-2.0286532287488294e-08</td><td>-0.002513140305352387</td><td>6.73621444181126e-05</td><td>0.00025576338312466025</td></tr>\n",
       "<tr><td>0.05644093132925671</td><td>58340.08704647273</td><td>0.0010355983826827004</td><td>1.0018927608992734</td><td>0.12092757332380757</td><td>0.028906030666013875</td><td>331.90333314602174</td><td>-9.496441989213878</td><td>0.03125866389642981</td><td>54</td><td>SN_43</td><td>6</td><td>31</td><td>1</td><td>21</td><td>19</td><td>9</td><td>9</td><td>1</td><td>0.0</td><td>True</td><td>0.05644093132925671</td><td>0.0</td><td>58339.885175948126</td><td>0.12595748349485802</td><td>0.00102911717896476</td><td>1.8342317704166796e-05</td><td>1.0898312173782592</td><td>0.11531947050198534</td><td>0.11526879670897235</td><td>0.013133804443691645</td><td>67.82736036817563</td><td>48</td><td>0.0</td><td>0.0</td><td>0.0</td><td>0.0</td><td>-2.947976796345624e-07</td><td>-8.995724304757285e-07</td><td>-2.103047751133434e-07</td><td>5.788779781781056e-05</td><td>8.177366438249903e-05</td><td>0.000291851091205144</td></tr>\n",
       "<tr><td>0.09838491758186267</td><td>58332.69198028366</td><td>0.00043812705711329425</td><td>-0.3121396859677277</td><td>-0.04767210365418435</td><td>0.2902717355963906</td><td>334.73103157092584</td><td>50.78638680638167</td><td>0.2895204837399433</td><td>71</td><td>SN_50</td><td>24</td><td>52</td><td>3</td><td>18</td><td>56</td><td>20</td><td>0</td><td>1</td><td>0.0</td><td>True</td><td>0.09838491758186267</td><td>0.0</td><td>58333.000212284795</td><td>0.2026529562426731</td><td>0.00043662605474179515</td><td>1.3821856716998753e-05</td><td>-0.20772589883369433</td><td>0.19767323221146677</td><td>-0.016629795349853902</td><td>0.026929752320971015</td><td>207.26246787496763</td><td>210</td><td>0.0</td><td>0.0</td><td>0.0</td><td>0.0</td><td>-4.651801771586461e-07</td><td>-1.059766658560855e-06</td><td>-3.308860890364341e-07</td><td>0.0047213019002512275</td><td>0.0007292634103863143</td><td>0.0008289591201250414</td></tr>\n",
       "<tr><td>0.07218665115216936</td><td>58301.75835139844</td><td>0.0005926881996759872</td><td>-0.561117639415752</td><td>0.026078454567741785</td><td>0.37052780548598335</td><td>13.460154323200747</td><td>56.99693013695227</td><td>0.3685396680780247</td><td>76</td><td>SN_54</td><td>10</td><td>28</td><td>4</td><td>13</td><td>27</td><td>11</td><td>0</td><td>1</td><td>0.0</td><td>True</td><td>0.07218665115216936</td><td>0.0</td><td>58301.81705834468</td><td>0.22751710700322292</td><td>0.0006019658691211521</td><td>2.4367898361485393e-05</td><td>-0.760065444206491</td><td>0.20855130777787145</td><td>0.03139306643697834</td><td>0.03301017971491852</td><td>135.06646809755705</td><td>139</td><td>0.0</td><td>0.0</td><td>0.0</td><td>0.0</td><td>-5.251636453953342e-07</td><td>-1.800552158951166e-06</td><td>-6.822423398049632e-07</td><td>0.012576638683403137</td><td>-0.0005068178392967282</td><td>0.0001824020221765006</td></tr>\n",
       "<tr><td>0.05806709148486733</td><td>58260.18619319137</td><td>0.0012533273481088176</td><td>1.2230431898394516</td><td>-0.0026960991857626388</td><td>0.030294168998324492</td><td>193.5005165769534</td><td>20.26753947814704</td><td>0.02151039557422661</td><td>89</td><td>SN_61</td><td>10</td><td>39</td><td>5</td><td>19</td><td>22</td><td>18</td><td>9</td><td>1</td><td>0.0</td><td>True</td><td>0.05806709148486733</td><td>0.0</td><td>58260.01161606928</td><td>0.08616612094920129</td><td>0.0012758760883688912</td><td>1.5907736382411773e-05</td><td>1.1466155442876522</td><td>0.08962588788063436</td><td>-0.026720981269844544</td><td>0.00951880469577265</td><td>75.35077193775118</td><td>66</td><td>0.0</td><td>0.0</td><td>0.0</td><td>0.0</td><td>-4.0134125435190954e-07</td><td>-8.569523780077286e-07</td><td>-1.23533111468789e-07</td><td>0.0010439100943227563</td><td>0.00015539058570572615</td><td>0.000267632247302391</td></tr>\n",
       "<tr><td>0.04070773071537651</td><td>58217.049701918615</td><td>0.0037259396630625113</td><td>0.7435680178839461</td><td>-0.12564182108957325</td><td>0.10047875261477068</td><td>294.90441929481705</td><td>54.40835136883067</td><td>0.08490512031064043</td><td>98</td><td>SN_67</td><td>6</td><td>30</td><td>2</td><td>21</td><td>17</td><td>19</td><td>0</td><td>1</td><td>0.0</td><td>True</td><td>0.04070773071537651</td><td>0.0</td><td>58217.178546076386</td><td>0.06167649567578337</td><td>0.0038832007269647573</td><td>5.927663805471256e-05</td><td>0.664068323176905</td><td>0.09016493687027714</td><td>-0.14847931646998488</td><td>0.011260770585053495</td><td>26.478295706775178</td><td>34</td><td>0.0</td><td>0.0</td><td>0.0</td><td>0.0</td><td>1.2327424782618306e-07</td><td>-4.473026579110594e-06</td><td>-5.912461193350373e-07</td><td>6.574224308622785e-05</td><td>-8.071815034456499e-05</td><td>0.0006634658553047731</td></tr>\n",
       "<tr><td>0.06011245156057485</td><td>58379.8556430964</td><td>0.0009201662853653902</td><td>0.9506145682152785</td><td>0.07017120251317406</td><td>0.04671226724895511</td><td>106.3195486675376</td><td>27.815459961262146</td><td>0.05452174041912972</td><td>99</td><td>SN_68</td><td>8</td><td>21</td><td>2</td><td>10</td><td>16</td><td>13</td><td>0</td><td>1</td><td>0.0</td><td>True</td><td>0.06011245156057485</td><td>0.0</td><td>58379.73221928619</td><td>0.1350542907784984</td><td>0.0009536143402736356</td><td>1.3514561237365094e-05</td><td>0.8669979252571952</td><td>0.15205754961801887</td><td>0.04027241118351674</td><td>0.013094429385530144</td><td>37.83158688207018</td><td>31</td><td>0.0</td><td>0.0</td><td>0.0</td><td>0.0</td><td>-8.152559097538654e-08</td><td>-9.489660491638205e-07</td><td>-1.330918491362111e-07</td><td>0.0059951288648167405</td><td>5.4261621367257683e-05</td><td>0.0002702626951350747</td></tr>\n",
       "<tr><td>0.09117501786464687</td><td>58285.798548875384</td><td>0.00040261242471309705</td><td>1.2618301269129368</td><td>0.13849952201172883</td><td>0.023132547910275726</td><td>186.26517052020787</td><td>56.5547120536188</td><td>0.01043291271066746</td><td>100</td><td>SN_69</td><td>24</td><td>43</td><td>11</td><td>10</td><td>35</td><td>22</td><td>10</td><td>1</td><td>0.0</td><td>True</td><td>0.09117501786464687</td><td>0.0</td><td>58285.584653257916</td><td>0.11311348841627478</td><td>0.00040223902089089707</td><td>7.882854724827853e-06</td><td>1.267659840262506</td><td>0.1787520191222077</td><td>0.12389807904673217</td><td>0.015150763538830197</td><td>188.45621350124202</td><td>184</td><td>0.0</td><td>0.0</td><td>0.0</td><td>0.0</td><td>-2.626943142058928e-07</td><td>-1.008323983796185e-06</td><td>-1.0278774453350446e-07</td><td>0.012272720853009605</td><td>0.0003596845877515992</td><td>0.0014386943974295811</td></tr>\n",
       "<tr><td>0.08816832998515786</td><td>58295.312234728764</td><td>0.0005707681199705236</td><td>0.6122449459166399</td><td>-0.021111730801265848</td><td>0.07739089727724022</td><td>320.08972336435306</td><td>12.210950279818178</td><td>0.07437617466353741</td><td>101</td><td>SN_70</td><td>18</td><td>46</td><td>12</td><td>25</td><td>36</td><td>18</td><td>10</td><td>1</td><td>0.0</td><td>True</td><td>0.08816832998515786</td><td>0.0</td><td>58295.33492718281</td><td>0.09996056701493217</td><td>0.0005600512060464102</td><td>1.209653116725254e-05</td><td>0.8635182722268289</td><td>0.15615249651148752</td><td>-0.029089851727340573</td><td>0.015452207198039357</td><td>132.0564533834059</td><td>132</td><td>0.0</td><td>0.0</td><td>0.0</td><td>0.0</td><td>-3.7421605421503245e-07</td><td>-1.3156299482140776e-06</td><td>-1.3514162090556446e-07</td><td>0.009056821926511034</td><td>0.0001033660768191163</td><td>0.0005727471301067541</td></tr>\n",
       "<tr><td>0.0956132543543666</td><td>58379.67545900487</td><td>0.00033873385939043926</td><td>-0.26292917856471265</td><td>-0.011681630185942316</td><td>0.040680819558640335</td><td>106.84519783721366</td><td>12.939522727037405</td><td>0.04609982664783039</td><td>103</td><td>SN_72</td><td>8</td><td>11</td><td>2</td><td>3</td><td>10</td><td>9</td><td>0</td><td>1</td><td>0.0</td><td>True</td><td>0.0956132543543666</td><td>0.0</td><td>58379.40303478879</td><td>0.3159608700188983</td><td>0.00034796308280149755</td><td>9.896923820068802e-06</td><td>-0.10927301953144576</td><td>0.3504599655729999</td><td>-0.0816690399425873</td><td>0.03309506187875892</td><td>35.43682570794418</td><td>36</td><td>0.0</td><td>0.0</td><td>0.0</td><td>0.0</td><td>-3.744397532038055e-07</td><td>-1.6058198985994818e-06</td><td>-1.7908735058139422e-07</td><td>0.035526272969245064</td><td>0.0009620973517111183</td><td>-0.00029884714126598923</td></tr>\n",
       "<tr><td>...</td><td>...</td><td>...</td><td>...</td><td>...</td><td>...</td><td>...</td><td>...</td><td>...</td><td>...</td><td>...</td><td>...</td><td>...</td><td>...</td><td>...</td><td>...</td><td>...</td><td>...</td><td>...</td><td>...</td><td>...</td><td>...</td><td>...</td><td>...</td><td>...</td><td>...</td><td>...</td><td>...</td><td>...</td><td>...</td><td>...</td><td>...</td><td>...</td><td>...</td><td>...</td><td>...</td><td>...</td><td>...</td><td>...</td><td>...</td><td>...</td><td>...</td><td>...</td></tr>\n",
       "<tr><td>0.060994508684494485</td><td>58297.928891908436</td><td>0.0006817063535978502</td><td>1.7133099824810223</td><td>0.23102533289111152</td><td>0.19714272698505447</td><td>274.4538529132471</td><td>14.749840833479674</td><td>0.18749226782832937</td><td>3404</td><td>SN_2557</td><td>25</td><td>276</td><td>15</td><td>260</td><td>282</td><td>19</td><td>0</td><td>1</td><td>0.0</td><td>True</td><td>0.060994508684494485</td><td>0.0</td><td>58297.713688589225</td><td>0.07733926305445493</td><td>0.0006722510934510217</td><td>1.3881758837348242e-05</td><td>1.7883023942886178</td><td>0.10945574370365009</td><td>0.22262551203003025</td><td>0.016103786653574318</td><td>328.4230342583533</td><td>343</td><td>0.0</td><td>0.0</td><td>0.0</td><td>0.0</td><td>1.6001528792562154e-07</td><td>-5.260666303453512e-07</td><td>-1.63550029664789e-07</td><td>-0.0006847029906835928</td><td>-0.0002630113547777234</td><td>-0.0006034690747577661</td></tr>\n",
       "<tr><td>0.056853364658705455</td><td>58385.051990135464</td><td>0.0013023426622188253</td><td>-0.7704155230860367</td><td>-0.03574049889647984</td><td>0.09616384728516131</td><td>29.971222099262445</td><td>26.000534708180577</td><td>0.07577264049937171</td><td>3407</td><td>SN_2560</td><td>43</td><td>28</td><td>23</td><td>15</td><td>37</td><td>34</td><td>0</td><td>1</td><td>0.0</td><td>True</td><td>0.056853364658705455</td><td>0.0</td><td>58384.93155589255</td><td>0.06383559005189454</td><td>0.0013064742913484534</td><td>9.980410394468726e-06</td><td>-0.8345863188640098</td><td>0.06595857710044482</td><td>-0.04241305941650021</td><td>0.007552280532481851</td><td>162.9722705980268</td><td>142</td><td>0.0</td><td>0.0</td><td>0.0</td><td>0.0</td><td>5.3374014176607015e-08</td><td>-1.2693377992556334e-07</td><td>-5.4018437568896297e-08</td><td>0.0033422061396593664</td><td>7.231814774389356e-05</td><td>9.791910069667598e-05</td></tr>\n",
       "<tr><td>0.081192410850701</td><td>58412.149093259955</td><td>0.0010585296227345804</td><td>-0.6701405204641665</td><td>-0.18718124223983493</td><td>0.032985871129169286</td><td>264.2079128387254</td><td>77.23132813669412</td><td>0.03696699646400228</td><td>3409</td><td>SN_2561</td><td>8</td><td>68</td><td>8</td><td>25</td><td>37</td><td>37</td><td>2</td><td>1</td><td>0.0</td><td>True</td><td>-1.0</td><td>-1.0</td><td>-1.0</td><td>-1.0</td><td>-1.0</td><td>-1.0</td><td>-1.0</td><td>-1.0</td><td>-1.0</td><td>-1.0</td><td>-1.0</td><td>-1</td><td>-1.0</td><td>-1.0</td><td>-1.0</td><td>-1.0</td><td>-1.0</td><td>-1.0</td><td>-1.0</td><td>-1.0</td><td>-1.0</td><td>-1.0</td></tr>\n",
       "<tr><td>0.08753743146338501</td><td>58293.1073461973</td><td>0.0005103734013742985</td><td>0.37600324347844916</td><td>0.007900723591210438</td><td>0.2014792723827877</td><td>259.37663779641457</td><td>1.194084015563561</td><td>0.20212623297664584</td><td>3410</td><td>SN_2562</td><td>9</td><td>12</td><td>4</td><td>4</td><td>13</td><td>8</td><td>0</td><td>1</td><td>0.0</td><td>True</td><td>0.08753743146338501</td><td>0.0</td><td>58293.03202668069</td><td>0.2632926984115329</td><td>0.0005013671727563121</td><td>1.982678290889341e-05</td><td>0.20233222873450554</td><td>0.3471126860749567</td><td>0.05662794981384226</td><td>0.033983575637631935</td><td>30.975536548407323</td><td>36</td><td>0.0</td><td>0.0</td><td>0.0</td><td>0.0</td><td>-5.189817906483821e-07</td><td>-3.1625451917795366e-06</td><td>-5.263797241610254e-07</td><td>0.04899659959023626</td><td>0.0006787663483968522</td><td>0.0016190904983316619</td></tr>\n",
       "<tr><td>0.09182008055008394</td><td>58382.54069655007</td><td>0.0005984229087271606</td><td>0.684643462089704</td><td>-0.04087366555433791</td><td>0.07137398841406788</td><td>73.36892941261402</td><td>8.154629213603041</td><td>0.08180469345876756</td><td>3412</td><td>SN_2564</td><td>22</td><td>28</td><td>9</td><td>11</td><td>28</td><td>22</td><td>0</td><td>1</td><td>0.0</td><td>True</td><td>0.09182008055008394</td><td>0.0</td><td>58382.3937864222</td><td>0.12333109517931007</td><td>0.0006021577185826304</td><td>7.812117177635288e-06</td><td>0.6428704631323195</td><td>0.15324173357232102</td><td>-0.05063867496647943</td><td>0.013282236590467036</td><td>77.68172316899053</td><td>100</td><td>0.0</td><td>0.0</td><td>0.0</td><td>0.0</td><td>-9.343857194529416e-08</td><td>-5.961782684352837e-07</td><td>-6.431322170307703e-08</td><td>0.01052357872604887</td><td>5.7588295732271535e-05</td><td>0.00017851309187753655</td></tr>\n",
       "<tr><td>0.04493484763798444</td><td>58444.77404768072</td><td>0.0012656425237245572</td><td>-0.4862999924019841</td><td>0.14291495957226544</td><td>0.29154518259666534</td><td>80.37349646587653</td><td>16.465745255029464</td><td>0.2794419015765872</td><td>3417</td><td>SN_2567</td><td>26</td><td>20</td><td>4</td><td>7</td><td>32</td><td>14</td><td>0</td><td>1</td><td>0.0</td><td>True</td><td>0.04493484763798444</td><td>0.0</td><td>58444.748124650454</td><td>0.10856519169828971</td><td>0.00133604249985278</td><td>2.8978359822043508e-05</td><td>-0.611022041814108</td><td>0.14306255822848202</td><td>0.1075631627955251</td><td>0.016769987179529763</td><td>89.55150658994546</td><td>74</td><td>0.0</td><td>0.0</td><td>0.0</td><td>0.0</td><td>7.391348215025771e-07</td><td>-8.180420980039425e-07</td><td>-4.4035433948772974e-07</td><td>0.008826552825289177</td><td>-0.0004533435773521545</td><td>9.744614566331065e-05</td></tr>\n",
       "<tr><td>0.07522090041398802</td><td>58435.69015726318</td><td>0.0006239420708297994</td><td>-0.6644145330769545</td><td>-0.048065009261883784</td><td>0.05629955248411203</td><td>24.989612674019558</td><td>34.37239700671948</td><td>0.03510036170947807</td><td>3419</td><td>SN_2568</td><td>53</td><td>45</td><td>16</td><td>18</td><td>63</td><td>31</td><td>4</td><td>1</td><td>0.0</td><td>True</td><td>0.07522090041398802</td><td>0.0</td><td>58435.83156762571</td><td>0.10183838836746872</td><td>0.0006370916961547648</td><td>6.7898229587842215e-06</td><td>-0.49836836650204897</td><td>0.13194444007272493</td><td>-0.06930553234330109</td><td>0.009676863914717499</td><td>130.91309190085622</td><td>137</td><td>0.0</td><td>0.0</td><td>0.0</td><td>0.0</td><td>6.980198842629592e-08</td><td>-2.890356938693281e-07</td><td>-4.7301247519038494e-08</td><td>0.008473322173934811</td><td>-2.530010153291155e-05</td><td>0.00011695556316763206</td></tr>\n",
       "<tr><td>0.09790818311968444</td><td>58267.494143108124</td><td>0.00034553799005517086</td><td>-0.372694495262345</td><td>0.06287625340202951</td><td>0.13051232105644137</td><td>270.25485398126483</td><td>21.080761862480266</td><td>0.10797325990514586</td><td>3433</td><td>SN_2580</td><td>32</td><td>102</td><td>18</td><td>29</td><td>78</td><td>54</td><td>2</td><td>1</td><td>0.0</td><td>True</td><td>0.09790818311968444</td><td>0.0</td><td>58267.57168433207</td><td>0.10300896303670015</td><td>0.0003494186036062601</td><td>7.611233506875793e-06</td><td>-0.41254809540293247</td><td>0.14982816895965348</td><td>0.04643103384002324</td><td>0.015166755361291837</td><td>336.4950532176907</td><td>312</td><td>0.0</td><td>0.0</td><td>0.0</td><td>0.0</td><td>-3.17331195880138e-07</td><td>-9.059953473584665e-07</td><td>-9.106780053775132e-08</td><td>0.006290110075553035</td><td>0.0002600668630631772</td><td>0.0010208717408392905</td></tr>\n",
       "<tr><td>0.041479662872352475</td><td>58404.59451855132</td><td>0.0033797528675049344</td><td>1.1242030504927412</td><td>-0.10042383241140485</td><td>0.0251607084955427</td><td>131.26743225323673</td><td>73.5720728749418</td><td>0.016130892236135508</td><td>3439</td><td>SN_2584</td><td>10</td><td>62</td><td>8</td><td>56</td><td>41</td><td>31</td><td>0</td><td>1</td><td>0.0</td><td>True</td><td>0.041479662872352475</td><td>0.0</td><td>58404.31980482679</td><td>0.03842573321890086</td><td>0.0034027719774513934</td><td>4.386984496021375e-05</td><td>1.1153950521255436</td><td>0.06385703620414564</td><td>-0.11257778996843795</td><td>0.007863218038372859</td><td>94.29936963598666</td><td>81</td><td>0.0</td><td>0.0</td><td>0.0</td><td>0.0</td><td>-3.37678908034951e-07</td><td>-2.2111349731749983e-06</td><td>-2.8669204455772094e-07</td><td>0.0005016514307588353</td><td>4.047614974666519e-05</td><td>0.00022121737040363632</td></tr>\n",
       "<tr><td>0.06666311335329787</td><td>58363.73741727938</td><td>0.0011508794490276955</td><td>0.7593628728012892</td><td>-0.05523988953206203</td><td>0.06348410039876372</td><td>64.34394735022657</td><td>-6.922845627987849</td><td>0.05641489347683976</td><td>3442</td><td>SN_2587</td><td>30</td><td>65</td><td>13</td><td>21</td><td>52</td><td>43</td><td>0</td><td>1</td><td>0.0</td><td>True</td><td>0.06666311335329787</td><td>0.0</td><td>58363.62987503049</td><td>0.058517078792647226</td><td>0.0011541788241147652</td><td>1.1236551360549961e-05</td><td>0.7459528979257157</td><td>0.08203471549531233</td><td>-0.05872424976291056</td><td>0.007814473604148402</td><td>85.9958492296222</td><td>97</td><td>0.0</td><td>0.0</td><td>0.0</td><td>0.0</td><td>-3.4878913654046163e-07</td><td>-6.889705937799481e-07</td><td>-7.33338351955631e-08</td><td>0.0026202910006624964</td><td>0.00018464885698325155</td><td>0.000328286328309694</td></tr>\n",
       "<tr><td>0.07573429132807132</td><td>58242.605816552365</td><td>0.0004547503350594075</td><td>-0.7175237636371278</td><td>0.08892005350483595</td><td>0.046379210426852</td><td>214.55031937883024</td><td>2.0911181015823406</td><td>0.031195892142598734</td><td>3449</td><td>SN_2592</td><td>5</td><td>22</td><td>3</td><td>10</td><td>13</td><td>13</td><td>1</td><td>1</td><td>0.0</td><td>True</td><td>0.07573429132807132</td><td>0.0</td><td>58242.569398855965</td><td>0.20001875218440546</td><td>0.0004697397432623708</td><td>1.1725650726267249e-05</td><td>-0.7668653648385736</td><td>0.17257804384375242</td><td>0.05811483426995089</td><td>0.022109262274172467</td><td>56.659051799969994</td><td>54</td><td>0.0</td><td>0.0</td><td>0.0</td><td>0.0</td><td>-7.796758355778721e-07</td><td>-9.994033204313224e-07</td><td>-1.8312784778136378e-07</td><td>0.008701807471228423</td><td>0.00048521959723715947</td><td>0.0004779097890929702</td></tr>\n",
       "<tr><td>0.09642540889847759</td><td>58402.89568726909</td><td>0.0003925146964884045</td><td>1.0635185126671578</td><td>0.07575235699245425</td><td>0.020966941999719158</td><td>2.683559951824739</td><td>-11.961317180555199</td><td>0.022788706839254696</td><td>3452</td><td>SN_2594</td><td>8</td><td>19</td><td>6</td><td>19</td><td>15</td><td>12</td><td>0</td><td>1</td><td>0.0</td><td>True</td><td>0.09642540889847759</td><td>0.0</td><td>58402.39555889877</td><td>0.20183834400449996</td><td>0.00040550643425850977</td><td>1.7859019877015703e-05</td><td>0.6137567288363238</td><td>0.2790739113058159</td><td>0.056124178166517394</td><td>0.03160410828119919</td><td>94.91556362623757</td><td>85</td><td>0.0</td><td>0.0</td><td>0.0</td><td>0.0</td><td>9.834151058278077e-08</td><td>-3.6768104121192933e-06</td><td>-3.747345985330479e-07</td><td>0.004987964288752211</td><td>1.4600973365145779e-05</td><td>0.001706225898566474</td></tr>\n",
       "<tr><td>0.08996128603670324</td><td>58228.51200952017</td><td>0.0005075048542133632</td><td>-0.5154773484767101</td><td>-0.08514695956280854</td><td>0.02078570839687773</td><td>272.76381092835004</td><td>46.38329127628853</td><td>0.02917719804977681</td><td>3465</td><td>SN_2603</td><td>15</td><td>162</td><td>4</td><td>90</td><td>90</td><td>81</td><td>6</td><td>1</td><td>0.0</td><td>True</td><td>-1.0</td><td>-1.0</td><td>-1.0</td><td>-1.0</td><td>-1.0</td><td>-1.0</td><td>-1.0</td><td>-1.0</td><td>-1.0</td><td>-1.0</td><td>-1.0</td><td>-1</td><td>-1.0</td><td>-1.0</td><td>-1.0</td><td>-1.0</td><td>-1.0</td><td>-1.0</td><td>-1.0</td><td>-1.0</td><td>-1.0</td><td>-1.0</td></tr>\n",
       "<tr><td>0.0936860934267294</td><td>58268.92034209017</td><td>0.0006001999342324803</td><td>-0.1669617083455156</td><td>-0.09351000690876796</td><td>-0.003027101939049953</td><td>188.30035556988716</td><td>9.406492004470064</td><td>0.0179498873360869</td><td>3469</td><td>SN_2607</td><td>13</td><td>34</td><td>7</td><td>3</td><td>23</td><td>19</td><td>5</td><td>1</td><td>0.0</td><td>True</td><td>0.0936860934267294</td><td>0.0</td><td>58268.91928203013</td><td>0.11487101593229454</td><td>0.0006092945736948964</td><td>9.3983312290121e-06</td><td>-0.3074766977647525</td><td>0.13338802048481158</td><td>-0.10502102131575133</td><td>0.012972403248179986</td><td>55.0567996925335</td><td>80</td><td>0.0</td><td>0.0</td><td>0.0</td><td>0.0</td><td>-6.502738989368714e-07</td><td>-8.887281634772153e-07</td><td>-8.346788720772197e-08</td><td>0.005916121692696749</td><td>0.0005897320664972244</td><td>0.0005126689353281735</td></tr>\n",
       "<tr><td>0.048748043526010545</td><td>58240.73496396007</td><td>0.001545147630015847</td><td>-0.5808063190667402</td><td>-0.006574678395819696</td><td>0.03780657034291661</td><td>228.5433683091057</td><td>17.155043204566294</td><td>0.02545783023692655</td><td>3475</td><td>SN_2612</td><td>10</td><td>28</td><td>5</td><td>19</td><td>14</td><td>13</td><td>11</td><td>1</td><td>0.0</td><td>True</td><td>0.048748043526010545</td><td>0.0</td><td>58240.87398762039</td><td>0.07949632772579207</td><td>0.0015481748114520247</td><td>2.715551145110622e-05</td><td>-0.5130869787291711</td><td>0.09257890815351172</td><td>-0.014878311026921063</td><td>0.013178215371543333</td><td>67.69631318956877</td><td>50</td><td>0.0</td><td>0.0</td><td>0.0</td><td>0.0</td><td>-1.3364297917599227e-07</td><td>-1.314755075346549e-06</td><td>-2.5727390277203966e-07</td><td>0.002714049333868617</td><td>-9.28057294832015e-05</td><td>4.493708327030557e-05</td></tr>\n",
       "<tr><td>0.08464110946373785</td><td>58223.67447375096</td><td>0.00044863271545716283</td><td>0.24872623830965018</td><td>0.02556543614505798</td><td>0.024609943065979138</td><td>205.4870730072504</td><td>69.84106221521657</td><td>0.012769433380491732</td><td>3476</td><td>SN_2613</td><td>53</td><td>172</td><td>6</td><td>73</td><td>123</td><td>92</td><td>10</td><td>1</td><td>0.0</td><td>True</td><td>0.08464110946373785</td><td>0.0</td><td>58223.71265873097</td><td>0.09269817587119178</td><td>0.00045139162653590095</td><td>4.890249317022109e-06</td><td>0.27009178803995704</td><td>0.08021845748129636</td><td>0.013710104199365065</td><td>0.009534079222739147</td><td>423.65149453367997</td><td>391</td><td>0.0</td><td>0.0</td><td>0.0</td><td>0.0</td><td>-1.845364833354369e-07</td><td>-1.8851564963953636e-07</td><td>-4.0651232838990984e-08</td><td>0.00012221823777545745</td><td>0.0004231445431301984</td><td>0.00019038111899685696</td></tr>\n",
       "<tr><td>0.04946417154203528</td><td>58365.98513899574</td><td>0.0019193439790086383</td><td>0.473064161897739</td><td>-0.002077134244301455</td><td>0.002998293527500282</td><td>225.40923479697355</td><td>60.99215182822667</td><td>0.009762668920624395</td><td>3478</td><td>SN_2615</td><td>39</td><td>23</td><td>25</td><td>3</td><td>42</td><td>17</td><td>3</td><td>1</td><td>0.0</td><td>True</td><td>0.04946417154203528</td><td>0.0</td><td>58365.891430602074</td><td>0.05497175990240066</td><td>0.0019297359751802412</td><td>1.53302557551266e-05</td><td>0.4889837309746628</td><td>0.08452889597145645</td><td>-0.00957047126129207</td><td>0.006423404888000975</td><td>52.97015045802374</td><td>68</td><td>0.0</td><td>0.0</td><td>0.0</td><td>0.0</td><td>-7.355737218972101e-08</td><td>-3.860143179355235e-07</td><td>-8.328542203572765e-08</td><td>0.0037550695610530835</td><td>-2.0422502900993806e-05</td><td>2.2459670487192432e-05</td></tr>\n",
       "<tr><td>0.06990351051755538</td><td>58301.74181722051</td><td>0.0006274953035356366</td><td>0.020258267029288745</td><td>0.11439536590941908</td><td>0.031130024370669945</td><td>245.22130780054113</td><td>66.52999100740777</td><td>0.030321380632512843</td><td>3483</td><td>SN_2616</td><td>51</td><td>126</td><td>13</td><td>76</td><td>100</td><td>68</td><td>9</td><td>1</td><td>0.0</td><td>True</td><td>0.06990351051755538</td><td>0.0</td><td>58301.74854233588</td><td>0.05610935444201459</td><td>0.0006323937901291432</td><td>5.568459104795442e-06</td><td>0.04111103400742084</td><td>0.06680060210474512</td><td>0.102709116449104</td><td>0.007333442429703461</td><td>227.23368824940908</td><td>241</td><td>0.0</td><td>0.0</td><td>0.0</td><td>0.0</td><td>-5.9055198490521146e-08</td><td>-2.1388809751169747e-07</td><td>-3.163602310150845e-08</td><td>0.0008286988050345643</td><td>5.9856029785090577e-05</td><td>0.00011079485834972591</td></tr>\n",
       "<tr><td>0.07486676040795842</td><td>58439.613370606</td><td>0.001194210109510669</td><td>0.6801518087888735</td><td>-0.13332419176671312</td><td>0.1035885379386457</td><td>93.35593346958439</td><td>68.28811154790374</td><td>0.09056400409947273</td><td>3484</td><td>SN_2617</td><td>53</td><td>64</td><td>21</td><td>23</td><td>74</td><td>43</td><td>0</td><td>1</td><td>0.0</td><td>True</td><td>0.07486676040795842</td><td>0.0</td><td>58439.48796466976</td><td>0.06580507946273428</td><td>0.0011867030022820078</td><td>9.167820134338175e-06</td><td>0.5967694259319598</td><td>0.08539580865501514</td><td>-0.12692198005583114</td><td>0.007127195289931921</td><td>135.48535847075664</td><td>133</td><td>0.0</td><td>0.0</td><td>0.0</td><td>0.0</td><td>-5.3219276845378126e-08</td><td>-3.5268896509015826e-07</td><td>-4.743227331837687e-08</td><td>0.0038409844168208946</td><td>-2.8012763565007143e-05</td><td>6.059409823516462e-05</td></tr>\n",
       "<tr><td>0.08178976284699759</td><td>58348.66392970067</td><td>0.0002745974078664274</td><td>0.1749802489155754</td><td>0.25458412679735437</td><td>0.05396971706013044</td><td>263.5789526094194</td><td>57.719752226021534</td><td>0.04687121268455663</td><td>3493</td><td>SN_2624</td><td>19</td><td>339</td><td>6</td><td>149</td><td>230</td><td>116</td><td>12</td><td>1</td><td>0.0</td><td>True</td><td>0.08178976284699759</td><td>0.0</td><td>58348.647527155605</td><td>0.10622684064219357</td><td>0.00027542169588919493</td><td>3.444410673958887e-06</td><td>0.11764809677399511</td><td>0.07411070503825311</td><td>0.2452949896576348</td><td>0.009494858493945338</td><td>740.1268425514485</td><td>737</td><td>0.0</td><td>0.0</td><td>0.0</td><td>0.0</td><td>-1.1684542838954368e-07</td><td>-1.1837963041982031e-07</td><td>-2.8685245050457217e-08</td><td>-0.0010148489810046686</td><td>0.00017205074811714414</td><td>0.00019761605190761104</td></tr>\n",
       "<tr><td>0.07462736632382697</td><td>58293.23266855628</td><td>0.0010245264573889327</td><td>-1.0485002854770837</td><td>-0.22007933440011174</td><td>0.06543196340983798</td><td>293.0569842503995</td><td>79.02544620913213</td><td>0.07037311683948687</td><td>3494</td><td>SN_2625</td><td>20</td><td>112</td><td>7</td><td>90</td><td>70</td><td>53</td><td>9</td><td>1</td><td>0.0</td><td>True</td><td>0.07462736632382697</td><td>0.0</td><td>58293.20437470845</td><td>0.06704193665427738</td><td>0.0010250829855552698</td><td>1.1639241490337318e-05</td><td>-1.0411082330866015</td><td>0.06315630591532755</td><td>-0.21929392888030402</td><td>0.009808181305540944</td><td>232.4638708779156</td><td>204</td><td>0.0</td><td>0.0</td><td>0.0</td><td>0.0</td><td>2.890719991158606e-10</td><td>-4.2018551343880244e-07</td><td>-8.157174004383282e-08</td><td>0.00020356433200730123</td><td>-3.691008521134443e-05</td><td>9.692899934985732e-05</td></tr>\n",
       "</table></div>"
      ],
      "text/plain": [
       "<Table length=672>\n",
       "         z                   t0                   x0           ...         t0_c_cov                x1_c_cov       \n",
       "      float64             float64              float64         ...         float64                 float64        \n",
       "-------------------- ------------------ ---------------------- ... ----------------------- -----------------------\n",
       " 0.09496615230696706  58311.20197489228  0.0006119488225370554 ...  -7.463343166585065e-05   7.926471706490327e-05\n",
       " 0.07864194667329098 58334.909398505326  0.0009331921528894242 ...  -7.310496808670078e-05 -4.8899014195487566e-05\n",
       " 0.06350687289352495  58285.42305707414  0.0010296304646536993 ...  2.2095647765835135e-06  3.5052159617437854e-05\n",
       " 0.05647814437682584 58352.113433949526  0.0009241014179105386 ...  4.0486846383459716e-05   0.0002853278963298759\n",
       " 0.05704765622053076  58209.52125745381  0.0010452101539038625 ...  -0.0018725433854185286  -0.0006680910242650744\n",
       " 0.04963981168196111  58274.60936929726   0.001993874169364107 ...   4.776094216872663e-05  0.00034410464483976017\n",
       " 0.09924158873036648  58342.68538742703  0.0004228687086892035 ...   0.0003766208892996794  0.00018021554868427852\n",
       "  0.0696175414329167 58334.663924220855  0.0008964998970484629 ...    0.000233057545770309   0.0001788486954194073\n",
       "  0.0694164026092382  58371.77444336007   0.000564647617514307 ...   0.0003785301146672591   0.0009795752804402959\n",
       " 0.09819494260279925  58358.68238861098 0.00029850589445567133 ...  0.00047530669831635227   0.0012251597765105496\n",
       " 0.09701056376486197    58351.927437663  0.0002807248391629498 ...    6.73621444181126e-05  0.00025576338312466025\n",
       " 0.05644093132925671  58340.08704647273  0.0010355983826827004 ...   8.177366438249903e-05    0.000291851091205144\n",
       " 0.09838491758186267  58332.69198028366 0.00043812705711329425 ...   0.0007292634103863143   0.0008289591201250414\n",
       " 0.07218665115216936  58301.75835139844  0.0005926881996759872 ...  -0.0005068178392967282   0.0001824020221765006\n",
       " 0.05806709148486733  58260.18619319137  0.0012533273481088176 ...  0.00015539058570572615    0.000267632247302391\n",
       " 0.04070773071537651 58217.049701918615  0.0037259396630625113 ...  -8.071815034456499e-05   0.0006634658553047731\n",
       " 0.06011245156057485   58379.8556430964  0.0009201662853653902 ...  5.4261621367257683e-05   0.0002702626951350747\n",
       " 0.09117501786464687 58285.798548875384 0.00040261242471309705 ...   0.0003596845877515992   0.0014386943974295811\n",
       " 0.08816832998515786 58295.312234728764  0.0005707681199705236 ...   0.0001033660768191163   0.0005727471301067541\n",
       "  0.0956132543543666  58379.67545900487 0.00033873385939043926 ...   0.0009620973517111183 -0.00029884714126598923\n",
       "                 ...                ...                    ... ...                     ...                     ...\n",
       "0.060994508684494485 58297.928891908436  0.0006817063535978502 ...  -0.0002630113547777234  -0.0006034690747577661\n",
       "0.056853364658705455 58385.051990135464  0.0013023426622188253 ...   7.231814774389356e-05   9.791910069667598e-05\n",
       "   0.081192410850701 58412.149093259955  0.0010585296227345804 ...                    -1.0                    -1.0\n",
       " 0.08753743146338501   58293.1073461973  0.0005103734013742985 ...   0.0006787663483968522   0.0016190904983316619\n",
       " 0.09182008055008394  58382.54069655007  0.0005984229087271606 ...  5.7588295732271535e-05  0.00017851309187753655\n",
       " 0.04493484763798444  58444.77404768072  0.0012656425237245572 ...  -0.0004533435773521545   9.744614566331065e-05\n",
       " 0.07522090041398802  58435.69015726318  0.0006239420708297994 ...  -2.530010153291155e-05  0.00011695556316763206\n",
       " 0.09790818311968444 58267.494143108124 0.00034553799005517086 ...   0.0002600668630631772   0.0010208717408392905\n",
       "0.041479662872352475  58404.59451855132  0.0033797528675049344 ...   4.047614974666519e-05  0.00022121737040363632\n",
       " 0.06666311335329787  58363.73741727938  0.0011508794490276955 ...  0.00018464885698325155    0.000328286328309694\n",
       " 0.07573429132807132 58242.605816552365  0.0004547503350594075 ...  0.00048521959723715947   0.0004779097890929702\n",
       " 0.09642540889847759  58402.89568726909  0.0003925146964884045 ...  1.4600973365145779e-05    0.001706225898566474\n",
       " 0.08996128603670324  58228.51200952017  0.0005075048542133632 ...                    -1.0                    -1.0\n",
       "  0.0936860934267294  58268.92034209017  0.0006001999342324803 ...   0.0005897320664972244   0.0005126689353281735\n",
       "0.048748043526010545  58240.73496396007   0.001545147630015847 ...   -9.28057294832015e-05   4.493708327030557e-05\n",
       " 0.08464110946373785  58223.67447375096 0.00044863271545716283 ...   0.0004231445431301984  0.00019038111899685696\n",
       " 0.04946417154203528  58365.98513899574  0.0019193439790086383 ... -2.0422502900993806e-05  2.2459670487192432e-05\n",
       " 0.06990351051755538  58301.74181722051  0.0006274953035356366 ...  5.9856029785090577e-05  0.00011079485834972591\n",
       " 0.07486676040795842    58439.613370606   0.001194210109510669 ... -2.8012763565007143e-05   6.059409823516462e-05\n",
       " 0.08178976284699759  58348.66392970067  0.0002745974078664274 ...  0.00017205074811714414  0.00019761605190761104\n",
       " 0.07462736632382697  58293.23266855628  0.0010245264573889327 ...  -3.691008521134443e-05   9.692899934985732e-05"
      ]
     },
     "execution_count": 6,
     "metadata": {},
     "output_type": "execute_result"
    }
   ],
   "source": [
    "class_meta = Read_LightCurve(file_name='meta_fitted.hdf5')\n",
    "new_read_meta = class_meta.Read_file(path='meta')\n",
    "new_read_meta"
   ]
  },
  {
   "cell_type": "markdown",
   "id": "c54249f0",
   "metadata": {},
   "source": [
    "# Histogram fitted parameters"
   ]
  },
  {
   "cell_type": "code",
   "execution_count": 7,
   "id": "16654446",
   "metadata": {
    "scrolled": false
   },
   "outputs": [
    {
     "name": "stdout",
     "output_type": "stream",
     "text": [
      "moyenne z_fit = 0.0731509789834988 / équart type z_fit = 0.019710875929513948\n",
      "moyenne x0_fit = 0.0012590493004775833 / équart type x0_fit = 0.002230686982197809\n",
      "moyenne x1_fit = 0.12281719335016118 / équart type x1_fit = 0.9625334376963293\n",
      "moyenne c_fit = -0.012372267177855148 / équart type c_fit = 0.09656857078352742\n",
      "moyenne t0_fit = 58326.996295865254 / équart type t0_fit = 65.2898155580242\n"
     ]
    },
    {
     "data": {
      "image/png": "[encoded data removed]",
      "text/plain": [
       "<Figure size 720x576 with 6 Axes>"
      ]
     },
     "metadata": {
      "needs_background": "light"
     },
     "output_type": "display_data"
    }
   ],
   "source": [
    "import matplotlib.pylab as plt\n",
    "import numpy as np\n",
    "\n",
    "var = ['z_fit', 'x0_fit', 'x1_fit', 'c_fit', 't0_fit']\n",
    "dico = dict(zip(var, [(0,0), (0,1), (1,0), (1,1), (2,0)]))\n",
    "\n",
    "fig, axs = plt.subplots(3, 2, figsize=(10,8))\n",
    "for variables in var :\n",
    "    ipos = dico[variables][0]\n",
    "    jpos = dico[variables][1]\n",
    "    \n",
    "    mask = new_read_meta[variables] != -1\n",
    "     \n",
    "    axs[ipos, jpos].hist(new_read_meta[variables][mask], alpha = 0.7)\n",
    "    axs[ipos, jpos].set_title('Histo var {}'.format(variables))\n",
    "    fig.tight_layout()\n",
    "    \n",
    "    print('moyenne {} ='.format(variables), np.mean(new_read_meta[variables][mask]), \n",
    "          '/ équart type {} ='.format(variables), np.std(new_read_meta[variables][mask]))\n"
   ]
  },
  {
   "cell_type": "markdown",
   "id": "8be48e11",
   "metadata": {},
   "source": [
    "# Histogram : (param_simu - param_fit)/param_err"
   ]
  },
  {
   "cell_type": "code",
   "execution_count": 19,
   "id": "49dc98a9",
   "metadata": {},
   "outputs": [],
   "source": [
    "def diff(param_simu, param_fit, param_err, new_read_meta):\n",
    "    diff_ = []\n",
    "    for i, row in enumerate(new_read_meta):\n",
    "        if row[param_fit] == -1:\n",
    "            diff_.append(-1)\n",
    "        else:\n",
    "            p_simu = row[param_simu]\n",
    "            p_fit = row[param_fit]\n",
    "            p_err = row[param_err]\n",
    "            diff_.append((p_simu-p_fit))\n",
    "    return diff_"
   ]
  },
  {
   "cell_type": "code",
   "execution_count": 20,
   "id": "d7a4dca8",
   "metadata": {
    "scrolled": true
   },
   "outputs": [
    {
     "data": {
      "text/html": [
       "<div><i>Table length=593</i>\n",
       "<table id=\"table140469562013200\" class=\"table-striped table-bordered table-condensed\">\n",
       "<thead><tr><th>z</th><th>t0</th><th>x0</th><th>x1</th><th>c</th><th>mwebv</th><th>ra</th><th>dec</th><th>mwebv_sfd98</th><th>idx_orig</th><th>path</th><th>nb_phase&lt;0</th><th>nb_phase&gt;0</th><th>nb_phase&lt;-10</th><th>nb_phase&gt;20</th><th>nb_band_ztfr</th><th>nb_band_ztfg</th><th>nb_band_ztfi</th><th>pass selec</th><th>col0</th><th>col0.mask</th><th>z_fit</th><th>z_err</th><th>t0_fit</th><th>t0_err</th><th>x0_fit</th><th>x0_err</th><th>x1_fit</th><th>x1_err</th><th>c_fit</th><th>c_err</th><th>chisq</th><th>ndof</th><th>z_t0_cov</th><th>z_x0_cov</th><th>z_x1_cov</th><th>z_c_cov</th><th>x0_t0_cov</th><th>x0_x1_cov</th><th>x0_c_cov</th><th>t0_x1_cov</th><th>t0_c_cov</th><th>x1_c_cov</th><th>diff_z</th><th>diff_x0</th><th>diff_x1</th><th>diff_c</th><th>diff_t0</th></tr></thead>\n",
       "<thead><tr><th>float64</th><th>float64</th><th>float64</th><th>float64</th><th>float64</th><th>float64</th><th>float64</th><th>float64</th><th>float64</th><th>int64</th><th>str7</th><th>int64</th><th>int64</th><th>int64</th><th>int64</th><th>int64</th><th>int64</th><th>int64</th><th>int64</th><th>float64</th><th>bool</th><th>float64</th><th>float64</th><th>float64</th><th>float64</th><th>float64</th><th>float64</th><th>float64</th><th>float64</th><th>float64</th><th>float64</th><th>float64</th><th>int64</th><th>float64</th><th>float64</th><th>float64</th><th>float64</th><th>float64</th><th>float64</th><th>float64</th><th>float64</th><th>float64</th><th>float64</th><th>float64</th><th>float64</th><th>float64</th><th>float64</th><th>float64</th></tr></thead>\n",
       "<tr><td>0.09496615230696706</td><td>58311.20197489228</td><td>0.0006119488225370554</td><td>0.7980226932864936</td><td>-0.050078362872994435</td><td>0.012269386001239686</td><td>220.163406234109</td><td>56.56643570276057</td><td>0.01422503874472932</td><td>6</td><td>SN_3</td><td>42</td><td>73</td><td>21</td><td>44</td><td>68</td><td>38</td><td>9</td><td>1</td><td>0.0</td><td>True</td><td>0.09496615230696706</td><td>0.0</td><td>58310.992291233946</td><td>0.06921235890331445</td><td>0.0006191124878548048</td><td>6.659448673774444e-06</td><td>0.7049251986969172</td><td>0.0947768193731289</td><td>-0.06770492074692461</td><td>0.009315923966496218</td><td>299.2007009521245</td><td>267</td><td>0.0</td><td>0.0</td><td>0.0</td><td>0.0</td><td>1.3083278241963137e-08</td><td>-3.9424789019968685e-07</td><td>-3.8204101920759276e-08</td><td>0.001982094949494856</td><td>-7.463343166585065e-05</td><td>7.926471706490327e-05</td><td>0.0</td><td>-7.163665317749487e-06</td><td>0.09309749458957639</td><td>0.017626557873930172</td><td>0.2096836583368713</td></tr>\n",
       "<tr><td>0.07864194667329098</td><td>58334.909398505326</td><td>0.0009331921528894242</td><td>0.4480246584401117</td><td>-0.12112950761147448</td><td>0.055517227748341544</td><td>261.1530093052832</td><td>20.720253108136966</td><td>0.05042068232864323</td><td>8</td><td>SN_5</td><td>8</td><td>32</td><td>2</td><td>18</td><td>19</td><td>12</td><td>9</td><td>1</td><td>0.0</td><td>True</td><td>0.07864194667329098</td><td>0.0</td><td>58334.805338182996</td><td>0.1517057966448192</td><td>0.0009282463920255894</td><td>1.3344618244964551e-05</td><td>0.537063574751798</td><td>0.1392305656697989</td><td>-0.12177885108653563</td><td>0.012949614059842171</td><td>49.228119217203925</td><td>53</td><td>0.0</td><td>0.0</td><td>0.0</td><td>0.0</td><td>-2.090280266122562e-07</td><td>-7.463598309625898e-07</td><td>-1.189848979591377e-07</td><td>-0.0008250047663085964</td><td>-7.310496808670078e-05</td><td>-4.8899014195487566e-05</td><td>0.0</td><td>4.945760863834842e-06</td><td>-0.08903891631168631</td><td>0.0006493434750611538</td><td>0.10406032233004225</td></tr>\n",
       "<tr><td>0.06350687289352495</td><td>58285.42305707414</td><td>0.0010296304646536993</td><td>-0.4535401128481856</td><td>-0.023769855002025764</td><td>0.010812825738655957</td><td>232.86450937143496</td><td>48.44589718330789</td><td>0.01271561381923838</td><td>11</td><td>SN_8</td><td>86</td><td>188</td><td>24</td><td>94</td><td>156</td><td>108</td><td>10</td><td>1</td><td>0.0</td><td>True</td><td>0.06350687289352495</td><td>0.0</td><td>58285.39934200462</td><td>0.026705242838943377</td><td>0.0010333327458604091</td><td>4.5923827168362645e-06</td><td>-0.4558806862758959</td><td>0.03258067463329987</td><td>-0.025565039848922794</td><td>0.003784298533205558</td><td>381.7542661838446</td><td>381</td><td>0.0</td><td>0.0</td><td>0.0</td><td>0.0</td><td>-4.122423883443095e-09</td><td>-8.073074631964782e-08</td><td>-1.406954560668442e-08</td><td>0.0002607781512041929</td><td>2.2095647765835135e-06</td><td>3.5052159617437854e-05</td><td>0.0</td><td>-3.7022812067097864e-06</td><td>0.002340573427710324</td><td>0.00179518484689703</td><td>0.023715069524769206</td></tr>\n",
       "<tr><td>0.05647814437682584</td><td>58352.113433949526</td><td>0.0009241014179105386</td><td>1.2917456278751926</td><td>0.1437480592708887</td><td>0.02770856445815746</td><td>227.39289295201368</td><td>68.19509102999442</td><td>0.018160189253985135</td><td>16</td><td>SN_12</td><td>27</td><td>44</td><td>3</td><td>15</td><td>42</td><td>25</td><td>4</td><td>1</td><td>0.0</td><td>True</td><td>0.05647814437682584</td><td>0.0</td><td>58351.87000446813</td><td>0.07996114717752789</td><td>0.000926687469508815</td><td>8.738782527149605e-06</td><td>1.3684062793160723</td><td>0.09268653904694926</td><td>0.13364330750861764</td><td>0.007776943975820487</td><td>116.5939800722158</td><td>109</td><td>0.0</td><td>0.0</td><td>0.0</td><td>0.0</td><td>-1.5034727746878912e-08</td><td>-3.953114685911886e-07</td><td>-6.11218388819289e-08</td><td>0.0007901967598602192</td><td>4.0486846383459716e-05</td><td>0.0002853278963298759</td><td>0.0</td><td>-2.586051598276384e-06</td><td>-0.07666065144087963</td><td>0.010104751762271075</td><td>0.24342948139383225</td></tr>\n",
       "<tr><td>0.05704765622053076</td><td>58209.52125745381</td><td>0.0010452101539038625</td><td>-0.8383780581478772</td><td>-0.011578611391709766</td><td>0.02659784947453422</td><td>199.2291487893578</td><td>-0.14687317039898423</td><td>0.019850719169121935</td><td>17</td><td>SN_13</td><td>5</td><td>19</td><td>1</td><td>11</td><td>16</td><td>8</td><td>0</td><td>1</td><td>0.0</td><td>True</td><td>0.05704765622053076</td><td>0.0</td><td>58209.62684320788</td><td>0.1634412204803084</td><td>0.0010710695002493305</td><td>2.5362662242138452e-05</td><td>-1.1954475662934585</td><td>0.1555858967041974</td><td>-0.006169321714812731</td><td>0.02248153870499304</td><td>11.628684107969892</td><td>24</td><td>0.0</td><td>0.0</td><td>0.0</td><td>0.0</td><td>1.1033821709353508e-06</td><td>-8.673061761828804e-07</td><td>-4.5851657134635067e-07</td><td>0.006467152130456094</td><td>-0.0018725433854185286</td><td>-0.0006680910242650744</td><td>0.0</td><td>-2.585934634546797e-05</td><td>0.35706950814558125</td><td>-0.005409289676897035</td><td>-0.1055857540704892</td></tr>\n",
       "<tr><td>0.04963981168196111</td><td>58274.60936929726</td><td>0.001993874169364107</td><td>0.31534820634255284</td><td>-0.030558005979771333</td><td>0.09481235974977135</td><td>224.10584979603783</td><td>-15.3583661488368</td><td>0.08482867742206854</td><td>19</td><td>SN_14</td><td>10</td><td>29</td><td>3</td><td>10</td><td>19</td><td>20</td><td>0</td><td>1</td><td>0.0</td><td>True</td><td>0.04963981168196111</td><td>0.0</td><td>58274.60659511528</td><td>0.11365927080623806</td><td>0.0019713444089903926</td><td>2.0847586383676345e-05</td><td>0.36744025923475815</td><td>0.12077192759950026</td><td>-0.019114210649546548</td><td>0.008899097611259236</td><td>49.588383583529094</td><td>48</td><td>0.0</td><td>0.0</td><td>0.0</td><td>0.0</td><td>-5.218495416693545e-07</td><td>-1.265389862096791e-06</td><td>-1.4968032625645176e-07</td><td>-0.0036318762376565078</td><td>4.776094216872663e-05</td><td>0.00034410464483976017</td><td>0.0</td><td>2.2529760373714378e-05</td><td>-0.05209205289220531</td><td>-0.011443795330224785</td><td>0.002774181979475543</td></tr>\n",
       "<tr><td>0.09924158873036648</td><td>58342.68538742703</td><td>0.0004228687086892035</td><td>1.3195902193326556</td><td>0.016233541013785515</td><td>0.031057187065401146</td><td>2.7374615360018018</td><td>27.753565776950595</td><td>0.03657677374279575</td><td>23</td><td>SN_17</td><td>10</td><td>45</td><td>1</td><td>35</td><td>24</td><td>16</td><td>15</td><td>1</td><td>0.0</td><td>True</td><td>0.09924158873036648</td><td>0.0</td><td>58342.79324928532</td><td>0.1873316528290161</td><td>0.00041896487202878704</td><td>8.708722025707742e-06</td><td>1.1312658493413745</td><td>0.1670767655759728</td><td>0.017888529245575466</td><td>0.016044292127402094</td><td>72.82992120105072</td><td>80</td><td>0.0</td><td>0.0</td><td>0.0</td><td>0.0</td><td>-1.6265679655737224e-07</td><td>-7.467385849952428e-07</td><td>-1.0653344825947764e-07</td><td>-0.004247945411232935</td><td>0.0003766208892996794</td><td>0.00018021554868427852</td><td>0.0</td><td>3.903836660416437e-06</td><td>0.1883243699912811</td><td>-0.0016549882317899514</td><td>-0.10786185829056194</td></tr>\n",
       "<tr><td>0.0696175414329167</td><td>58334.663924220855</td><td>0.0008964998970484629</td><td>-0.017843871872983825</td><td>-0.00446270104606232</td><td>0.03241402530152532</td><td>41.942059913548995</td><td>-1.484663706801985</td><td>0.0345202233376979</td><td>28</td><td>SN_22</td><td>6</td><td>89</td><td>3</td><td>64</td><td>57</td><td>38</td><td>0</td><td>1</td><td>0.0</td><td>True</td><td>0.0696175414329167</td><td>0.0</td><td>58334.75071989158</td><td>0.11001459235194488</td><td>0.000896073595456775</td><td>1.33048163275117e-05</td><td>-0.06751107720025108</td><td>0.0779104975562367</td><td>-0.004188268021097474</td><td>0.010285532503305</td><td>109.29647397904132</td><td>104</td><td>0.0</td><td>0.0</td><td>0.0</td><td>0.0</td><td>-5.913896303183345e-07</td><td>-6.073596604605752e-07</td><td>-1.0676233072845872e-07</td><td>-0.00021246723872638036</td><td>0.000233057545770309</td><td>0.0001788486954194073</td><td>0.0</td><td>4.2630159168791527e-07</td><td>0.04966720532726726</td><td>-0.0002744330249648463</td><td>-0.08679567072249483</td></tr>\n",
       "<tr><td>0.0694164026092382</td><td>58371.77444336007</td><td>0.000564647617514307</td><td>-0.14276366969881227</td><td>0.11155048501476086</td><td>0.26530438068811735</td><td>334.52769567378726</td><td>50.05340688695361</td><td>0.2668933241692984</td><td>29</td><td>SN_23</td><td>23</td><td>41</td><td>3</td><td>1</td><td>39</td><td>25</td><td>0</td><td>1</td><td>0.0</td><td>True</td><td>0.0694164026092382</td><td>0.0</td><td>58371.83751366251</td><td>0.14773142163903685</td><td>0.0005787743476630301</td><td>1.1060771652237414e-05</td><td>-0.15450620135545823</td><td>0.224070312900939</td><td>0.07885945271752741</td><td>0.01629636421872616</td><td>127.43152052914868</td><td>132</td><td>0.0</td><td>0.0</td><td>0.0</td><td>0.0</td><td>-2.9744899695327435e-07</td><td>-1.1428372680891572e-06</td><td>-1.5429659195577268e-07</td><td>0.010743048058510013</td><td>0.0003785301146672591</td><td>0.0009795752804402959</td><td>0.0</td><td>-1.4126730148723106e-05</td><td>0.01174253165664596</td><td>0.032691032297233455</td><td>-0.06307030244352063</td></tr>\n",
       "<tr><td>0.09819494260279925</td><td>58358.68238861098</td><td>0.00029850589445567133</td><td>-0.22831333803477277</td><td>0.09561016569919994</td><td>0.070875890288129</td><td>33.783195646280156</td><td>14.573048237620366</td><td>0.0703366139528807</td><td>33</td><td>SN_26</td><td>48</td><td>76</td><td>17</td><td>22</td><td>74</td><td>50</td><td>0</td><td>1</td><td>0.0</td><td>True</td><td>0.09819494260279925</td><td>0.0</td><td>58358.64313451356</td><td>0.0874176998368057</td><td>0.00030527454655641966</td><td>5.815152679520541e-06</td><td>-0.281370068479944</td><td>0.13897298221699192</td><td>0.07860377935537367</td><td>0.014936666491516504</td><td>147.31502970458243</td><td>162</td><td>0.0</td><td>0.0</td><td>0.0</td><td>0.0</td><td>-2.1000606218597233e-07</td><td>-6.435594743688874e-07</td><td>-7.496976801545015e-08</td><td>0.00607247193351231</td><td>0.00047530669831635227</td><td>0.0012251597765105496</td><td>0.0</td><td>-6.768652100748332e-06</td><td>0.05305673044517123</td><td>0.01700638634382627</td><td>0.039254097420780454</td></tr>\n",
       "<tr><td>0.09701056376486197</td><td>58351.927437663</td><td>0.0002807248391629498</td><td>0.5691590262331854</td><td>0.14562100116385432</td><td>0.01002792688778861</td><td>249.25613194266316</td><td>50.52421200742129</td><td>0.016390725200979544</td><td>44</td><td>SN_35</td><td>51</td><td>302</td><td>6</td><td>126</td><td>225</td><td>122</td><td>6</td><td>1</td><td>0.0</td><td>True</td><td>0.09701056376486197</td><td>0.0</td><td>58351.91364752946</td><td>0.0971237781959644</td><td>0.0002818458863888823</td><td>2.8622442121567305e-06</td><td>0.588204357985282</td><td>0.0848678072729034</td><td>0.13646402254128084</td><td>0.008344383543615354</td><td>592.6932975337174</td><td>629</td><td>0.0</td><td>0.0</td><td>0.0</td><td>0.0</td><td>-4.0427299813349446e-08</td><td>-1.3704174917354978e-07</td><td>-2.0286532287488294e-08</td><td>-0.002513140305352387</td><td>6.73621444181126e-05</td><td>0.00025576338312466025</td><td>0.0</td><td>-1.1210472259325067e-06</td><td>-0.01904533175209666</td><td>0.009156978622573475</td><td>0.013790133540169336</td></tr>\n",
       "<tr><td>0.05644093132925671</td><td>58340.08704647273</td><td>0.0010355983826827004</td><td>1.0018927608992734</td><td>0.12092757332380757</td><td>0.028906030666013875</td><td>331.90333314602174</td><td>-9.496441989213878</td><td>0.03125866389642981</td><td>54</td><td>SN_43</td><td>6</td><td>31</td><td>1</td><td>21</td><td>19</td><td>9</td><td>9</td><td>1</td><td>0.0</td><td>True</td><td>0.05644093132925671</td><td>0.0</td><td>58339.885175948126</td><td>0.12595748349485802</td><td>0.00102911717896476</td><td>1.8342317704166796e-05</td><td>1.0898312173782592</td><td>0.11531947050198534</td><td>0.11526879670897235</td><td>0.013133804443691645</td><td>67.82736036817563</td><td>48</td><td>0.0</td><td>0.0</td><td>0.0</td><td>0.0</td><td>-2.947976796345624e-07</td><td>-8.995724304757285e-07</td><td>-2.103047751133434e-07</td><td>5.788779781781056e-05</td><td>8.177366438249903e-05</td><td>0.000291851091205144</td><td>0.0</td><td>6.481203717940325e-06</td><td>-0.0879384564789858</td><td>0.005658776614835229</td><td>0.2018705246009631</td></tr>\n",
       "<tr><td>0.09838491758186267</td><td>58332.69198028366</td><td>0.00043812705711329425</td><td>-0.3121396859677277</td><td>-0.04767210365418435</td><td>0.2902717355963906</td><td>334.73103157092584</td><td>50.78638680638167</td><td>0.2895204837399433</td><td>71</td><td>SN_50</td><td>24</td><td>52</td><td>3</td><td>18</td><td>56</td><td>20</td><td>0</td><td>1</td><td>0.0</td><td>True</td><td>0.09838491758186267</td><td>0.0</td><td>58333.000212284795</td><td>0.2026529562426731</td><td>0.00043662605474179515</td><td>1.3821856716998753e-05</td><td>-0.20772589883369433</td><td>0.19767323221146677</td><td>-0.016629795349853902</td><td>0.026929752320971015</td><td>207.26246787496763</td><td>210</td><td>0.0</td><td>0.0</td><td>0.0</td><td>0.0</td><td>-4.651801771586461e-07</td><td>-1.059766658560855e-06</td><td>-3.308860890364341e-07</td><td>0.0047213019002512275</td><td>0.0007292634103863143</td><td>0.0008289591201250414</td><td>0.0</td><td>1.5010023714990997e-06</td><td>-0.10441378713403335</td><td>-0.03104230830433045</td><td>-0.30823200113809435</td></tr>\n",
       "<tr><td>0.07218665115216936</td><td>58301.75835139844</td><td>0.0005926881996759872</td><td>-0.561117639415752</td><td>0.026078454567741785</td><td>0.37052780548598335</td><td>13.460154323200747</td><td>56.99693013695227</td><td>0.3685396680780247</td><td>76</td><td>SN_54</td><td>10</td><td>28</td><td>4</td><td>13</td><td>27</td><td>11</td><td>0</td><td>1</td><td>0.0</td><td>True</td><td>0.07218665115216936</td><td>0.0</td><td>58301.81705834468</td><td>0.22751710700322292</td><td>0.0006019658691211521</td><td>2.4367898361485393e-05</td><td>-0.760065444206491</td><td>0.20855130777787145</td><td>0.03139306643697834</td><td>0.03301017971491852</td><td>135.06646809755705</td><td>139</td><td>0.0</td><td>0.0</td><td>0.0</td><td>0.0</td><td>-5.251636453953342e-07</td><td>-1.800552158951166e-06</td><td>-6.822423398049632e-07</td><td>0.012576638683403137</td><td>-0.0005068178392967282</td><td>0.0001824020221765006</td><td>0.0</td><td>-9.27766944516491e-06</td><td>0.19894780479073904</td><td>-0.005314611869236555</td><td>-0.05870694623445161</td></tr>\n",
       "<tr><td>0.05806709148486733</td><td>58260.18619319137</td><td>0.0012533273481088176</td><td>1.2230431898394516</td><td>-0.0026960991857626388</td><td>0.030294168998324492</td><td>193.5005165769534</td><td>20.26753947814704</td><td>0.02151039557422661</td><td>89</td><td>SN_61</td><td>10</td><td>39</td><td>5</td><td>19</td><td>22</td><td>18</td><td>9</td><td>1</td><td>0.0</td><td>True</td><td>0.05806709148486733</td><td>0.0</td><td>58260.01161606928</td><td>0.08616612094920129</td><td>0.0012758760883688912</td><td>1.5907736382411773e-05</td><td>1.1466155442876522</td><td>0.08962588788063436</td><td>-0.026720981269844544</td><td>0.00951880469577265</td><td>75.35077193775118</td><td>66</td><td>0.0</td><td>0.0</td><td>0.0</td><td>0.0</td><td>-4.0134125435190954e-07</td><td>-8.569523780077286e-07</td><td>-1.23533111468789e-07</td><td>0.0010439100943227563</td><td>0.00015539058570572615</td><td>0.000267632247302391</td><td>0.0</td><td>-2.2548740260073565e-05</td><td>0.07642764555179937</td><td>0.024024882084081906</td><td>0.17457712209579768</td></tr>\n",
       "<tr><td>0.04070773071537651</td><td>58217.049701918615</td><td>0.0037259396630625113</td><td>0.7435680178839461</td><td>-0.12564182108957325</td><td>0.10047875261477068</td><td>294.90441929481705</td><td>54.40835136883067</td><td>0.08490512031064043</td><td>98</td><td>SN_67</td><td>6</td><td>30</td><td>2</td><td>21</td><td>17</td><td>19</td><td>0</td><td>1</td><td>0.0</td><td>True</td><td>0.04070773071537651</td><td>0.0</td><td>58217.178546076386</td><td>0.06167649567578337</td><td>0.0038832007269647573</td><td>5.927663805471256e-05</td><td>0.664068323176905</td><td>0.09016493687027714</td><td>-0.14847931646998488</td><td>0.011260770585053495</td><td>26.478295706775178</td><td>34</td><td>0.0</td><td>0.0</td><td>0.0</td><td>0.0</td><td>1.2327424782618306e-07</td><td>-4.473026579110594e-06</td><td>-5.912461193350373e-07</td><td>6.574224308622785e-05</td><td>-8.071815034456499e-05</td><td>0.0006634658553047731</td><td>0.0</td><td>-0.00015726106390224603</td><td>0.0794996947070411</td><td>0.022837495380411632</td><td>-0.12884415777079994</td></tr>\n",
       "<tr><td>0.06011245156057485</td><td>58379.8556430964</td><td>0.0009201662853653902</td><td>0.9506145682152785</td><td>0.07017120251317406</td><td>0.04671226724895511</td><td>106.3195486675376</td><td>27.815459961262146</td><td>0.05452174041912972</td><td>99</td><td>SN_68</td><td>8</td><td>21</td><td>2</td><td>10</td><td>16</td><td>13</td><td>0</td><td>1</td><td>0.0</td><td>True</td><td>0.06011245156057485</td><td>0.0</td><td>58379.73221928619</td><td>0.1350542907784984</td><td>0.0009536143402736356</td><td>1.3514561237365094e-05</td><td>0.8669979252571952</td><td>0.15205754961801887</td><td>0.04027241118351674</td><td>0.013094429385530144</td><td>37.83158688207018</td><td>31</td><td>0.0</td><td>0.0</td><td>0.0</td><td>0.0</td><td>-8.152559097538654e-08</td><td>-9.489660491638205e-07</td><td>-1.330918491362111e-07</td><td>0.0059951288648167405</td><td>5.4261621367257683e-05</td><td>0.0002702626951350747</td><td>0.0</td><td>-3.3448054908245426e-05</td><td>0.08361664295808324</td><td>0.029898791329657323</td><td>0.12342381021153415</td></tr>\n",
       "<tr><td>0.09117501786464687</td><td>58285.798548875384</td><td>0.00040261242471309705</td><td>1.2618301269129368</td><td>0.13849952201172883</td><td>0.023132547910275726</td><td>186.26517052020787</td><td>56.5547120536188</td><td>0.01043291271066746</td><td>100</td><td>SN_69</td><td>24</td><td>43</td><td>11</td><td>10</td><td>35</td><td>22</td><td>10</td><td>1</td><td>0.0</td><td>True</td><td>0.09117501786464687</td><td>0.0</td><td>58285.584653257916</td><td>0.11311348841627478</td><td>0.00040223902089089707</td><td>7.882854724827853e-06</td><td>1.267659840262506</td><td>0.1787520191222077</td><td>0.12389807904673217</td><td>0.015150763538830197</td><td>188.45621350124202</td><td>184</td><td>0.0</td><td>0.0</td><td>0.0</td><td>0.0</td><td>-2.626943142058928e-07</td><td>-1.008323983796185e-06</td><td>-1.0278774453350446e-07</td><td>0.012272720853009605</td><td>0.0003596845877515992</td><td>0.0014386943974295811</td><td>0.0</td><td>3.734038221999813e-07</td><td>-0.0058297133495692766</td><td>0.014601442964996658</td><td>0.2138956174676423</td></tr>\n",
       "<tr><td>0.08816832998515786</td><td>58295.312234728764</td><td>0.0005707681199705236</td><td>0.6122449459166399</td><td>-0.021111730801265848</td><td>0.07739089727724022</td><td>320.08972336435306</td><td>12.210950279818178</td><td>0.07437617466353741</td><td>101</td><td>SN_70</td><td>18</td><td>46</td><td>12</td><td>25</td><td>36</td><td>18</td><td>10</td><td>1</td><td>0.0</td><td>True</td><td>0.08816832998515786</td><td>0.0</td><td>58295.33492718281</td><td>0.09996056701493217</td><td>0.0005600512060464102</td><td>1.209653116725254e-05</td><td>0.8635182722268289</td><td>0.15615249651148752</td><td>-0.029089851727340573</td><td>0.015452207198039357</td><td>132.0564533834059</td><td>132</td><td>0.0</td><td>0.0</td><td>0.0</td><td>0.0</td><td>-3.7421605421503245e-07</td><td>-1.3156299482140776e-06</td><td>-1.3514162090556446e-07</td><td>0.009056821926511034</td><td>0.0001033660768191163</td><td>0.0005727471301067541</td><td>0.0</td><td>1.0716913924113387e-05</td><td>-0.25127332631018895</td><td>0.007978120926074726</td><td>-0.022692454047501087</td></tr>\n",
       "<tr><td>0.0956132543543666</td><td>58379.67545900487</td><td>0.00033873385939043926</td><td>-0.26292917856471265</td><td>-0.011681630185942316</td><td>0.040680819558640335</td><td>106.84519783721366</td><td>12.939522727037405</td><td>0.04609982664783039</td><td>103</td><td>SN_72</td><td>8</td><td>11</td><td>2</td><td>3</td><td>10</td><td>9</td><td>0</td><td>1</td><td>0.0</td><td>True</td><td>0.0956132543543666</td><td>0.0</td><td>58379.40303478879</td><td>0.3159608700188983</td><td>0.00034796308280149755</td><td>9.896923820068802e-06</td><td>-0.10927301953144576</td><td>0.3504599655729999</td><td>-0.0816690399425873</td><td>0.03309506187875892</td><td>35.43682570794418</td><td>36</td><td>0.0</td><td>0.0</td><td>0.0</td><td>0.0</td><td>-3.744397532038055e-07</td><td>-1.6058198985994818e-06</td><td>-1.7908735058139422e-07</td><td>0.035526272969245064</td><td>0.0009620973517111183</td><td>-0.00029884714126598923</td><td>0.0</td><td>-9.229223411058292e-06</td><td>-0.1536561590332669</td><td>0.06998740975664498</td><td>0.2724242160838912</td></tr>\n",
       "<tr><td>...</td><td>...</td><td>...</td><td>...</td><td>...</td><td>...</td><td>...</td><td>...</td><td>...</td><td>...</td><td>...</td><td>...</td><td>...</td><td>...</td><td>...</td><td>...</td><td>...</td><td>...</td><td>...</td><td>...</td><td>...</td><td>...</td><td>...</td><td>...</td><td>...</td><td>...</td><td>...</td><td>...</td><td>...</td><td>...</td><td>...</td><td>...</td><td>...</td><td>...</td><td>...</td><td>...</td><td>...</td><td>...</td><td>...</td><td>...</td><td>...</td><td>...</td><td>...</td><td>...</td><td>...</td><td>...</td><td>...</td><td>...</td></tr>\n",
       "<tr><td>0.08509944903034625</td><td>58246.59024700952</td><td>0.00042377301305758665</td><td>1.1246258531822095</td><td>0.1222639787057672</td><td>0.014213581426718089</td><td>189.43304374430622</td><td>26.69662830880043</td><td>0.01549561433449552</td><td>3398</td><td>SN_2551</td><td>22</td><td>57</td><td>12</td><td>36</td><td>44</td><td>28</td><td>7</td><td>1</td><td>0.0</td><td>True</td><td>0.08509944903034625</td><td>0.0</td><td>58246.35704598179</td><td>0.11696333771760692</td><td>0.0004332990180800512</td><td>6.4749565319851576e-06</td><td>0.9988344111371241</td><td>0.10555191725708564</td><td>0.10050635642089165</td><td>0.012643310918113061</td><td>134.84996100664588</td><td>127</td><td>0.0</td><td>0.0</td><td>0.0</td><td>0.0</td><td>2.7481830532146845e-09</td><td>-2.669315617847228e-07</td><td>-6.689386389239696e-08</td><td>0.001053725056758976</td><td>-0.00018780371594881722</td><td>8.18349548302458e-05</td><td>0.0</td><td>-9.52600502246453e-06</td><td>0.1257914420450854</td><td>0.021757622284875558</td><td>0.2332010277241352</td></tr>\n",
       "<tr><td>0.09221007126042433</td><td>58366.10957700052</td><td>0.000396737744581779</td><td>-0.26025630197281147</td><td>0.016189746523191523</td><td>0.016178826931356232</td><td>11.118818267745656</td><td>3.5052114734162734</td><td>0.022076235314438288</td><td>3403</td><td>SN_2556</td><td>37</td><td>56</td><td>16</td><td>6</td><td>51</td><td>34</td><td>8</td><td>1</td><td>0.0</td><td>True</td><td>0.09221007126042433</td><td>0.0</td><td>58366.11340095467</td><td>0.09099431030335836</td><td>0.00039698214264829</td><td>4.313925130743812e-06</td><td>-0.15303092212227526</td><td>0.10739146477826682</td><td>0.00924317814917388</td><td>0.010167050270293406</td><td>172.65405235483217</td><td>135</td><td>0.0</td><td>0.0</td><td>0.0</td><td>0.0</td><td>-1.7331345288204228e-07</td><td>-2.5466839365334715e-07</td><td>-3.332556588334448e-08</td><td>0.004321779370071062</td><td>0.00029630671338367524</td><td>0.0002880363035331115</td><td>0.0</td><td>-2.4439806651095327e-07</td><td>-0.1072253798505362</td><td>0.006946568374017643</td><td>-0.003823954153631348</td></tr>\n",
       "<tr><td>0.060994508684494485</td><td>58297.928891908436</td><td>0.0006817063535978502</td><td>1.7133099824810223</td><td>0.23102533289111152</td><td>0.19714272698505447</td><td>274.4538529132471</td><td>14.749840833479674</td><td>0.18749226782832937</td><td>3404</td><td>SN_2557</td><td>25</td><td>276</td><td>15</td><td>260</td><td>282</td><td>19</td><td>0</td><td>1</td><td>0.0</td><td>True</td><td>0.060994508684494485</td><td>0.0</td><td>58297.713688589225</td><td>0.07733926305445493</td><td>0.0006722510934510217</td><td>1.3881758837348242e-05</td><td>1.7883023942886178</td><td>0.10945574370365009</td><td>0.22262551203003025</td><td>0.016103786653574318</td><td>328.4230342583533</td><td>343</td><td>0.0</td><td>0.0</td><td>0.0</td><td>0.0</td><td>1.6001528792562154e-07</td><td>-5.260666303453512e-07</td><td>-1.63550029664789e-07</td><td>-0.0006847029906835928</td><td>-0.0002630113547777234</td><td>-0.0006034690747577661</td><td>0.0</td><td>9.455260146828568e-06</td><td>-0.07499241180759553</td><td>0.008399820861081264</td><td>0.21520331921055913</td></tr>\n",
       "<tr><td>0.056853364658705455</td><td>58385.051990135464</td><td>0.0013023426622188253</td><td>-0.7704155230860367</td><td>-0.03574049889647984</td><td>0.09616384728516131</td><td>29.971222099262445</td><td>26.000534708180577</td><td>0.07577264049937171</td><td>3407</td><td>SN_2560</td><td>43</td><td>28</td><td>23</td><td>15</td><td>37</td><td>34</td><td>0</td><td>1</td><td>0.0</td><td>True</td><td>0.056853364658705455</td><td>0.0</td><td>58384.93155589255</td><td>0.06383559005189454</td><td>0.0013064742913484534</td><td>9.980410394468726e-06</td><td>-0.8345863188640098</td><td>0.06595857710044482</td><td>-0.04241305941650021</td><td>0.007552280532481851</td><td>162.9722705980268</td><td>142</td><td>0.0</td><td>0.0</td><td>0.0</td><td>0.0</td><td>5.3374014176607015e-08</td><td>-1.2693377992556334e-07</td><td>-5.4018437568896297e-08</td><td>0.0033422061396593664</td><td>7.231814774389356e-05</td><td>9.791910069667598e-05</td><td>0.0</td><td>-4.131629129628051e-06</td><td>0.06417079577797313</td><td>0.006672560520020375</td><td>0.12043424291186966</td></tr>\n",
       "<tr><td>0.08753743146338501</td><td>58293.1073461973</td><td>0.0005103734013742985</td><td>0.37600324347844916</td><td>0.007900723591210438</td><td>0.2014792723827877</td><td>259.37663779641457</td><td>1.194084015563561</td><td>0.20212623297664584</td><td>3410</td><td>SN_2562</td><td>9</td><td>12</td><td>4</td><td>4</td><td>13</td><td>8</td><td>0</td><td>1</td><td>0.0</td><td>True</td><td>0.08753743146338501</td><td>0.0</td><td>58293.03202668069</td><td>0.2632926984115329</td><td>0.0005013671727563121</td><td>1.982678290889341e-05</td><td>0.20233222873450554</td><td>0.3471126860749567</td><td>0.05662794981384226</td><td>0.033983575637631935</td><td>30.975536548407323</td><td>36</td><td>0.0</td><td>0.0</td><td>0.0</td><td>0.0</td><td>-5.189817906483821e-07</td><td>-3.1625451917795366e-06</td><td>-5.263797241610254e-07</td><td>0.04899659959023626</td><td>0.0006787663483968522</td><td>0.0016190904983316619</td><td>0.0</td><td>9.0062286179864e-06</td><td>0.1736710147439436</td><td>-0.04872722622263182</td><td>0.07531951661076164</td></tr>\n",
       "<tr><td>0.09182008055008394</td><td>58382.54069655007</td><td>0.0005984229087271606</td><td>0.684643462089704</td><td>-0.04087366555433791</td><td>0.07137398841406788</td><td>73.36892941261402</td><td>8.154629213603041</td><td>0.08180469345876756</td><td>3412</td><td>SN_2564</td><td>22</td><td>28</td><td>9</td><td>11</td><td>28</td><td>22</td><td>0</td><td>1</td><td>0.0</td><td>True</td><td>0.09182008055008394</td><td>0.0</td><td>58382.3937864222</td><td>0.12333109517931007</td><td>0.0006021577185826304</td><td>7.812117177635288e-06</td><td>0.6428704631323195</td><td>0.15324173357232102</td><td>-0.05063867496647943</td><td>0.013282236590467036</td><td>77.68172316899053</td><td>100</td><td>0.0</td><td>0.0</td><td>0.0</td><td>0.0</td><td>-9.343857194529416e-08</td><td>-5.961782684352837e-07</td><td>-6.431322170307703e-08</td><td>0.01052357872604887</td><td>5.7588295732271535e-05</td><td>0.00017851309187753655</td><td>0.0</td><td>-3.734809855469824e-06</td><td>0.0417729989573844</td><td>0.00976500941214152</td><td>0.14691012787079671</td></tr>\n",
       "<tr><td>0.04493484763798444</td><td>58444.77404768072</td><td>0.0012656425237245572</td><td>-0.4862999924019841</td><td>0.14291495957226544</td><td>0.29154518259666534</td><td>80.37349646587653</td><td>16.465745255029464</td><td>0.2794419015765872</td><td>3417</td><td>SN_2567</td><td>26</td><td>20</td><td>4</td><td>7</td><td>32</td><td>14</td><td>0</td><td>1</td><td>0.0</td><td>True</td><td>0.04493484763798444</td><td>0.0</td><td>58444.748124650454</td><td>0.10856519169828971</td><td>0.00133604249985278</td><td>2.8978359822043508e-05</td><td>-0.611022041814108</td><td>0.14306255822848202</td><td>0.1075631627955251</td><td>0.016769987179529763</td><td>89.55150658994546</td><td>74</td><td>0.0</td><td>0.0</td><td>0.0</td><td>0.0</td><td>7.391348215025771e-07</td><td>-8.180420980039425e-07</td><td>-4.4035433948772974e-07</td><td>0.008826552825289177</td><td>-0.0004533435773521545</td><td>9.744614566331065e-05</td><td>0.0</td><td>-7.039997612822281e-05</td><td>0.12472204941212389</td><td>0.035351796776740343</td><td>0.025923030269041192</td></tr>\n",
       "<tr><td>0.07522090041398802</td><td>58435.69015726318</td><td>0.0006239420708297994</td><td>-0.6644145330769545</td><td>-0.048065009261883784</td><td>0.05629955248411203</td><td>24.989612674019558</td><td>34.37239700671948</td><td>0.03510036170947807</td><td>3419</td><td>SN_2568</td><td>53</td><td>45</td><td>16</td><td>18</td><td>63</td><td>31</td><td>4</td><td>1</td><td>0.0</td><td>True</td><td>0.07522090041398802</td><td>0.0</td><td>58435.83156762571</td><td>0.10183838836746872</td><td>0.0006370916961547648</td><td>6.7898229587842215e-06</td><td>-0.49836836650204897</td><td>0.13194444007272493</td><td>-0.06930553234330109</td><td>0.009676863914717499</td><td>130.91309190085622</td><td>137</td><td>0.0</td><td>0.0</td><td>0.0</td><td>0.0</td><td>6.980198842629592e-08</td><td>-2.890356938693281e-07</td><td>-4.7301247519038494e-08</td><td>0.008473322173934811</td><td>-2.530010153291155e-05</td><td>0.00011695556316763206</td><td>0.0</td><td>-1.3149625324965371e-05</td><td>-0.16604616657490556</td><td>0.0212405230814173</td><td>-0.14141036252840422</td></tr>\n",
       "<tr><td>0.09790818311968444</td><td>58267.494143108124</td><td>0.00034553799005517086</td><td>-0.372694495262345</td><td>0.06287625340202951</td><td>0.13051232105644137</td><td>270.25485398126483</td><td>21.080761862480266</td><td>0.10797325990514586</td><td>3433</td><td>SN_2580</td><td>32</td><td>102</td><td>18</td><td>29</td><td>78</td><td>54</td><td>2</td><td>1</td><td>0.0</td><td>True</td><td>0.09790818311968444</td><td>0.0</td><td>58267.57168433207</td><td>0.10300896303670015</td><td>0.0003494186036062601</td><td>7.611233506875793e-06</td><td>-0.41254809540293247</td><td>0.14982816895965348</td><td>0.04643103384002324</td><td>0.015166755361291837</td><td>336.4950532176907</td><td>312</td><td>0.0</td><td>0.0</td><td>0.0</td><td>0.0</td><td>-3.17331195880138e-07</td><td>-9.059953473584665e-07</td><td>-9.106780053775132e-08</td><td>0.006290110075553035</td><td>0.0002600668630631772</td><td>0.0010208717408392905</td><td>0.0</td><td>-3.8806135510892174e-06</td><td>0.039853600140587475</td><td>0.016445219562006272</td><td>-0.07754122394544538</td></tr>\n",
       "<tr><td>0.041479662872352475</td><td>58404.59451855132</td><td>0.0033797528675049344</td><td>1.1242030504927412</td><td>-0.10042383241140485</td><td>0.0251607084955427</td><td>131.26743225323673</td><td>73.5720728749418</td><td>0.016130892236135508</td><td>3439</td><td>SN_2584</td><td>10</td><td>62</td><td>8</td><td>56</td><td>41</td><td>31</td><td>0</td><td>1</td><td>0.0</td><td>True</td><td>0.041479662872352475</td><td>0.0</td><td>58404.31980482679</td><td>0.03842573321890086</td><td>0.0034027719774513934</td><td>4.386984496021375e-05</td><td>1.1153950521255436</td><td>0.06385703620414564</td><td>-0.11257778996843795</td><td>0.007863218038372859</td><td>94.29936963598666</td><td>81</td><td>0.0</td><td>0.0</td><td>0.0</td><td>0.0</td><td>-3.37678908034951e-07</td><td>-2.2111349731749983e-06</td><td>-2.8669204455772094e-07</td><td>0.0005016514307588353</td><td>4.047614974666519e-05</td><td>0.00022121737040363632</td><td>0.0</td><td>-2.3019109946459046e-05</td><td>0.00880799836719759</td><td>0.012153957557033107</td><td>0.27471372453146614</td></tr>\n",
       "<tr><td>0.06666311335329787</td><td>58363.73741727938</td><td>0.0011508794490276955</td><td>0.7593628728012892</td><td>-0.05523988953206203</td><td>0.06348410039876372</td><td>64.34394735022657</td><td>-6.922845627987849</td><td>0.05641489347683976</td><td>3442</td><td>SN_2587</td><td>30</td><td>65</td><td>13</td><td>21</td><td>52</td><td>43</td><td>0</td><td>1</td><td>0.0</td><td>True</td><td>0.06666311335329787</td><td>0.0</td><td>58363.62987503049</td><td>0.058517078792647226</td><td>0.0011541788241147652</td><td>1.1236551360549961e-05</td><td>0.7459528979257157</td><td>0.08203471549531233</td><td>-0.05872424976291056</td><td>0.007814473604148402</td><td>85.9958492296222</td><td>97</td><td>0.0</td><td>0.0</td><td>0.0</td><td>0.0</td><td>-3.4878913654046163e-07</td><td>-6.889705937799481e-07</td><td>-7.33338351955631e-08</td><td>0.0026202910006624964</td><td>0.00018464885698325155</td><td>0.000328286328309694</td><td>0.0</td><td>-3.299375087069704e-06</td><td>0.013409974875573494</td><td>0.0034843602308485336</td><td>0.10754224888660247</td></tr>\n",
       "<tr><td>0.07573429132807132</td><td>58242.605816552365</td><td>0.0004547503350594075</td><td>-0.7175237636371278</td><td>0.08892005350483595</td><td>0.046379210426852</td><td>214.55031937883024</td><td>2.0911181015823406</td><td>0.031195892142598734</td><td>3449</td><td>SN_2592</td><td>5</td><td>22</td><td>3</td><td>10</td><td>13</td><td>13</td><td>1</td><td>1</td><td>0.0</td><td>True</td><td>0.07573429132807132</td><td>0.0</td><td>58242.569398855965</td><td>0.20001875218440546</td><td>0.0004697397432623708</td><td>1.1725650726267249e-05</td><td>-0.7668653648385736</td><td>0.17257804384375242</td><td>0.05811483426995089</td><td>0.022109262274172467</td><td>56.659051799969994</td><td>54</td><td>0.0</td><td>0.0</td><td>0.0</td><td>0.0</td><td>-7.796758355778721e-07</td><td>-9.994033204313224e-07</td><td>-1.8312784778136378e-07</td><td>0.008701807471228423</td><td>0.00048521959723715947</td><td>0.0004779097890929702</td><td>0.0</td><td>-1.4989408202963322e-05</td><td>0.04934160120144582</td><td>0.030805219234885058</td><td>0.03641769639943959</td></tr>\n",
       "<tr><td>0.09642540889847759</td><td>58402.89568726909</td><td>0.0003925146964884045</td><td>1.0635185126671578</td><td>0.07575235699245425</td><td>0.020966941999719158</td><td>2.683559951824739</td><td>-11.961317180555199</td><td>0.022788706839254696</td><td>3452</td><td>SN_2594</td><td>8</td><td>19</td><td>6</td><td>19</td><td>15</td><td>12</td><td>0</td><td>1</td><td>0.0</td><td>True</td><td>0.09642540889847759</td><td>0.0</td><td>58402.39555889877</td><td>0.20183834400449996</td><td>0.00040550643425850977</td><td>1.7859019877015703e-05</td><td>0.6137567288363238</td><td>0.2790739113058159</td><td>0.056124178166517394</td><td>0.03160410828119919</td><td>94.91556362623757</td><td>85</td><td>0.0</td><td>0.0</td><td>0.0</td><td>0.0</td><td>9.834151058278077e-08</td><td>-3.6768104121192933e-06</td><td>-3.747345985330479e-07</td><td>0.004987964288752211</td><td>1.4600973365145779e-05</td><td>0.001706225898566474</td><td>0.0</td><td>-1.2991737770105274e-05</td><td>0.449761783830834</td><td>0.019628178825936857</td><td>0.5001283703240915</td></tr>\n",
       "<tr><td>0.0936860934267294</td><td>58268.92034209017</td><td>0.0006001999342324803</td><td>-0.1669617083455156</td><td>-0.09351000690876796</td><td>-0.003027101939049953</td><td>188.30035556988716</td><td>9.406492004470064</td><td>0.0179498873360869</td><td>3469</td><td>SN_2607</td><td>13</td><td>34</td><td>7</td><td>3</td><td>23</td><td>19</td><td>5</td><td>1</td><td>0.0</td><td>True</td><td>0.0936860934267294</td><td>0.0</td><td>58268.91928203013</td><td>0.11487101593229454</td><td>0.0006092945736948964</td><td>9.3983312290121e-06</td><td>-0.3074766977647525</td><td>0.13338802048481158</td><td>-0.10502102131575133</td><td>0.012972403248179986</td><td>55.0567996925335</td><td>80</td><td>0.0</td><td>0.0</td><td>0.0</td><td>0.0</td><td>-6.502738989368714e-07</td><td>-8.887281634772153e-07</td><td>-8.346788720772197e-08</td><td>0.005916121692696749</td><td>0.0005897320664972244</td><td>0.0005126689353281735</td><td>0.0</td><td>-9.094639462416143e-06</td><td>0.1405149894192369</td><td>0.011511014406983378</td><td>0.0010600600362522528</td></tr>\n",
       "<tr><td>0.048748043526010545</td><td>58240.73496396007</td><td>0.001545147630015847</td><td>-0.5808063190667402</td><td>-0.006574678395819696</td><td>0.03780657034291661</td><td>228.5433683091057</td><td>17.155043204566294</td><td>0.02545783023692655</td><td>3475</td><td>SN_2612</td><td>10</td><td>28</td><td>5</td><td>19</td><td>14</td><td>13</td><td>11</td><td>1</td><td>0.0</td><td>True</td><td>0.048748043526010545</td><td>0.0</td><td>58240.87398762039</td><td>0.07949632772579207</td><td>0.0015481748114520247</td><td>2.715551145110622e-05</td><td>-0.5130869787291711</td><td>0.09257890815351172</td><td>-0.014878311026921063</td><td>0.013178215371543333</td><td>67.69631318956877</td><td>50</td><td>0.0</td><td>0.0</td><td>0.0</td><td>0.0</td><td>-1.3364297917599227e-07</td><td>-1.314755075346549e-06</td><td>-2.5727390277203966e-07</td><td>0.002714049333868617</td><td>-9.28057294832015e-05</td><td>4.493708327030557e-05</td><td>0.0</td><td>-3.0271814361777782e-06</td><td>-0.0677193403375691</td><td>0.008303632631101367</td><td>-0.1390236603183439</td></tr>\n",
       "<tr><td>0.08464110946373785</td><td>58223.67447375096</td><td>0.00044863271545716283</td><td>0.24872623830965018</td><td>0.02556543614505798</td><td>0.024609943065979138</td><td>205.4870730072504</td><td>69.84106221521657</td><td>0.012769433380491732</td><td>3476</td><td>SN_2613</td><td>53</td><td>172</td><td>6</td><td>73</td><td>123</td><td>92</td><td>10</td><td>1</td><td>0.0</td><td>True</td><td>0.08464110946373785</td><td>0.0</td><td>58223.71265873097</td><td>0.09269817587119178</td><td>0.00045139162653590095</td><td>4.890249317022109e-06</td><td>0.27009178803995704</td><td>0.08021845748129636</td><td>0.013710104199365065</td><td>0.009534079222739147</td><td>423.65149453367997</td><td>391</td><td>0.0</td><td>0.0</td><td>0.0</td><td>0.0</td><td>-1.845364833354369e-07</td><td>-1.8851564963953636e-07</td><td>-4.0651232838990984e-08</td><td>0.00012221823777545745</td><td>0.0004231445431301984</td><td>0.00019038111899685696</td><td>0.0</td><td>-2.7589110787381178e-06</td><td>-0.021365549730306854</td><td>0.011855331945692915</td><td>-0.03818498001055559</td></tr>\n",
       "<tr><td>0.04946417154203528</td><td>58365.98513899574</td><td>0.0019193439790086383</td><td>0.473064161897739</td><td>-0.002077134244301455</td><td>0.002998293527500282</td><td>225.40923479697355</td><td>60.99215182822667</td><td>0.009762668920624395</td><td>3478</td><td>SN_2615</td><td>39</td><td>23</td><td>25</td><td>3</td><td>42</td><td>17</td><td>3</td><td>1</td><td>0.0</td><td>True</td><td>0.04946417154203528</td><td>0.0</td><td>58365.891430602074</td><td>0.05497175990240066</td><td>0.0019297359751802412</td><td>1.53302557551266e-05</td><td>0.4889837309746628</td><td>0.08452889597145645</td><td>-0.00957047126129207</td><td>0.006423404888000975</td><td>52.97015045802374</td><td>68</td><td>0.0</td><td>0.0</td><td>0.0</td><td>0.0</td><td>-7.355737218972101e-08</td><td>-3.860143179355235e-07</td><td>-8.328542203572765e-08</td><td>0.0037550695610530835</td><td>-2.0422502900993806e-05</td><td>2.2459670487192432e-05</td><td>0.0</td><td>-1.0391996171602892e-05</td><td>-0.015919569076923823</td><td>0.007493337016990615</td><td>0.09370839366602013</td></tr>\n",
       "<tr><td>0.06990351051755538</td><td>58301.74181722051</td><td>0.0006274953035356366</td><td>0.020258267029288745</td><td>0.11439536590941908</td><td>0.031130024370669945</td><td>245.22130780054113</td><td>66.52999100740777</td><td>0.030321380632512843</td><td>3483</td><td>SN_2616</td><td>51</td><td>126</td><td>13</td><td>76</td><td>100</td><td>68</td><td>9</td><td>1</td><td>0.0</td><td>True</td><td>0.06990351051755538</td><td>0.0</td><td>58301.74854233588</td><td>0.05610935444201459</td><td>0.0006323937901291432</td><td>5.568459104795442e-06</td><td>0.04111103400742084</td><td>0.06680060210474512</td><td>0.102709116449104</td><td>0.007333442429703461</td><td>227.23368824940908</td><td>241</td><td>0.0</td><td>0.0</td><td>0.0</td><td>0.0</td><td>-5.9055198490521146e-08</td><td>-2.1388809751169747e-07</td><td>-3.163602310150845e-08</td><td>0.0008286988050345643</td><td>5.9856029785090577e-05</td><td>0.00011079485834972591</td><td>0.0</td><td>-4.898486593506624e-06</td><td>-0.020852766978132094</td><td>0.011686249460315087</td><td>-0.006725115374138113</td></tr>\n",
       "<tr><td>0.07486676040795842</td><td>58439.613370606</td><td>0.001194210109510669</td><td>0.6801518087888735</td><td>-0.13332419176671312</td><td>0.1035885379386457</td><td>93.35593346958439</td><td>68.28811154790374</td><td>0.09056400409947273</td><td>3484</td><td>SN_2617</td><td>53</td><td>64</td><td>21</td><td>23</td><td>74</td><td>43</td><td>0</td><td>1</td><td>0.0</td><td>True</td><td>0.07486676040795842</td><td>0.0</td><td>58439.48796466976</td><td>0.06580507946273428</td><td>0.0011867030022820078</td><td>9.167820134338175e-06</td><td>0.5967694259319598</td><td>0.08539580865501514</td><td>-0.12692198005583114</td><td>0.007127195289931921</td><td>135.48535847075664</td><td>133</td><td>0.0</td><td>0.0</td><td>0.0</td><td>0.0</td><td>-5.3219276845378126e-08</td><td>-3.5268896509015826e-07</td><td>-4.743227331837687e-08</td><td>0.0038409844168208946</td><td>-2.8012763565007143e-05</td><td>6.059409823516462e-05</td><td>0.0</td><td>7.507107228661193e-06</td><td>0.08338238285691368</td><td>-0.006402211710881983</td><td>0.12540593623998575</td></tr>\n",
       "<tr><td>0.08178976284699759</td><td>58348.66392970067</td><td>0.0002745974078664274</td><td>0.1749802489155754</td><td>0.25458412679735437</td><td>0.05396971706013044</td><td>263.5789526094194</td><td>57.719752226021534</td><td>0.04687121268455663</td><td>3493</td><td>SN_2624</td><td>19</td><td>339</td><td>6</td><td>149</td><td>230</td><td>116</td><td>12</td><td>1</td><td>0.0</td><td>True</td><td>0.08178976284699759</td><td>0.0</td><td>58348.647527155605</td><td>0.10622684064219357</td><td>0.00027542169588919493</td><td>3.444410673958887e-06</td><td>0.11764809677399511</td><td>0.07411070503825311</td><td>0.2452949896576348</td><td>0.009494858493945338</td><td>740.1268425514485</td><td>737</td><td>0.0</td><td>0.0</td><td>0.0</td><td>0.0</td><td>-1.1684542838954368e-07</td><td>-1.1837963041982031e-07</td><td>-2.8685245050457217e-08</td><td>-0.0010148489810046686</td><td>0.00017205074811714414</td><td>0.00019761605190761104</td><td>0.0</td><td>-8.242880227675464e-07</td><td>0.057332152141580286</td><td>0.009289137139719572</td><td>0.01640254506492056</td></tr>\n",
       "<tr><td>0.07462736632382697</td><td>58293.23266855628</td><td>0.0010245264573889327</td><td>-1.0485002854770837</td><td>-0.22007933440011174</td><td>0.06543196340983798</td><td>293.0569842503995</td><td>79.02544620913213</td><td>0.07037311683948687</td><td>3494</td><td>SN_2625</td><td>20</td><td>112</td><td>7</td><td>90</td><td>70</td><td>53</td><td>9</td><td>1</td><td>0.0</td><td>True</td><td>0.07462736632382697</td><td>0.0</td><td>58293.20437470845</td><td>0.06704193665427738</td><td>0.0010250829855552698</td><td>1.1639241490337318e-05</td><td>-1.0411082330866015</td><td>0.06315630591532755</td><td>-0.21929392888030402</td><td>0.009808181305540944</td><td>232.4638708779156</td><td>204</td><td>0.0</td><td>0.0</td><td>0.0</td><td>0.0</td><td>2.890719991158606e-10</td><td>-4.2018551343880244e-07</td><td>-8.157174004383282e-08</td><td>0.00020356433200730123</td><td>-3.691008521134443e-05</td><td>9.692899934985732e-05</td><td>0.0</td><td>-5.565281663371356e-07</td><td>-0.00739205239048224</td><td>-0.0007854055198077137</td><td>0.028293847826716956</td></tr>\n",
       "</table></div>"
      ],
      "text/plain": [
       "<Table length=593>\n",
       "         z                   t0                   x0           ...         diff_c                diff_t0       \n",
       "      float64             float64              float64         ...        float64                float64       \n",
       "-------------------- ------------------ ---------------------- ... ---------------------- ---------------------\n",
       " 0.09496615230696706  58311.20197489228  0.0006119488225370554 ...   0.017626557873930172    0.2096836583368713\n",
       " 0.07864194667329098 58334.909398505326  0.0009331921528894242 ...  0.0006493434750611538   0.10406032233004225\n",
       " 0.06350687289352495  58285.42305707414  0.0010296304646536993 ...    0.00179518484689703  0.023715069524769206\n",
       " 0.05647814437682584 58352.113433949526  0.0009241014179105386 ...   0.010104751762271075   0.24342948139383225\n",
       " 0.05704765622053076  58209.52125745381  0.0010452101539038625 ...  -0.005409289676897035   -0.1055857540704892\n",
       " 0.04963981168196111  58274.60936929726   0.001993874169364107 ...  -0.011443795330224785  0.002774181979475543\n",
       " 0.09924158873036648  58342.68538742703  0.0004228687086892035 ... -0.0016549882317899514  -0.10786185829056194\n",
       "  0.0696175414329167 58334.663924220855  0.0008964998970484629 ... -0.0002744330249648463  -0.08679567072249483\n",
       "  0.0694164026092382  58371.77444336007   0.000564647617514307 ...   0.032691032297233455  -0.06307030244352063\n",
       " 0.09819494260279925  58358.68238861098 0.00029850589445567133 ...    0.01700638634382627  0.039254097420780454\n",
       " 0.09701056376486197    58351.927437663  0.0002807248391629498 ...   0.009156978622573475  0.013790133540169336\n",
       " 0.05644093132925671  58340.08704647273  0.0010355983826827004 ...   0.005658776614835229    0.2018705246009631\n",
       " 0.09838491758186267  58332.69198028366 0.00043812705711329425 ...   -0.03104230830433045  -0.30823200113809435\n",
       " 0.07218665115216936  58301.75835139844  0.0005926881996759872 ...  -0.005314611869236555  -0.05870694623445161\n",
       " 0.05806709148486733  58260.18619319137  0.0012533273481088176 ...   0.024024882084081906   0.17457712209579768\n",
       " 0.04070773071537651 58217.049701918615  0.0037259396630625113 ...   0.022837495380411632  -0.12884415777079994\n",
       " 0.06011245156057485   58379.8556430964  0.0009201662853653902 ...   0.029898791329657323   0.12342381021153415\n",
       " 0.09117501786464687 58285.798548875384 0.00040261242471309705 ...   0.014601442964996658    0.2138956174676423\n",
       " 0.08816832998515786 58295.312234728764  0.0005707681199705236 ...   0.007978120926074726 -0.022692454047501087\n",
       "  0.0956132543543666  58379.67545900487 0.00033873385939043926 ...    0.06998740975664498    0.2724242160838912\n",
       "                 ...                ...                    ... ...                    ...                   ...\n",
       " 0.08509944903034625  58246.59024700952 0.00042377301305758665 ...   0.021757622284875558    0.2332010277241352\n",
       " 0.09221007126042433  58366.10957700052   0.000396737744581779 ...   0.006946568374017643 -0.003823954153631348\n",
       "0.060994508684494485 58297.928891908436  0.0006817063535978502 ...   0.008399820861081264   0.21520331921055913\n",
       "0.056853364658705455 58385.051990135464  0.0013023426622188253 ...   0.006672560520020375   0.12043424291186966\n",
       " 0.08753743146338501   58293.1073461973  0.0005103734013742985 ...   -0.04872722622263182   0.07531951661076164\n",
       " 0.09182008055008394  58382.54069655007  0.0005984229087271606 ...    0.00976500941214152   0.14691012787079671\n",
       " 0.04493484763798444  58444.77404768072  0.0012656425237245572 ...   0.035351796776740343  0.025923030269041192\n",
       " 0.07522090041398802  58435.69015726318  0.0006239420708297994 ...     0.0212405230814173  -0.14141036252840422\n",
       " 0.09790818311968444 58267.494143108124 0.00034553799005517086 ...   0.016445219562006272  -0.07754122394544538\n",
       "0.041479662872352475  58404.59451855132  0.0033797528675049344 ...   0.012153957557033107   0.27471372453146614\n",
       " 0.06666311335329787  58363.73741727938  0.0011508794490276955 ...  0.0034843602308485336   0.10754224888660247\n",
       " 0.07573429132807132 58242.605816552365  0.0004547503350594075 ...   0.030805219234885058   0.03641769639943959\n",
       " 0.09642540889847759  58402.89568726909  0.0003925146964884045 ...   0.019628178825936857    0.5001283703240915\n",
       "  0.0936860934267294  58268.92034209017  0.0006001999342324803 ...   0.011511014406983378 0.0010600600362522528\n",
       "0.048748043526010545  58240.73496396007   0.001545147630015847 ...   0.008303632631101367   -0.1390236603183439\n",
       " 0.08464110946373785  58223.67447375096 0.00044863271545716283 ...   0.011855331945692915  -0.03818498001055559\n",
       " 0.04946417154203528  58365.98513899574  0.0019193439790086383 ...   0.007493337016990615   0.09370839366602013\n",
       " 0.06990351051755538  58301.74181722051  0.0006274953035356366 ...   0.011686249460315087 -0.006725115374138113\n",
       " 0.07486676040795842    58439.613370606   0.001194210109510669 ...  -0.006402211710881983   0.12540593623998575\n",
       " 0.08178976284699759  58348.66392970067  0.0002745974078664274 ...   0.009289137139719572   0.01640254506492056\n",
       " 0.07462736632382697  58293.23266855628  0.0010245264573889327 ... -0.0007854055198077137  0.028293847826716956"
      ]
     },
     "execution_count": 20,
     "metadata": {},
     "output_type": "execute_result"
    }
   ],
   "source": [
    "param_simu = ['z', 'x0', 'x1', 'c', 't0']\n",
    "param_fit = ['z_fit', 'x0_fit', 'x1_fit', 'c_fit', 't0_fit']\n",
    "param_err = ['z_err', 'x0_err', 'x1_err', 'c_err', 't0_err']\n",
    "diff_name = ['diff_z', 'diff_x0', 'diff_x1', 'diff_c', 'diff_t0']\n",
    "\n",
    "meta_new = new_read_meta.copy()\n",
    "for i in range(0, len(param_simu)):\n",
    "    t = diff(param_simu[i], param_fit[i], param_err[i], meta_new)\n",
    "    meta_new.add_column(t, name=diff_name[i])\n",
    "meta_new"
   ]
  },
  {
   "cell_type": "code",
   "execution_count": 33,
   "id": "3e2be6f8",
   "metadata": {
    "scrolled": false
   },
   "outputs": [
    {
     "name": "stdout",
     "output_type": "stream",
     "text": [
      "diff_x0 / moyenne = -6.722928110467984e-06 / equart type = 3.32348991702255e-05\n",
      "diff_x1 / moyenne = -0.011005758894253408 / equart type = 0.19785525997729872\n",
      "diff_c / moyenne = 0.005264531841008469 / equart type = 0.022693192219719868\n",
      "diff_t0 / moyenne = 0.043396611985746375 / equart type = 0.19456553017101616\n"
     ]
    },
    {
     "data": {
      "image/png": "[encoded data removed]",
      "text/plain": [
       "<Figure size 720x576 with 6 Axes>"
      ]
     },
     "metadata": {
      "needs_background": "light"
     },
     "output_type": "display_data"
    }
   ],
   "source": [
    "import statistics as stat\n",
    "\n",
    "var_ = ['diff_x0', 'diff_x1', 'diff_c', 'diff_t0']\n",
    "dico_ = dict(zip(var_, [(0,0), (0,1), (1,0), (1,1), (2,0)]))\n",
    "range_ = [(-10,20), (-4,3), (-3,4), (-3, 4), (-5,9)]\n",
    "\n",
    "fig, axs = plt.subplots(3, 2, figsize=(10,8))\n",
    "for i, variables in enumerate(var_):\n",
    "    ipos = dico_[variables][0]\n",
    "    jpos = dico_[variables][1]\n",
    "    \n",
    "    mask = meta_new[variables] != -1\n",
    "    meta_new = meta_new[mask]\n",
    "    \n",
    "    axs[ipos, jpos].hist(meta_new[variables], alpha = 0.7)#, range=range_[i])\n",
    "    axs[ipos, jpos].set_title('Histo var {}'.format(variables))\n",
    "    fig.tight_layout()\n",
    "    moy = np.mean(meta_new[variables])\n",
    "    ecarttype = np.std(meta_new[variables])\n",
    "\n",
    "    print(variables, '/ moyenne =', moy, '/ equart type =', ecarttype)\n",
    "    axs[ipos, jpos].axvline(x=moy, ymin=0, ymax=1000, color='r', label='moyenne')\n",
    "    axs[ipos, jpos].axvline(x=ecarttype, ymin=0, ymax=1000, color='g', label='équart type')"
   ]
  },
  {
   "cell_type": "code",
   "execution_count": 18,
   "id": "9c72ed19",
   "metadata": {
    "scrolled": true
   },
   "outputs": [
    {
     "data": {
      "text/html": [
       "<div><i>Table length=6</i>\n",
       "<table id=\"table140469122884032\" class=\"table-striped table-bordered table-condensed\">\n",
       "<thead><tr><th>z</th><th>t0</th><th>x0</th><th>x1</th><th>c</th><th>mwebv</th><th>ra</th><th>dec</th><th>mwebv_sfd98</th><th>idx_orig</th><th>path</th><th>nb_phase&lt;0</th><th>nb_phase&gt;0</th><th>nb_phase&lt;-10</th><th>nb_phase&gt;20</th><th>nb_band_ztfr</th><th>nb_band_ztfg</th><th>nb_band_ztfi</th><th>pass selec</th><th>col0</th><th>col0.mask</th><th>z_fit</th><th>z_err</th><th>t0_fit</th><th>t0_err</th><th>x0_fit</th><th>x0_err</th><th>x1_fit</th><th>x1_err</th><th>c_fit</th><th>c_err</th><th>chisq</th><th>ndof</th><th>z_t0_cov</th><th>z_x0_cov</th><th>z_x1_cov</th><th>z_c_cov</th><th>x0_t0_cov</th><th>x0_x1_cov</th><th>x0_c_cov</th><th>t0_x1_cov</th><th>t0_c_cov</th><th>x1_c_cov</th><th>diff_z</th><th>diff_x0</th><th>diff_x1</th><th>diff_c</th><th>diff_t0</th></tr></thead>\n",
       "<thead><tr><th>float64</th><th>float64</th><th>float64</th><th>float64</th><th>float64</th><th>float64</th><th>float64</th><th>float64</th><th>float64</th><th>int64</th><th>str7</th><th>int64</th><th>int64</th><th>int64</th><th>int64</th><th>int64</th><th>int64</th><th>int64</th><th>int64</th><th>float64</th><th>bool</th><th>float64</th><th>float64</th><th>float64</th><th>float64</th><th>float64</th><th>float64</th><th>float64</th><th>float64</th><th>float64</th><th>float64</th><th>float64</th><th>int64</th><th>float64</th><th>float64</th><th>float64</th><th>float64</th><th>float64</th><th>float64</th><th>float64</th><th>float64</th><th>float64</th><th>float64</th><th>float64</th><th>float64</th><th>float64</th><th>float64</th><th>float64</th></tr></thead>\n",
       "<tr><td>0.06204088329919146</td><td>58283.43016304258</td><td>0.0006136518061424685</td><td>0.06523818546226759</td><td>0.15187807418140423</td><td>0.11907883683150448</td><td>299.8824813047955</td><td>58.55511558914654</td><td>0.1241646216402635</td><td>685</td><td>SN_530</td><td>13</td><td>34</td><td>7</td><td>17</td><td>34</td><td>13</td><td>0</td><td>1</td><td>0.0</td><td>True</td><td>0.06204088329919146</td><td>0.0</td><td>58283.30599000542</td><td>6.03145599598065e-06</td><td>0.0006024528339109928</td><td>1.3977584956670437e-05</td><td>0.24573192303032618</td><td>0.16582263982807882</td><td>0.15378910376735405</td><td>0.01889365525256646</td><td>62.88889851218713</td><td>73</td><td>0.0</td><td>0.0</td><td>0.0</td><td>0.0</td><td>-3.5455052832516e-16</td><td>-1.160816289897024e-06</td><td>-2.1923747184323915e-07</td><td>1.903019153341611e-11</td><td>-5.068172164974793e-14</td><td>0.0006507253056605016</td><td>nan</td><td>0.8012093838951251</td><td>-1.0884746362450293</td><td>-0.10114663152278257</td><td>20587.572427761632</td></tr>\n",
       "<tr><td>0.02435911510542535</td><td>58405.04676821548</td><td>0.010932941106099624</td><td>1.6659009650229226</td><td>-0.06754265177657906</td><td>0.044500154724169745</td><td>105.22320391409366</td><td>57.34859913502441</td><td>0.04449548056791864</td><td>1648</td><td>SN_1226</td><td>16</td><td>85</td><td>12</td><td>77</td><td>59</td><td>42</td><td>0</td><td>1</td><td>0.0</td><td>True</td><td>0.02435911510542535</td><td>0.0</td><td>58405.02645404249</td><td>4.3655745685100555e-11</td><td>0.010867561226803449</td><td>6.63964463778285e-05</td><td>1.7580380741305113</td><td>0.030381037947227393</td><td>-0.07699419438407065</td><td>0.003614108132728003</td><td>448.7378954619109</td><td>141</td><td>0.0</td><td>0.0</td><td>0.0</td><td>0.0</td><td>-3.215588547596577e-17</td><td>-1.6073312219662049e-06</td><td>-2.0094009070818003e-07</td><td>8.751450847797506e-15</td><td>1.9444254032175644e-15</td><td>4.7407717127831587e-05</td><td>nan</td><td>0.9846894353973578</td><td>-3.0327176203667916</td><td>2.615179806575785</td><td>465326446.0</td></tr>\n",
       "<tr><td>0.0937068457791911</td><td>58288.80629608831</td><td>0.0006265946952700826</td><td>0.8816578608024056</td><td>-0.11883252374048581</td><td>0.0423947724809518</td><td>271.0980402204821</td><td>67.5161131087859</td><td>0.042558432051509824</td><td>2159</td><td>SN_1602</td><td>17</td><td>174</td><td>5</td><td>100</td><td>105</td><td>78</td><td>8</td><td>1</td><td>0.0</td><td>True</td><td>0.0937068457791911</td><td>0.0</td><td>58288.64602730478</td><td>1.0557414498180151e-08</td><td>0.0006377383500376962</td><td>5.252464137075701e-06</td><td>0.7574100650052193</td><td>0.06900093408512017</td><td>-0.126578461510713</td><td>0.007418281153771834</td><td>259.9215125855352</td><td>276</td><td>0.0</td><td>0.0</td><td>0.0</td><td>0.0</td><td>-1.2210866973828787e-15</td><td>-1.9705414945781424e-07</td><td>-2.8193885545206356e-08</td><td>1.5810885009768735e-12</td><td>1.4077714149744958e-12</td><td>8.030527702313845e-05</td><td>nan</td><td>-2.121605112722929</td><td>1.8006683162276187</td><td>1.044168805369255</td><td>15180684.964162646</td></tr>\n",
       "<tr><td>0.027523462774666572</td><td>58277.00907063024</td><td>0.005681793936495791</td><td>0.374560329819299</td><td>0.0003957867565821581</td><td>0.15171946645923223</td><td>267.22250352888966</td><td>8.029813407241686</td><td>0.14728302529372067</td><td>2281</td><td>SN_1687</td><td>14</td><td>52</td><td>3</td><td>28</td><td>34</td><td>32</td><td>0</td><td>1</td><td>0.0</td><td>True</td><td>0.027523462774666572</td><td>0.0</td><td>58276.91665057096</td><td>3.2014213502407074e-10</td><td>0.00570248017548222</td><td>3.0235474890895557e-05</td><td>0.39691910076969833</td><td>0.037777335106255396</td><td>-0.0039026830071492422</td><td>0.004811276651753142</td><td>78.03425617916892</td><td>81</td><td>0.0</td><td>0.0</td><td>0.0</td><td>0.0</td><td>-3.316655086768355e-17</td><td>-4.2842772370820343e-07</td><td>-1.2313630667851696e-07</td><td>1.2062887012636146e-14</td><td>6.958746572919576e-15</td><td>1.9933093116080988e-05</td><td>nan</td><td>-0.6841711288172423</td><td>-0.591856754519909</td><td>0.8934156305821899</td><td>288684459.72727275</td></tr>\n",
       "<tr><td>0.04142904139138238</td><td>58302.20912678074</td><td>0.002737703315951215</td><td>-0.18912634651490565</td><td>-0.07442064798224167</td><td>0.09041188922778406</td><td>255.43764721728044</td><td>28.274065224564037</td><td>0.06276461197171908</td><td>2526</td><td>SN_1872</td><td>65</td><td>167</td><td>32</td><td>100</td><td>126</td><td>96</td><td>10</td><td>1</td><td>0.0</td><td>True</td><td>0.04142904139138238</td><td>0.0</td><td>58302.178301581516</td><td>4.71482053399086e-09</td><td>0.0027187764624712887</td><td>1.0699554113617368e-05</td><td>-0.15316951664400658</td><td>0.022895356062023874</td><td>-0.07076708022905001</td><td>0.0034662250996064094</td><td>337.63205084711615</td><td>315</td><td>0.0</td><td>0.0</td><td>0.0</td><td>0.0</td><td>-4.605077629428718e-15</td><td>-6.51150349756646e-08</td><td>-3.127995557014173e-08</td><td>-7.593705515481271e-12</td><td>1.6488820816965274e-12</td><td>2.8413284571570666e-06</td><td>nan</td><td>1.7689385257501564</td><td>-1.5704857252925641</td><td>-1.054048034447192</td><td>6537936.916666667</td></tr>\n",
       "<tr><td>0.06934088550844955</td><td>58299.07938171918</td><td>0.0007532113946284906</td><td>1.6826386159937847</td><td>0.07930343426409141</td><td>0.026555062855755547</td><td>245.7809919155653</td><td>36.68255660015135</td><td>0.014330372926228494</td><td>3204</td><td>SN_2403</td><td>75</td><td>577</td><td>40</td><td>300</td><td>545</td><td>95</td><td>12</td><td>1</td><td>0.0</td><td>True</td><td>0.06934088550844955</td><td>0.0</td><td>58298.7920603132</td><td>1.04046193882823e-09</td><td>0.0007692212667828216</td><td>4.6235005109065466e-06</td><td>1.593127314579313</td><td>0.0467614893553742</td><td>0.06504073049473724</td><td>0.004684369702302136</td><td>1053.6657443534564</td><td>1005</td><td>0.0</td><td>0.0</td><td>0.0</td><td>0.0</td><td>-5.979656406217344e-18</td><td>-1.1910435975213869e-07</td><td>-2.0143422205280052e-08</td><td>-1.2861590128382974e-13</td><td>1.9459352801127812e-14</td><td>8.337233329280923e-05</td><td>nan</td><td>-3.462716640035979</td><td>1.914209804871931</td><td>3.04474340749509</td><td>276147925.5104895</td></tr>\n",
       "</table></div>"
      ],
      "text/plain": [
       "<Table length=6>\n",
       "         z                   t0                  x0          ...        diff_c             diff_t0      \n",
       "      float64             float64             float64        ...       float64             float64      \n",
       "-------------------- ----------------- --------------------- ... -------------------- ------------------\n",
       " 0.06204088329919146 58283.43016304258 0.0006136518061424685 ... -0.10114663152278257 20587.572427761632\n",
       " 0.02435911510542535 58405.04676821548  0.010932941106099624 ...    2.615179806575785        465326446.0\n",
       "  0.0937068457791911 58288.80629608831 0.0006265946952700826 ...    1.044168805369255 15180684.964162646\n",
       "0.027523462774666572 58277.00907063024  0.005681793936495791 ...   0.8934156305821899 288684459.72727275\n",
       " 0.04142904139138238 58302.20912678074  0.002737703315951215 ...   -1.054048034447192  6537936.916666667\n",
       " 0.06934088550844955 58299.07938171918 0.0007532113946284906 ...     3.04474340749509  276147925.5104895"
      ]
     },
     "execution_count": 18,
     "metadata": {},
     "output_type": "execute_result"
    }
   ],
   "source": [
    "mask = meta_new['diff_t0']>10000\n",
    "meta_new[mask]"
   ]
  },
  {
   "cell_type": "markdown",
   "id": "97b0136c",
   "metadata": {},
   "source": [
    "# $X^{2}$ test"
   ]
  },
  {
   "cell_type": "code",
   "execution_count": 12,
   "id": "e9249150",
   "metadata": {},
   "outputs": [
    {
     "name": "stdout",
     "output_type": "stream",
     "text": [
      "moy = 1.0493096976095595\n"
     ]
    },
    {
     "data": {
      "image/png": "[encoded data removed]",
      "text/plain": [
       "<Figure size 576x432 with 1 Axes>"
      ]
     },
     "metadata": {
      "needs_background": "light"
     },
     "output_type": "display_data"
    }
   ],
   "source": [
    "mask = new_read_meta['chisq'] != -1\n",
    "new_read_meta = new_read_meta[mask]\n",
    "\n",
    "chi2 = new_read_meta['chisq']\n",
    "ndof = new_read_meta['ndof']\n",
    "test = chi2/ndof\n",
    "#testmask = test<30\n",
    "\n",
    "plt.figure(figsize=(8,6))\n",
    "plt.hist(test)\n",
    "print('moy =', np.mean(test))"
   ]
  },
  {
   "cell_type": "raw",
   "id": "a549dff7",
   "metadata": {},
   "source": [
    "class_ = Read_LightCurve(file_name='data_simu_nb.hdf5')\n",
    "lc = class_.Read_file(path='SN_269')\n",
    "\n",
    "class_fit = SN_fit(lc, param=['t0', 'x0', 'x1', 'c'])\n",
    "class_fit.plot_sn()"
   ]
  },
  {
   "cell_type": "code",
   "execution_count": 13,
   "id": "8b38cdae",
   "metadata": {},
   "outputs": [
    {
     "name": "stdout",
     "output_type": "stream",
     "text": [
      "-2.858827158259835 3.865815792637395\n"
     ]
    }
   ],
   "source": [
    "print(np.min(meta_new['x1']), np.max(meta_new['x1']))\n",
    "mask_x1_inf = meta_new['x1']>=-2.3\n",
    "mask_x1_sup = meta_new['x1']<=0\n",
    "mask = mask_x1_inf & mask_x1_sup\n",
    "\n",
    "meta_masked = meta_new[mask]"
   ]
  },
  {
   "cell_type": "code",
   "execution_count": 14,
   "id": "6f479185",
   "metadata": {
    "scrolled": true
   },
   "outputs": [
    {
     "name": "stdout",
     "output_type": "stream",
     "text": [
      "-0.3026792528826878 0.28600340923091955\n"
     ]
    },
    {
     "data": {
      "text/html": [
       "<div><i>Table length=60</i>\n",
       "<table id=\"table140469138619264\" class=\"table-striped table-bordered table-condensed\">\n",
       "<thead><tr><th>z</th><th>t0</th><th>x0</th><th>x1</th><th>c</th><th>mwebv</th><th>ra</th><th>dec</th><th>mwebv_sfd98</th><th>idx_orig</th><th>path</th><th>nb_phase&lt;0</th><th>nb_phase&gt;0</th><th>nb_phase&lt;-10</th><th>nb_phase&gt;20</th><th>nb_band_ztfr</th><th>nb_band_ztfg</th><th>nb_band_ztfi</th><th>pass selec</th><th>col0</th><th>col0.mask</th><th>z_fit</th><th>z_err</th><th>t0_fit</th><th>t0_err</th><th>x0_fit</th><th>x0_err</th><th>x1_fit</th><th>x1_err</th><th>c_fit</th><th>c_err</th><th>chisq</th><th>ndof</th><th>z_t0_cov</th><th>z_x0_cov</th><th>z_x1_cov</th><th>z_c_cov</th><th>x0_t0_cov</th><th>x0_x1_cov</th><th>x0_c_cov</th><th>t0_x1_cov</th><th>t0_c_cov</th><th>x1_c_cov</th><th>diff_z</th><th>diff_x0</th><th>diff_x1</th><th>diff_c</th><th>diff_t0</th></tr></thead>\n",
       "<thead><tr><th>float64</th><th>float64</th><th>float64</th><th>float64</th><th>float64</th><th>float64</th><th>float64</th><th>float64</th><th>float64</th><th>int64</th><th>str7</th><th>int64</th><th>int64</th><th>int64</th><th>int64</th><th>int64</th><th>int64</th><th>int64</th><th>int64</th><th>float64</th><th>bool</th><th>float64</th><th>float64</th><th>float64</th><th>float64</th><th>float64</th><th>float64</th><th>float64</th><th>float64</th><th>float64</th><th>float64</th><th>float64</th><th>int64</th><th>float64</th><th>float64</th><th>float64</th><th>float64</th><th>float64</th><th>float64</th><th>float64</th><th>float64</th><th>float64</th><th>float64</th><th>float64</th><th>float64</th><th>float64</th><th>float64</th><th>float64</th></tr></thead>\n",
       "<tr><td>0.088082091521203</td><td>58320.3770946509</td><td>0.000368154374363641</td><td>0.17217394102208228</td><td>0.1669913991881051</td><td>0.009433247317105958</td><td>259.62198253170624</td><td>48.37052862985549</td><td>0.016388229249047724</td><td>133</td><td>SN_100</td><td>54</td><td>168</td><td>28</td><td>93</td><td>144</td><td>71</td><td>7</td><td>1</td><td>0.0</td><td>True</td><td>0.088082091521203</td><td>0.0</td><td>58320.346347324674</td><td>0.060399517646146705</td><td>0.00036837305719088437</td><td>3.2439947804047457e-06</td><td>0.2551267726372666</td><td>0.06898537290842123</td><td>0.1624405049808187</td><td>0.007925376885636496</td><td>367.97438818061994</td><td>416</td><td>0.0</td><td>0.0</td><td>0.0</td><td>0.0</td><td>-2.5464680716997466e-08</td><td>-9.472741095501708e-08</td><td>-1.863572230360314e-08</td><td>0.0020189917838809596</td><td>-2.6273341169188648e-05</td><td>-8.651472572239525e-06</td><td>nan</td><td>-0.06741158418759925</td><td>-1.2024698587236022</td><td>0.5742180180142843</td><td>0.5090657579305464</td></tr>\n",
       "<tr><td>0.08892474510629828</td><td>58382.6182824341</td><td>0.0007420933290040764</td><td>0.14795923224879406</td><td>-0.14589538281610578</td><td>0.11312691380959816</td><td>35.79267611544374</td><td>20.99828256700416</td><td>0.1048337976217795</td><td>146</td><td>SN_111</td><td>45</td><td>26</td><td>22</td><td>10</td><td>37</td><td>34</td><td>0</td><td>1</td><td>0.0</td><td>True</td><td>0.08892474510629828</td><td>0.0</td><td>58382.40933681946</td><td>0.11736380400543567</td><td>0.0007480454540144251</td><td>6.861373945085939e-06</td><td>0.018191139097132814</td><td>0.13519607621786878</td><td>-0.1568714389486476</td><td>0.00981388851424603</td><td>122.78569602298461</td><td>134</td><td>0.0</td><td>0.0</td><td>0.0</td><td>0.0</td><td>2.6552024602381985e-09</td><td>-2.696386329315711e-07</td><td>-4.2988736880252915e-08</td><td>0.013267604946625917</td><td>0.00019179177234433293</td><td>0.00030668185079913156</td><td>nan</td><td>-0.8674829644887169</td><td>0.9598510310501887</td><td>1.11842070720579</td><td>1.780324150302863</td></tr>\n",
       "<tr><td>0.09942039455353957</td><td>58447.1189699419</td><td>0.0003148350082726573</td><td>0.07771298801511571</td><td>0.028296661848601242</td><td>0.27683563701748587</td><td>63.026751430992576</td><td>33.79161078492292</td><td>0.26715464098705444</td><td>238</td><td>SN_183</td><td>6</td><td>10</td><td>1</td><td>1</td><td>13</td><td>3</td><td>0</td><td>1</td><td>0.0</td><td>True</td><td>0.09942039455353957</td><td>0.0</td><td>58447.28643016137</td><td>0.4617983800781076</td><td>0.0003227995422712031</td><td>2.6315823876816112e-05</td><td>-0.12775476575049935</td><td>0.6324397866352636</td><td>0.033657976984931885</td><td>0.06616058596848652</td><td>85.23206937617843</td><td>73</td><td>0.0</td><td>0.0</td><td>0.0</td><td>0.0</td><td>1.3222039399912142e-08</td><td>-7.685477975372284e-06</td><td>-1.4944671821205773e-06</td><td>0.18158543231039243</td><td>-0.005554635863869785</td><td>0.0058699313584793895</td><td>nan</td><td>-0.3026518962821623</td><td>0.32488113193946005</td><td>-0.08103487987371112</td><td>-0.36262626007452325</td></tr>\n",
       "<tr><td>0.05836208424830124</td><td>58399.4495798152</td><td>0.0011571533293795362</td><td>0.18315607047431742</td><td>0.015106406348977858</td><td>0.4859649798432493</td><td>52.12013199634646</td><td>48.928487532163075</td><td>0.492659273809802</td><td>376</td><td>SN_290</td><td>7</td><td>16</td><td>3</td><td>16</td><td>20</td><td>3</td><td>0</td><td>1</td><td>0.0</td><td>True</td><td>0.05836208424830124</td><td>0.0</td><td>58399.36853438516</td><td>0.18396792872590595</td><td>0.0010623185390777334</td><td>5.919156945100059e-05</td><td>0.05164391132934872</td><td>0.216471412831978</td><td>0.1052012525368409</td><td>0.041984713051357425</td><td>109.06882358317462</td><td>120</td><td>0.0</td><td>0.0</td><td>0.0</td><td>0.0</td><td>2.1016951842633654e-06</td><td>-3.913837781035454e-06</td><td>-2.143108757013456e-06</td><td>0.005183883991456193</td><td>-0.0015637834715949753</td><td>-0.000825562154433335</td><td>nan</td><td>1.6021671866685</td><td>0.607526681812007</td><td>-2.1458964380119814</td><td>0.44054108016806937</td></tr>\n",
       "<tr><td>0.07238986722474972</td><td>58305.24336690491</td><td>0.0009057965830170289</td><td>0.012719654685213449</td><td>-0.014141887746695433</td><td>0.07684898137883102</td><td>30.83756676145383</td><td>34.9912289605844</td><td>0.07932251353828396</td><td>384</td><td>SN_297</td><td>7</td><td>54</td><td>2</td><td>48</td><td>39</td><td>22</td><td>0</td><td>1</td><td>0.0</td><td>True</td><td>0.07238986722474972</td><td>0.0</td><td>58305.14162674699</td><td>0.15297955016285414</td><td>0.000907267629942142</td><td>1.778243817336789e-05</td><td>0.07669163736906842</td><td>0.11788599265988778</td><td>-0.02395249053030004</td><td>0.016058088935393205</td><td>91.49814592848517</td><td>63</td><td>0.0</td><td>0.0</td><td>0.0</td><td>0.0</td><td>-1.8465575942525708e-07</td><td>-9.835884862188053e-07</td><td>-1.964046544199938e-07</td><td>-0.0025347178873908627</td><td>-4.754420007761063e-05</td><td>-0.00020053757581963704</td><td>nan</td><td>-0.08272470348392345</td><td>-0.5426597447282832</td><td>0.6109446038738345</td><td>0.6650572433674772</td></tr>\n",
       "<tr><td>0.07063923096832568</td><td>58371.47089428084</td><td>0.0009266357781829942</td><td>0.20766970761224693</td><td>-0.05227436873511378</td><td>0.022028646617849094</td><td>24.263444439150522</td><td>-3.5222149674411996</td><td>0.023625819017586588</td><td>425</td><td>SN_332</td><td>39</td><td>42</td><td>6</td><td>7</td><td>39</td><td>36</td><td>6</td><td>1</td><td>0.0</td><td>True</td><td>0.07063923096832568</td><td>0.0</td><td>58371.5073103243</td><td>0.06253876590926666</td><td>0.0009337060226828585</td><td>6.437760286948908e-06</td><td>0.21720464030841297</td><td>0.0993722543819867</td><td>-0.05644795452564937</td><td>0.006528259031174544</td><td>118.59618664408448</td><td>118</td><td>0.0</td><td>0.0</td><td>0.0</td><td>0.0</td><td>-8.656559585594256e-08</td><td>-3.717944486736791e-07</td><td>-3.132704103306296e-08</td><td>0.0021655645268423953</td><td>8.223749173997707e-05</td><td>0.00019763689468744813</td><td>nan</td><td>-1.0982460024486538</td><td>-0.0959516592983166</td><td>0.639310690737818</td><td>-0.5822955238275469</td></tr>\n",
       "<tr><td>0.04678697446017556</td><td>58246.96687507803</td><td>0.0026945687091054055</td><td>0.10569462456835181</td><td>-0.0958080422002997</td><td>-0.0010444832173448796</td><td>213.24960595299817</td><td>36.807192347874455</td><td>0.007799671841595585</td><td>653</td><td>SN_503</td><td>98</td><td>238</td><td>50</td><td>166</td><td>145</td><td>169</td><td>22</td><td>1</td><td>0.0</td><td>True</td><td>0.04678697446017556</td><td>0.0</td><td>58246.83923244754</td><td>0.017989695756114088</td><td>0.0026889206566038846</td><td>6.489523623904866e-06</td><td>0.15471227426218342</td><td>0.017147105107433835</td><td>-0.09114588249477604</td><td>0.0023200316160018586</td><td>606.9608283848372</td><td>447</td><td>0.0</td><td>0.0</td><td>0.0</td><td>0.0</td><td>-5.655010529422482e-09</td><td>-4.655803171823183e-08</td><td>-1.08320713628763e-08</td><td>7.409944242174279e-05</td><td>-4.745810314179559e-06</td><td>9.885177094843215e-07</td><td>nan</td><td>0.8703339149141448</td><td>-2.8586545301212882</td><td>-2.0095242122424297</td><td>7.095319021552567</td></tr>\n",
       "<tr><td>0.06204088329919146</td><td>58283.43016304258</td><td>0.0006136518061424685</td><td>0.06523818546226759</td><td>0.15187807418140423</td><td>0.11907883683150448</td><td>299.8824813047955</td><td>58.55511558914654</td><td>0.1241646216402635</td><td>685</td><td>SN_530</td><td>13</td><td>34</td><td>7</td><td>17</td><td>34</td><td>13</td><td>0</td><td>1</td><td>0.0</td><td>True</td><td>0.06204088329919146</td><td>0.0</td><td>58283.30599000542</td><td>6.03145599598065e-06</td><td>0.0006024528339109928</td><td>1.3977584956670437e-05</td><td>0.24573192303032618</td><td>0.16582263982807882</td><td>0.15378910376735405</td><td>0.01889365525256646</td><td>62.88889851218713</td><td>73</td><td>0.0</td><td>0.0</td><td>0.0</td><td>0.0</td><td>-3.5455052832516e-16</td><td>-1.160816289897024e-06</td><td>-2.1923747184323915e-07</td><td>1.903019153341611e-11</td><td>-5.068172164974793e-14</td><td>0.0006507253056605016</td><td>nan</td><td>0.8012093838951251</td><td>-1.0884746362450293</td><td>-0.10114663152278257</td><td>20587.572427761632</td></tr>\n",
       "<tr><td>0.012210718158083368</td><td>58237.54929318474</td><td>0.028236656993547462</td><td>0.09438806760330792</td><td>0.03723380321605254</td><td>0.014918120447048842</td><td>249.86459400431124</td><td>34.08333663525286</td><td>0.017989418106096014</td><td>714</td><td>SN_550</td><td>93</td><td>194</td><td>35</td><td>144</td><td>145</td><td>132</td><td>10</td><td>1</td><td>0.0</td><td>True</td><td>0.012210718158083368</td><td>0.0</td><td>58237.52058459703</td><td>0.004672005583415739</td><td>0.02837314398991871</td><td>2.3104720805806848e-05</td><td>0.07431308650612717</td><td>0.005874723726870845</td><td>0.03117710497997044</td><td>0.000747699214074354</td><td>440.8332370073217</td><td>350</td><td>0.0</td><td>0.0</td><td>0.0</td><td>0.0</td><td>6.378949357870634e-10</td><td>-4.815426969646026e-08</td><td>-1.2102176494077825e-08</td><td>4.641403728925092e-06</td><td>-6.440830005639055e-08</td><td>-7.772731138582399e-07</td><td>nan</td><td>-5.907320738407046</td><td>3.4171787526549164</td><td>8.100447508936126</td><td>6.14481023211713</td></tr>\n",
       "<tr><td>0.04322551383909927</td><td>58325.42390398862</td><td>0.0012505593202142605</td><td>0.13860217641070077</td><td>0.15002008887442075</td><td>0.1382617633194473</td><td>263.60971734119016</td><td>11.158556738258039</td><td>0.1428401229840616</td><td>725</td><td>SN_559</td><td>7</td><td>66</td><td>4</td><td>46</td><td>45</td><td>28</td><td>0</td><td>1</td><td>0.0</td><td>True</td><td>0.04322551383909927</td><td>0.0</td><td>58325.30053475622</td><td>0.08660514306393452</td><td>0.0012297355392817829</td><td>2.3066357647865637e-05</td><td>0.16180772098820972</td><td>0.08374184953875605</td><td>0.15327870667663623</td><td>0.013174191682092537</td><td>125.92555594473015</td><td>93</td><td>0.0</td><td>0.0</td><td>0.0</td><td>0.0</td><td>-5.076146378803451e-07</td><td>-1.077581900309822e-06</td><td>-2.681480416606587e-07</td><td>0.00101369854271738</td><td>0.00017220359071266986</td><td>0.00030745476387002797</td><td>nan</td><td>0.9027771636240324</td><td>-0.27710809715003176</td><td>-0.24734859495363695</td><td>1.4245023798541414</td></tr>\n",
       "<tr><td>0.08385867684891408</td><td>58307.64775421357</td><td>0.0006195636322676988</td><td>0.10441539316721427</td><td>-0.04922298057928609</td><td>0.0076670467417043545</td><td>355.7366962105881</td><td>-4.955857896558998</td><td>0.026647172620798756</td><td>761</td><td>SN_581</td><td>7</td><td>31</td><td>4</td><td>22</td><td>19</td><td>13</td><td>6</td><td>1</td><td>0.0</td><td>True</td><td>0.08385867684891408</td><td>0.0</td><td>58307.18774469415</td><td>0.16898415574178216</td><td>0.0006381403868810111</td><td>1.705329365269329e-05</td><td>0.020809978346431904</td><td>0.15810113027218387</td><td>-0.05026506655423517</td><td>0.019298984661383165</td><td>54.55012187947983</td><td>50</td><td>0.0</td><td>0.0</td><td>0.0</td><td>0.0</td><td>-6.372468817757159e-07</td><td>-1.7302732810844711e-06</td><td>-2.485606501758726e-07</td><td>0.0020505911970026642</td><td>0.00013465069605928377</td><td>0.0007363921180954822</td><td>nan</td><td>-1.0893352915657113</td><td>0.5288097224659235</td><td>0.05399693264870398</td><td>2.7222050339509805</td></tr>\n",
       "<tr><td>0.058244901206103775</td><td>58333.101583358475</td><td>0.00137953017134416</td><td>0.0963165037863906</td><td>-0.09305155957652161</td><td>0.11106493518870972</td><td>338.5484939243173</td><td>8.777061194340217</td><td>0.10805814384392845</td><td>774</td><td>SN_593</td><td>10</td><td>68</td><td>6</td><td>43</td><td>42</td><td>25</td><td>11</td><td>1</td><td>0.0</td><td>True</td><td>0.058244901206103775</td><td>0.0</td><td>58333.13794122229</td><td>0.06926894699790864</td><td>0.0013764524317198244</td><td>1.484877871992667e-05</td><td>0.15545786093908276</td><td>0.06345114441948939</td><td>-0.09814252641135272</td><td>0.008559428673704074</td><td>87.59861311885241</td><td>96</td><td>0.0</td><td>0.0</td><td>0.0</td><td>0.0</td><td>-2.6647017405156665e-07</td><td>-4.4888211578416185e-07</td><td>-1.0180385934989821e-07</td><td>0.0009348747295428357</td><td>6.545856880404725e-05</td><td>6.708552355300662e-05</td><td>nan</td><td>0.20727223985129883</td><td>-0.9320770758947343</td><td>0.5947788139728728</td><td>-0.5248796955807885</td></tr>\n",
       "<tr><td>0.04596402862738365</td><td>58367.110722509344</td><td>0.0018061506506782674</td><td>0.17926107295735605</td><td>0.07969825319787524</td><td>0.06224016366674077</td><td>12.201683337071284</td><td>12.636450270567384</td><td>0.06981702679072804</td><td>786</td><td>SN_601</td><td>87</td><td>129</td><td>44</td><td>13</td><td>118</td><td>87</td><td>11</td><td>1</td><td>0.0</td><td>True</td><td>0.04596402862738365</td><td>0.0</td><td>58367.0813008241</td><td>0.02387219558659126</td><td>0.0018097826719430182</td><td>6.585981081684318e-06</td><td>0.2879820789401249</td><td>0.03298401229778338</td><td>0.07157276747964748</td><td>0.0030754975895041186</td><td>312.3041660689919</td><td>279</td><td>0.0</td><td>0.0</td><td>0.0</td><td>0.0</td><td>-6.161410473122067e-08</td><td>-1.1003810799562406e-07</td><td>-1.701748440829336e-08</td><td>0.0004225433910355767</td><td>2.220511522561887e-05</td><td>2.876832683267796e-05</td><td>nan</td><td>-0.5514776340386766</td><td>-3.296172854934183</td><td>2.6420068563727535</td><td>1.232466663360134</td></tr>\n",
       "<tr><td>0.09848378388385426</td><td>58255.22011600063</td><td>0.0004062883448080871</td><td>0.11237686732450976</td><td>-0.05071477277461659</td><td>0.023314970625853908</td><td>237.2193275482965</td><td>33.70349103297168</td><td>0.023988474262549315</td><td>819</td><td>SN_626</td><td>57</td><td>143</td><td>23</td><td>100</td><td>119</td><td>73</td><td>8</td><td>1</td><td>0.0</td><td>True</td><td>0.09848378388385426</td><td>0.0</td><td>58255.193023395695</td><td>0.06928587190122926</td><td>0.00040974168854287363</td><td>3.9396702380361865e-06</td><td>0.11630854025952497</td><td>0.06977638799926632</td><td>-0.049389931917517144</td><td>0.008526586393405866</td><td>383.7362113321956</td><td>361</td><td>0.0</td><td>0.0</td><td>0.0</td><td>0.0</td><td>2.2288703724723054e-08</td><td>-1.5533059457836213e-07</td><td>-2.401011063797466e-08</td><td>0.0007804751170037674</td><td>-8.12512176658658e-05</td><td>8.767038764124032e-05</td><td>nan</td><td>-0.8765565456330935</td><td>-0.05634675350430229</td><td>-0.155377638362291</td><td>0.39102639817996476</td></tr>\n",
       "<tr><td>0.0640006490251684</td><td>58279.57116867485</td><td>0.001025159093106323</td><td>0.02041719375239706</td><td>-0.04969126710474936</td><td>0.17928240608948084</td><td>301.89603214722774</td><td>14.947551597964635</td><td>0.18748910446014372</td><td>941</td><td>SN_713</td><td>11</td><td>22</td><td>2</td><td>12</td><td>19</td><td>14</td><td>0</td><td>1</td><td>0.0</td><td>True</td><td>0.0640006490251684</td><td>0.0</td><td>58279.66906838588</td><td>0.19960470906153205</td><td>0.0010384214900390684</td><td>1.624085543152186e-05</td><td>-0.030220622275787267</td><td>0.18199921098059646</td><td>-0.057732711414051834</td><td>0.01618724961206568</td><td>53.24560676345762</td><td>53</td><td>0.0</td><td>0.0</td><td>0.0</td><td>0.0</td><td>-8.887473315989187e-08</td><td>-1.1171105704773633e-06</td><td>-1.7672762791225498e-07</td><td>-0.009657666920340539</td><td>0.00012072014529107745</td><td>-9.976592374389685e-05</td><td>nan</td><td>-0.8166070431859381</td><td>0.278230964603374</td><td>0.4967764445485865</td><td>-0.49046794284711703</td></tr>\n",
       "<tr><td>0.06176940582333615</td><td>58308.386956398215</td><td>0.0010882831721752576</td><td>0.05795529581378853</td><td>-0.056580804252861376</td><td>0.04992905584043938</td><td>338.4758110367336</td><td>23.422797995960593</td><td>0.03581294890514162</td><td>1008</td><td>SN_762</td><td>15</td><td>71</td><td>5</td><td>54</td><td>44</td><td>29</td><td>13</td><td>1</td><td>0.0</td><td>True</td><td>0.06176940582333615</td><td>0.0</td><td>58308.30698444851</td><td>0.0005615546469925903</td><td>0.0010726294719408936</td><td>1.4596500630665365e-05</td><td>0.1279899023316631</td><td>0.07656691370130733</td><td>-0.050292136654883385</td><td>0.010361566330219065</td><td>181.46013714045955</td><td>126</td><td>0.0</td><td>0.0</td><td>0.0</td><td>0.0</td><td>1.984867208192905e-12</td><td>-5.852562238664459e-07</td><td>-1.2228091153562663e-07</td><td>3.523669623684376e-08</td><td>-7.223244807394964e-09</td><td>0.0001317836582599967</td><td>nan</td><td>1.0724282915781607</td><td>-0.9146849877100215</td><td>-0.6069224861918184</td><td>142.4116960591716</td></tr>\n",
       "<tr><td>0.06473506502330033</td><td>58437.91315240401</td><td>0.0012837153426407777</td><td>0.08436189162189214</td><td>-0.17875390029387536</td><td>0.005557965721921632</td><td>123.76369245474943</td><td>1.1878363353205295</td><td>0.026805489957011857</td><td>1091</td><td>SN_818</td><td>10</td><td>23</td><td>4</td><td>11</td><td>21</td><td>12</td><td>0</td><td>1</td><td>0.0</td><td>True</td><td>0.06473506502330033</td><td>0.0</td><td>58437.67123306026</td><td>0.09944999918297981</td><td>0.0013006847918258391</td><td>1.415953881801047e-05</td><td>-0.21288345930881317</td><td>0.117857645864036</td><td>-0.1741084004969016</td><td>0.01065883811969882</td><td>47.9713911229395</td><td>33</td><td>0.0</td><td>0.0</td><td>0.0</td><td>0.0</td><td>3.0882057879123194e-08</td><td>-6.573210698624926e-07</td><td>-1.069557393757044e-07</td><td>0.006569746160292185</td><td>-7.743493930304691e-05</td><td>9.656948808761892e-05</td><td>nan</td><td>-1.198446460945245</td><td>2.5220710014318133</td><td>-0.43583547707590353</td><td>2.4325726067383715</td></tr>\n",
       "<tr><td>0.0702461486280028</td><td>58268.75505953173</td><td>0.00046853603788833047</td><td>0.1428281328491141</td><td>0.13398328623885755</td><td>0.019725935286247914</td><td>172.09742597089834</td><td>47.29234268930723</td><td>0.014181027021889149</td><td>1111</td><td>SN_833</td><td>27</td><td>39</td><td>12</td><td>10</td><td>33</td><td>23</td><td>10</td><td>1</td><td>0.0</td><td>True</td><td>0.0702461486280028</td><td>0.0</td><td>58268.417015446495</td><td>0.09661402010533493</td><td>0.0004836534934971101</td><td>8.022192051551803e-06</td><td>-0.04149400958963358</td><td>0.13670063050984724</td><td>0.10733002582165582</td><td>0.012923113632800387</td><td>97.53436391510948</td><td>108</td><td>0.0</td><td>0.0</td><td>0.0</td><td>0.0</td><td>-3.919663828283591e-07</td><td>-7.617497517924795e-07</td><td>-8.363134466918033e-08</td><td>0.006952234664594742</td><td>0.0005242288017208376</td><td>0.0006964945637731216</td><td>nan</td><td>-1.8844544622757236</td><td>1.3483635134036198</td><td>2.062448816479692</td><td>3.4989133550775486</td></tr>\n",
       "<tr><td>0.0862321772771083</td><td>58300.15094414426</td><td>0.0007594421981733685</td><td>0.03731355269934867</td><td>-0.13577869625711714</td><td>0.11298037498590412</td><td>17.45662110580184</td><td>15.875436504608672</td><td>0.10009579935175834</td><td>1140</td><td>SN_857</td><td>7</td><td>44</td><td>3</td><td>33</td><td>29</td><td>18</td><td>4</td><td>1</td><td>0.0</td><td>True</td><td>0.0862321772771083</td><td>0.0</td><td>58299.89941447212</td><td>0.16075388715034933</td><td>0.0007426374783021311</td><td>1.5827969638380286e-05</td><td>0.17890669738559603</td><td>0.14566740355332347</td><td>-0.11951877402591336</td><td>0.017763522360007434</td><td>82.87887715767826</td><td>68</td><td>0.0</td><td>0.0</td><td>0.0</td><td>0.0</td><td>-1.3524339859862778e-07</td><td>-1.3858754187199358e-06</td><td>-1.680755560837664e-07</td><td>0.0009761317288108346</td><td>-0.00045354009493146167</td><td>-4.012417298357906e-05</td><td>nan</td><td>1.0617103933841692</td><td>-0.9720304009840838</td><td>-0.9153546183954571</td><td>1.5646879624390724</td></tr>\n",
       "<tr><td>0.07522757392668167</td><td>58329.25505025375</td><td>0.0007115443853497425</td><td>0.21031563998753408</td><td>-0.014533609520952007</td><td>0.008398910206514997</td><td>15.253857208815855</td><td>-12.218469027311222</td><td>0.0226568848018931</td><td>1172</td><td>SN_876</td><td>7</td><td>77</td><td>3</td><td>61</td><td>50</td><td>34</td><td>0</td><td>1</td><td>0.0</td><td>True</td><td>0.07522757392668167</td><td>0.0</td><td>58329.07832981889</td><td>0.10274730662058573</td><td>0.0007044335979156416</td><td>1.4157195613086352e-05</td><td>0.35689978846180836</td><td>0.11915143497995263</td><td>-0.025878683613065757</td><td>0.01399882461927965</td><td>102.44335049954339</td><td>100</td><td>0.0</td><td>0.0</td><td>0.0</td><td>0.0</td><td>-1.0881098846092537e-07</td><td>-1.2785671107039037e-06</td><td>-1.579296551982488e-07</td><td>-0.0002956566470981809</td><td>1.1119065221278364e-07</td><td>0.0006766335988978035</td><td>nan</td><td>0.5022737290942011</td><td>-1.2302340168957029</td><td>0.8104304754621281</td><td>1.7199519935892078</td></tr>\n",
       "<tr><td>...</td><td>...</td><td>...</td><td>...</td><td>...</td><td>...</td><td>...</td><td>...</td><td>...</td><td>...</td><td>...</td><td>...</td><td>...</td><td>...</td><td>...</td><td>...</td><td>...</td><td>...</td><td>...</td><td>...</td><td>...</td><td>...</td><td>...</td><td>...</td><td>...</td><td>...</td><td>...</td><td>...</td><td>...</td><td>...</td><td>...</td><td>...</td><td>...</td><td>...</td><td>...</td><td>...</td><td>...</td><td>...</td><td>...</td><td>...</td><td>...</td><td>...</td><td>...</td><td>...</td><td>...</td><td>...</td><td>...</td><td>...</td></tr>\n",
       "<tr><td>0.09788885973851488</td><td>58324.43674780153</td><td>0.0005269229915597442</td><td>0.09195154170862486</td><td>-0.11928987967496657</td><td>0.1106403382580223</td><td>35.90505304514541</td><td>46.31297625615628</td><td>0.11104536088915172</td><td>2284</td><td>SN_1690</td><td>8</td><td>49</td><td>3</td><td>26</td><td>33</td><td>24</td><td>0</td><td>1</td><td>0.0</td><td>True</td><td>0.09788885973851488</td><td>0.0</td><td>58324.46051925999</td><td>0.16394895816847566</td><td>0.0005446328951270134</td><td>1.3167361080804255e-05</td><td>-0.128412313236918</td><td>0.17628205016437026</td><td>-0.1318583323497583</td><td>0.019273269461482466</td><td>96.04702994116325</td><td>75</td><td>0.0</td><td>0.0</td><td>0.0</td><td>0.0</td><td>-3.894416668698329e-08</td><td>-1.5929355697322962e-06</td><td>-1.7501737825865745e-07</td><td>-0.0032220740122336864</td><td>-0.00017898527591109252</td><td>0.0007049751162035504</td><td>nan</td><td>-1.3449850322011103</td><td>1.2500640577986786</td><td>0.6521183497127834</td><td>-0.14499304375610464</td></tr>\n",
       "<tr><td>0.059522989352904045</td><td>58369.1509521896</td><td>0.0017205286614015902</td><td>0.17907363903751772</td><td>-0.13157309331995232</td><td>0.030240647675330055</td><td>14.701073231510522</td><td>40.235110351134324</td><td>0.04881608147681315</td><td>2327</td><td>SN_1720</td><td>99</td><td>144</td><td>46</td><td>26</td><td>136</td><td>98</td><td>9</td><td>1</td><td>0.0</td><td>True</td><td>0.059522989352904045</td><td>0.0</td><td>58369.06875817482</td><td>0.025173524692945648</td><td>0.0017189115114663721</td><td>5.710294942912222e-06</td><td>0.2766188683361329</td><td>0.0338835652522368</td><td>-0.12744915038875884</td><td>0.003081054940470364</td><td>319.45401588313484</td><td>275</td><td>0.0</td><td>0.0</td><td>0.0</td><td>0.0</td><td>-5.093933517732961e-08</td><td>-1.059258859463224e-07</td><td>-1.3556453885812784e-08</td><td>0.0003035575378787907</td><td>2.2161629742859137e-05</td><td>2.723233070663302e-05</td><td>nan</td><td>0.2831990206084428</td><td>-2.8788360543663813</td><td>-1.3384840617492852</td><td>3.265097588930368</td></tr>\n",
       "<tr><td>0.07218351113659889</td><td>58441.60258414399</td><td>0.0006715946531918503</td><td>0.1674272900870341</td><td>0.04993233050315429</td><td>0.0039057567146358416</td><td>181.69158647616683</td><td>68.20031031723599</td><td>0.01471564161164867</td><td>2396</td><td>SN_1775</td><td>44</td><td>15</td><td>29</td><td>7</td><td>34</td><td>25</td><td>0</td><td>1</td><td>0.0</td><td>True</td><td>0.07218351113659889</td><td>0.0</td><td>58441.30522054867</td><td>0.10638400065363385</td><td>0.0006611942676583736</td><td>1.2517086999473291e-05</td><td>0.016787218284776598</td><td>0.14205253890597636</td><td>0.03132429170949014</td><td>0.014499302176881376</td><td>84.36500394467168</td><td>76</td><td>0.0</td><td>0.0</td><td>0.0</td><td>0.0</td><td>-1.3685712519505347e-07</td><td>-9.781132454093762e-07</td><td>-1.3592237398221916e-07</td><td>0.011796843825144497</td><td>0.00019478822694495002</td><td>0.0006887830269049444</td><td>nan</td><td>0.8308950424259531</td><td>1.0604532165522589</td><td>1.2833747836040008</td><td>2.7951909450383043</td></tr>\n",
       "<tr><td>0.08518073342256019</td><td>58282.78169826165</td><td>0.0004590563537636014</td><td>0.10671648941012195</td><td>0.061823765877603146</td><td>0.0022194109730730724</td><td>187.42916566299286</td><td>39.038765829866904</td><td>0.008941531939622669</td><td>2441</td><td>SN_1807</td><td>27</td><td>21</td><td>5</td><td>5</td><td>24</td><td>19</td><td>5</td><td>1</td><td>0.0</td><td>True</td><td>0.08518073342256019</td><td>0.0</td><td>58282.898061203094</td><td>0.14069696469596238</td><td>0.0004646904830877477</td><td>5.65132136889528e-06</td><td>0.2619413463837658</td><td>0.17744232929838588</td><td>0.05224290296781952</td><td>0.011421161147790598</td><td>80.4457451704012</td><td>81</td><td>0.0</td><td>0.0</td><td>0.0</td><td>0.0</td><td>-9.053730603142738e-09</td><td>-4.4900517035268924e-07</td><td>-5.005568653701204e-08</td><td>0.015322002635474499</td><td>0.0002613782144599002</td><td>0.0007572322424684965</td><td>nan</td><td>-0.9969578716857969</td><td>-0.8747904605818081</td><td>0.8388694271805301</td><td>-0.8270465656138924</td></tr>\n",
       "<tr><td>0.06960057261467392</td><td>58237.471669097176</td><td>0.0006788191747129053</td><td>0.023951482325796317</td><td>0.010238111900485042</td><td>-0.0014166970835367138</td><td>190.06457143382048</td><td>-8.052224946977825</td><td>0.025348311199562074</td><td>2503</td><td>SN_1854</td><td>5</td><td>11</td><td>2</td><td>6</td><td>10</td><td>6</td><td>0</td><td>1</td><td>0.0</td><td>True</td><td>0.06960057261467392</td><td>0.0</td><td>58237.167117284655</td><td>0.19757176696293755</td><td>0.0007039502357526792</td><td>2.3531207083932263e-05</td><td>-0.266393959550955</td><td>0.2843401170694287</td><td>-0.005378559734725858</td><td>0.02574308483707674</td><td>18.34418831882028</td><td>25</td><td>0.0</td><td>0.0</td><td>0.0</td><td>0.0</td><td>-9.868150176909027e-07</td><td>-4.699047839650993e-06</td><td>-4.18065343133229e-07</td><td>0.009042353734818178</td><td>0.00010990545540162002</td><td>0.0016677830622180724</td><td>nan</td><td>-1.067988605520116</td><td>1.0211202164127136</td><td>0.6066355968620679</td><td>1.5414743574113658</td></tr>\n",
       "<tr><td>0.09067309831605885</td><td>58401.65819892138</td><td>0.0007436474707869142</td><td>0.1245697858402445</td><td>-0.14577053688013294</td><td>0.04778606643168673</td><td>322.40449660874725</td><td>-17.465542299705984</td><td>0.03458543765913194</td><td>2574</td><td>SN_1915</td><td>6</td><td>13</td><td>6</td><td>13</td><td>14</td><td>4</td><td>1</td><td>1</td><td>0.0</td><td>True</td><td>0.09067309831605885</td><td>0.0</td><td>58401.16799002308</td><td>0.25524010023946175</td><td>0.0009602957891046267</td><td>0.000169060065886153</td><td>-1.1950498207884177</td><td>0.5616678417773016</td><td>-0.21452111586534428</td><td>0.08812249918130029</td><td>37.19071897228338</td><td>54</td><td>0.0</td><td>0.0</td><td>0.0</td><td>0.0</td><td>-2.6670071121290257e-05</td><td>-8.799878279830698e-05</td><td>-1.389433958731619e-05</td><td>0.10700250856257816</td><td>0.01137294316969621</td><td>0.03818608631037108</td><td>nan</td><td>-1.2814872464536127</td><td>2.349466194206441</td><td>0.7801705537625095</td><td>1.920579477284299</td></tr>\n",
       "<tr><td>0.07357149188326174</td><td>58265.024874371025</td><td>0.0007523646865619445</td><td>0.07877872954974427</td><td>0.0003306356945611384</td><td>0.016335303972878558</td><td>226.4840947301417</td><td>61.48549727430549</td><td>0.010036883554764689</td><td>2591</td><td>SN_1930</td><td>90</td><td>233</td><td>32</td><td>119</td><td>178</td><td>121</td><td>24</td><td>1</td><td>0.0</td><td>True</td><td>0.07357149188326174</td><td>0.0</td><td>58265.00534383308</td><td>0.033300594597676536</td><td>0.0007454283835682692</td><td>4.100778732063406e-06</td><td>0.16753201498110665</td><td>0.042435414520991296</td><td>0.0005921837307032729</td><td>0.004458813810185606</td><td>577.1733542808929</td><td>575</td><td>0.0</td><td>0.0</td><td>0.0</td><td>0.0</td><td>-2.3639041405417326e-08</td><td>-1.0307237753319716e-07</td><td>-1.4257735869009142e-08</td><td>0.0005039129904157968</td><td>1.7422348707649504e-05</td><td>4.830614341375826e-05</td><td>nan</td><td>1.6914599511164432</td><td>-2.0914909500285255</td><td>-0.05865865839579588</td><td>0.5864921687328292</td></tr>\n",
       "<tr><td>0.0712196337687298</td><td>58215.11898427774</td><td>0.0007948192441598139</td><td>0.0930332249370403</td><td>0.00630517196461856</td><td>0.06858962207138192</td><td>283.6266617058526</td><td>38.97162092852342</td><td>0.06384965404518253</td><td>2612</td><td>SN_1944</td><td>5</td><td>17</td><td>2</td><td>11</td><td>9</td><td>13</td><td>0</td><td>1</td><td>0.0</td><td>True</td><td>0.0712196337687298</td><td>0.0</td><td>58215.23119547035</td><td>0.17104958314666874</td><td>0.0008415959248409433</td><td>3.5123298510740475e-05</td><td>-0.14222770962061082</td><td>0.23457516938626116</td><td>-0.02284834430561142</td><td>0.03201295740505118</td><td>26.69268673410224</td><td>33</td><td>0.0</td><td>0.0</td><td>0.0</td><td>0.0</td><td>1.6739288370069104e-06</td><td>-6.823494959274981e-06</td><td>-6.644755106706547e-07</td><td>-0.00454435029942123</td><td>-0.0019824576373492085</td><td>0.0018643791300600563</td><td>nan</td><td>-1.3317849594002513</td><td>1.0029234346209115</td><td>0.9106786324474345</td><td>-0.65601558650157</td></tr>\n",
       "<tr><td>0.087540856473114</td><td>58319.63775856461</td><td>0.0006461238655199239</td><td>0.1798027470176857</td><td>-0.07487688355426098</td><td>0.09062762627302165</td><td>343.93376607146206</td><td>6.030816810610685</td><td>0.08271979325155965</td><td>2685</td><td>SN_2002</td><td>8</td><td>82</td><td>4</td><td>62</td><td>62</td><td>23</td><td>5</td><td>1</td><td>0.0</td><td>True</td><td>0.087540856473114</td><td>0.0</td><td>58319.61187070565</td><td>0.13979874983124319</td><td>0.0006573700821636213</td><td>1.2500586041350248e-05</td><td>0.24436202361100273</td><td>0.10423145353156656</td><td>-0.0948242802433006</td><td>0.014892130149245113</td><td>140.0703120858842</td><td>124</td><td>0.0</td><td>0.0</td><td>0.0</td><td>0.0</td><td>-1.2376204169155098e-07</td><td>-6.841621505938787e-07</td><td>-1.5178952421208305e-07</td><td>-0.001000114138429211</td><td>-0.00011995652184042245</td><td>0.0002689761020426689</td><td>nan</td><td>-0.8996551526861538</td><td>-0.619383827107095</td><td>1.3394589282481366</td><td>0.18517947399796228</td></tr>\n",
       "<tr><td>0.05411361977490045</td><td>58379.68460115654</td><td>0.0019420115785359366</td><td>0.1499251252504013</td><td>-0.1557643518921279</td><td>0.055442482742788624</td><td>131.87679277619404</td><td>67.30096788426263</td><td>0.04182845250697663</td><td>2769</td><td>SN_2069</td><td>7</td><td>45</td><td>2</td><td>27</td><td>24</td><td>28</td><td>0</td><td>1</td><td>0.0</td><td>True</td><td>0.05411361977490045</td><td>0.0</td><td>58379.76996336927</td><td>0.075652708990674</td><td>0.0019561147522144723</td><td>1.8939924200087184e-05</td><td>0.09123896665672064</td><td>0.09046742877584944</td><td>-0.15037596434821576</td><td>0.00891389679669614</td><td>47.39857149482222</td><td>53</td><td>0.0</td><td>0.0</td><td>0.0</td><td>0.0</td><td>-9.286287289368447e-08</td><td>-1.006570525181568e-06</td><td>-1.1558056457570934e-07</td><td>0.0011322091351167235</td><td>-8.776711079738067e-05</td><td>0.00010933095105486046</td><td>nan</td><td>-0.7446267223429928</td><td>0.6486993096607949</td><td>-0.6044929245657513</td><td>-1.1283431071276144</td></tr>\n",
       "<tr><td>0.08150637941889213</td><td>58363.211086377436</td><td>0.0006769852698210292</td><td>0.035209192043605037</td><td>-0.021470457447672606</td><td>0.41219165747720493</td><td>47.39916868761101</td><td>7.741975731187954</td><td>0.4028549527301729</td><td>2883</td><td>SN_2156</td><td>10</td><td>18</td><td>4</td><td>6</td><td>19</td><td>9</td><td>0</td><td>1</td><td>0.0</td><td>True</td><td>0.08150637941889213</td><td>0.0</td><td>58363.21741939971</td><td>0.24682156706330716</td><td>0.0006784902260637468</td><td>3.3414185352231965e-05</td><td>-0.0895579049593767</td><td>0.3301430238869834</td><td>0.000315369536167727</td><td>0.037573119947107166</td><td>45.743710789598026</td><td>39</td><td>0.0</td><td>0.0</td><td>0.0</td><td>0.0</td><td>-4.04615125622457e-06</td><td>-7.66862606016969e-06</td><td>-1.1149669787200064e-06</td><td>0.04444633630424882</td><td>0.0037295687055892185</td><td>0.0060283106081200685</td><td>nan</td><td>-0.045039441388539596</td><td>0.37791832016929966</td><td>-0.5798248059918609</td><td>-0.025658301873179933</td></tr>\n",
       "<tr><td>0.0803037182293978</td><td>58324.724585889206</td><td>0.0007189932996309519</td><td>0.1613278947345685</td><td>-0.08877696096565128</td><td>0.2312542349954677</td><td>57.93978860429722</td><td>74.21641788891202</td><td>0.2326331654649323</td><td>2919</td><td>SN_2182</td><td>7</td><td>54</td><td>3</td><td>40</td><td>38</td><td>23</td><td>0</td><td>1</td><td>0.0</td><td>True</td><td>0.0803037182293978</td><td>0.0</td><td>58324.98469480477</td><td>0.19158276150847087</td><td>0.0007633923584321493</td><td>2.148323037166072e-05</td><td>-0.2319594950588102</td><td>0.17885913130089293</td><td>-0.12740577128784183</td><td>0.021598686311985766</td><td>128.54936537642885</td><td>118</td><td>0.0</td><td>0.0</td><td>0.0</td><td>0.0</td><td>5.340894169654164e-07</td><td>-2.6950525159807033e-06</td><td>-3.3064994504961874e-07</td><td>-0.010097144939309582</td><td>-0.0005610989278137667</td><td>0.0009665388680354174</td><td>nan</td><td>-2.066684480550269</td><td>2.1988667110976583</td><td>1.788479621594127</td><td>-1.3576843423544085</td></tr>\n",
       "<tr><td>0.09203069825998428</td><td>58216.75228893609</td><td>0.00040271395297225744</td><td>0.014232873955508842</td><td>0.0706635164048333</td><td>0.0012325586600972112</td><td>195.98562403212784</td><td>-1.9181885414368076</td><td>0.019108116322403154</td><td>3022</td><td>SN_2261</td><td>5</td><td>15</td><td>3</td><td>5</td><td>14</td><td>6</td><td>0</td><td>1</td><td>0.0</td><td>True</td><td>0.09203069825998428</td><td>0.0</td><td>58216.790049838055</td><td>0.38405153637722833</td><td>0.0003490671292091465</td><td>2.6194501465039456e-05</td><td>0.62419583458379</td><td>0.36404547781163554</td><td>0.17304208559724307</td><td>0.05923940098616207</td><td>23.01689731432594</td><td>23</td><td>0.0</td><td>0.0</td><td>0.0</td><td>0.0</td><td>1.4235416941109336e-06</td><td>-6.55312879208294e-06</td><td>-1.484292632675609e-06</td><td>-0.021562728318879926</td><td>-0.004961180166786229</td><td>0.012781255024525005</td><td>nan</td><td>2.048018506277386</td><td>-1.675513082307503</td><td>-1.728217495249905</td><td>-0.09832248640257549</td></tr>\n",
       "<tr><td>0.08048545826229431</td><td>58257.72584396964</td><td>0.0006909161078599756</td><td>0.11932715481706159</td><td>-0.044981894159291255</td><td>0.0835222476976885</td><td>224.87940068180203</td><td>-16.770094701490674</td><td>0.0884848673272988</td><td>3144</td><td>SN_2350</td><td>4</td><td>13</td><td>2</td><td>8</td><td>11</td><td>6</td><td>0</td><td>1</td><td>0.0</td><td>True</td><td>0.08048545826229431</td><td>0.0</td><td>58257.884275505116</td><td>0.24374453027849086</td><td>0.0006563288625724723</td><td>5.3878090918472696e-05</td><td>0.32249243889801954</td><td>0.4206338238318332</td><td>-0.02015699526258564</td><td>0.05242345005295531</td><td>30.846461861969516</td><td>26</td><td>0.0</td><td>0.0</td><td>0.0</td><td>0.0</td><td>-3.4004254244870405e-06</td><td>-1.980730392553873e-05</td><td>-2.605603974505555e-06</td><td>0.031913601886779885</td><td>0.002556548272558675</td><td>0.015695054427644472</td><td>nan</td><td>0.6419538015895934</td><td>-0.4829979725125058</td><td>-0.4735456913199886</td><td>-0.6499901158666374</td></tr>\n",
       "<tr><td>0.056613108943867056</td><td>58397.98149434068</td><td>0.002017393274553678</td><td>0.21993637478631853</td><td>-0.17193872436641155</td><td>0.3118131859709282</td><td>74.4398222639063</td><td>10.544402241905653</td><td>0.31829903316875807</td><td>3305</td><td>SN_2479</td><td>11</td><td>40</td><td>8</td><td>40</td><td>33</td><td>18</td><td>0</td><td>1</td><td>0.0</td><td>True</td><td>0.056613108943867056</td><td>0.0</td><td>58397.93276375583</td><td>0.11917616627033567</td><td>0.0020015239354740084</td><td>5.0214489177239796e-05</td><td>0.33475931789372293</td><td>0.13065424944812487</td><td>-0.18410683570536612</td><td>0.020497782386691685</td><td>71.23387200485736</td><td>80</td><td>0.0</td><td>0.0</td><td>0.0</td><td>0.0</td><td>8.364307050022446e-07</td><td>-2.8471470230424256e-06</td><td>-7.444071684324597e-07</td><td>0.0036815183621170576</td><td>-0.0006961985530161138</td><td>-0.0003684734116202424</td><td>nan</td><td>0.3160310766810032</td><td>-0.8788305286082092</td><td>0.5936306235183173</td><td>0.40889538886878984</td></tr>\n",
       "<tr><td>0.07847346865632229</td><td>58216.21773935198</td><td>0.0006066085934548115</td><td>0.13964062321293877</td><td>-0.0013504293301015895</td><td>0.031115632618851738</td><td>159.00952254302473</td><td>21.713725382255358</td><td>0.017240725799084984</td><td>3327</td><td>SN_2496</td><td>7</td><td>17</td><td>2</td><td>9</td><td>16</td><td>7</td><td>1</td><td>1</td><td>0.0</td><td>True</td><td>0.07847346865632229</td><td>0.0</td><td>58215.864957700556</td><td>0.25100868851222913</td><td>0.0005692851835320451</td><td>2.989225926150404e-05</td><td>0.03194384000420535</td><td>0.20015677456857667</td><td>0.060184606008536264</td><td>0.04376180496230383</td><td>30.392273395410303</td><td>27</td><td>0.0</td><td>0.0</td><td>0.0</td><td>0.0</td><td>3.550849397463323e-06</td><td>-2.7051076807570264e-06</td><td>-1.2425369670880075e-06</td><td>0.004493541909790888</td><td>-0.006340181178993233</td><td>0.0025942078303152435</td><td>nan</td><td>1.2485978258201547</td><td>0.5380621437414046</td><td>-1.4061356790846216</td><td>1.40545593666965</td></tr>\n",
       "<tr><td>0.07671836179098442</td><td>58310.321186062225</td><td>0.0006108693632005396</td><td>0.06974326116251804</td><td>0.012338897649368998</td><td>0.08654054810705819</td><td>344.2150051766903</td><td>10.113825189622581</td><td>0.07591256172724545</td><td>3329</td><td>SN_2498</td><td>13</td><td>64</td><td>2</td><td>35</td><td>35</td><td>23</td><td>19</td><td>1</td><td>0.0</td><td>True</td><td>0.07671836179098442</td><td>0.0</td><td>58310.189044093415</td><td>0.1352015024422144</td><td>0.0006075194372465625</td><td>1.0451105870841611e-05</td><td>0.056427668202135635</td><td>0.11461937319808323</td><td>0.017619811413223472</td><td>0.01279584051295716</td><td>109.20565721240132</td><td>127</td><td>0.0</td><td>0.0</td><td>0.0</td><td>0.0</td><td>-2.6104272738198714e-07</td><td>-6.135905867387831e-07</td><td>-1.118519704854724e-07</td><td>-8.648396975865487e-05</td><td>5.701578400213535e-05</td><td>0.00038512153153711975</td><td>nan</td><td>0.3205331565268505</td><td>0.11617227165752013</td><td>-0.4127055005497281</td><td>0.9773705648474734</td></tr>\n",
       "<tr><td>0.08073905441747989</td><td>58320.971360781274</td><td>0.0005404347486931863</td><td>0.039695283520822314</td><td>0.01699254266188378</td><td>0.0949267665755096</td><td>278.36352678951414</td><td>24.58532377290667</td><td>0.09300418340098382</td><td>3335</td><td>SN_2501</td><td>8</td><td>60</td><td>3</td><td>44</td><td>46</td><td>22</td><td>0</td><td>1</td><td>0.0</td><td>True</td><td>0.08073905441747989</td><td>0.0</td><td>58321.08778263094</td><td>0.1431767243775539</td><td>0.0005577718040661943</td><td>1.1911913158753033e-05</td><td>0.07543460896723352</td><td>0.14699069348390975</td><td>-0.023312934674814836</td><td>0.017253219629520453</td><td>95.83367447838866</td><td>113</td><td>0.0</td><td>0.0</td><td>0.0</td><td>0.0</td><td>-4.364610014626808e-08</td><td>-1.0884854136787806e-06</td><td>-1.4409703258597205e-07</td><td>-0.0012746765452904746</td><td>-6.762939873906745e-05</td><td>0.00034351163277021693</td><td>nan</td><td>-1.4554383617436306</td><td>-0.2431400560085349</td><td>2.3361133864971784</td><td>-0.8131339096451827</td></tr>\n",
       "<tr><td>0.024652106015637745</td><td>58357.2212492013</td><td>0.007667909024890386</td><td>0.2090439632915377</td><td>-0.029779082394817594</td><td>0.017294616114897802</td><td>328.27535517276215</td><td>-17.46685205179997</td><td>0.03833946389264079</td><td>3344</td><td>SN_2508</td><td>10</td><td>23</td><td>7</td><td>7</td><td>13</td><td>12</td><td>8</td><td>1</td><td>0.0</td><td>True</td><td>0.024652106015637745</td><td>0.0</td><td>58357.2071247514</td><td>0.028823976757848868</td><td>0.007729704024346607</td><td>4.977232359657407e-05</td><td>0.18385879872058017</td><td>0.04025239839361142</td><td>-0.03915370455396434</td><td>0.004680591101630969</td><td>50.08391429279397</td><td>39</td><td>0.0</td><td>0.0</td><td>0.0</td><td>0.0</td><td>-4.531221843086477e-07</td><td>-1.365550944153578e-06</td><td>-2.0391643689701036e-07</td><td>0.0005281463880938452</td><td>3.0418418474675894e-05</td><td>9.016063074984654e-05</td><td>nan</td><td>-1.2415534375508632</td><td>0.6256810917124072</td><td>2.0028714227739575</td><td>0.4900243298876476</td></tr>\n",
       "<tr><td>0.06990351051755538</td><td>58301.74181722051</td><td>0.0006274953035356366</td><td>0.020258267029288745</td><td>0.11439536590941908</td><td>0.031130024370669945</td><td>245.22130780054113</td><td>66.52999100740777</td><td>0.030321380632512843</td><td>3483</td><td>SN_2616</td><td>51</td><td>126</td><td>13</td><td>76</td><td>100</td><td>68</td><td>9</td><td>1</td><td>0.0</td><td>True</td><td>0.06990351051755538</td><td>0.0</td><td>58301.74854233588</td><td>0.05610935444201459</td><td>0.0006323937901291432</td><td>5.568459104795442e-06</td><td>0.04111103400742084</td><td>0.06680060210474512</td><td>0.102709116449104</td><td>0.007333442429703461</td><td>227.23368824940908</td><td>241</td><td>0.0</td><td>0.0</td><td>0.0</td><td>0.0</td><td>-5.9055198490521146e-08</td><td>-2.1388809751169747e-07</td><td>-3.163602310150845e-08</td><td>0.0008286988050345643</td><td>5.9856029785090577e-05</td><td>0.00011079485834972591</td><td>nan</td><td>-0.8796843976618501</td><td>-0.31216435662412745</td><td>1.5935557648862102</td><td>-0.11985729369045027</td></tr>\n",
       "<tr><td>0.08178976284699759</td><td>58348.66392970067</td><td>0.0002745974078664274</td><td>0.1749802489155754</td><td>0.25458412679735437</td><td>0.05396971706013044</td><td>263.5789526094194</td><td>57.719752226021534</td><td>0.04687121268455663</td><td>3493</td><td>SN_2624</td><td>19</td><td>339</td><td>6</td><td>149</td><td>230</td><td>116</td><td>12</td><td>1</td><td>0.0</td><td>True</td><td>0.08178976284699759</td><td>0.0</td><td>58348.647527155605</td><td>0.10622684064219357</td><td>0.00027542169588919493</td><td>3.444410673958887e-06</td><td>0.11764809677399511</td><td>0.07411070503825311</td><td>0.2452949896576348</td><td>0.009494858493945338</td><td>740.1268425514485</td><td>737</td><td>0.0</td><td>0.0</td><td>0.0</td><td>0.0</td><td>-1.1684542838954368e-07</td><td>-1.1837963041982031e-07</td><td>-2.8685245050457217e-08</td><td>-0.0010148489810046686</td><td>0.00017205074811714414</td><td>0.00019761605190761104</td><td>nan</td><td>-0.23931177225744052</td><td>0.7736014940350064</td><td>0.9783333943989845</td><td>0.1544105516624527</td></tr>\n",
       "</table></div>"
      ],
      "text/plain": [
       "<Table length=60>\n",
       "         z                   t0                   x0           ...        diff_c               diff_t0       \n",
       "      float64             float64              float64         ...       float64               float64       \n",
       "-------------------- ------------------ ---------------------- ... -------------------- ---------------------\n",
       "   0.088082091521203   58320.3770946509   0.000368154374363641 ...   0.5742180180142843    0.5090657579305464\n",
       " 0.08892474510629828   58382.6182824341  0.0007420933290040764 ...     1.11842070720579     1.780324150302863\n",
       " 0.09942039455353957   58447.1189699419  0.0003148350082726573 ... -0.08103487987371112  -0.36262626007452325\n",
       " 0.05836208424830124   58399.4495798152  0.0011571533293795362 ...  -2.1458964380119814   0.44054108016806937\n",
       " 0.07238986722474972  58305.24336690491  0.0009057965830170289 ...   0.6109446038738345    0.6650572433674772\n",
       " 0.07063923096832568  58371.47089428084  0.0009266357781829942 ...    0.639310690737818   -0.5822955238275469\n",
       " 0.04678697446017556  58246.96687507803  0.0026945687091054055 ...  -2.0095242122424297     7.095319021552567\n",
       " 0.06204088329919146  58283.43016304258  0.0006136518061424685 ... -0.10114663152278257    20587.572427761632\n",
       "0.012210718158083368  58237.54929318474   0.028236656993547462 ...    8.100447508936126      6.14481023211713\n",
       " 0.04322551383909927  58325.42390398862  0.0012505593202142605 ... -0.24734859495363695    1.4245023798541414\n",
       " 0.08385867684891408  58307.64775421357  0.0006195636322676988 ...  0.05399693264870398    2.7222050339509805\n",
       "0.058244901206103775 58333.101583358475    0.00137953017134416 ...   0.5947788139728728   -0.5248796955807885\n",
       " 0.04596402862738365 58367.110722509344  0.0018061506506782674 ...   2.6420068563727535     1.232466663360134\n",
       " 0.09848378388385426  58255.22011600063  0.0004062883448080871 ...   -0.155377638362291   0.39102639817996476\n",
       "  0.0640006490251684  58279.57116867485   0.001025159093106323 ...   0.4967764445485865  -0.49046794284711703\n",
       " 0.06176940582333615 58308.386956398215  0.0010882831721752576 ...  -0.6069224861918184     142.4116960591716\n",
       " 0.06473506502330033  58437.91315240401  0.0012837153426407777 ... -0.43583547707590353    2.4325726067383715\n",
       "  0.0702461486280028  58268.75505953173 0.00046853603788833047 ...    2.062448816479692    3.4989133550775486\n",
       "  0.0862321772771083  58300.15094414426  0.0007594421981733685 ...  -0.9153546183954571    1.5646879624390724\n",
       " 0.07522757392668167  58329.25505025375  0.0007115443853497425 ...   0.8104304754621281    1.7199519935892078\n",
       "                 ...                ...                    ... ...                  ...                   ...\n",
       " 0.09788885973851488  58324.43674780153  0.0005269229915597442 ...   0.6521183497127834  -0.14499304375610464\n",
       "0.059522989352904045   58369.1509521896  0.0017205286614015902 ...  -1.3384840617492852     3.265097588930368\n",
       " 0.07218351113659889  58441.60258414399  0.0006715946531918503 ...   1.2833747836040008    2.7951909450383043\n",
       " 0.08518073342256019  58282.78169826165  0.0004590563537636014 ...   0.8388694271805301   -0.8270465656138924\n",
       " 0.06960057261467392 58237.471669097176  0.0006788191747129053 ...   0.6066355968620679    1.5414743574113658\n",
       " 0.09067309831605885  58401.65819892138  0.0007436474707869142 ...   0.7801705537625095     1.920579477284299\n",
       " 0.07357149188326174 58265.024874371025  0.0007523646865619445 ... -0.05865865839579588    0.5864921687328292\n",
       "  0.0712196337687298  58215.11898427774  0.0007948192441598139 ...   0.9106786324474345     -0.65601558650157\n",
       "   0.087540856473114  58319.63775856461  0.0006461238655199239 ...   1.3394589282481366   0.18517947399796228\n",
       " 0.05411361977490045  58379.68460115654  0.0019420115785359366 ...  -0.6044929245657513   -1.1283431071276144\n",
       " 0.08150637941889213 58363.211086377436  0.0006769852698210292 ...  -0.5798248059918609 -0.025658301873179933\n",
       "  0.0803037182293978 58324.724585889206  0.0007189932996309519 ...    1.788479621594127   -1.3576843423544085\n",
       " 0.09203069825998428  58216.75228893609 0.00040271395297225744 ...   -1.728217495249905  -0.09832248640257549\n",
       " 0.08048545826229431  58257.72584396964  0.0006909161078599756 ...  -0.4735456913199886   -0.6499901158666374\n",
       "0.056613108943867056  58397.98149434068   0.002017393274553678 ...   0.5936306235183173   0.40889538886878984\n",
       " 0.07847346865632229  58216.21773935198  0.0006066085934548115 ...  -1.4061356790846216      1.40545593666965\n",
       " 0.07671836179098442 58310.321186062225  0.0006108693632005396 ...  -0.4127055005497281    0.9773705648474734\n",
       " 0.08073905441747989 58320.971360781274  0.0005404347486931863 ...   2.3361133864971784   -0.8131339096451827\n",
       "0.024652106015637745   58357.2212492013   0.007667909024890386 ...   2.0028714227739575    0.4900243298876476\n",
       " 0.06990351051755538  58301.74181722051  0.0006274953035356366 ...   1.5935557648862102  -0.11985729369045027\n",
       " 0.08178976284699759  58348.66392970067  0.0002745974078664274 ...   0.9783333943989845    0.1544105516624527"
      ]
     },
     "execution_count": 14,
     "metadata": {},
     "output_type": "execute_result"
    }
   ],
   "source": [
    "print(np.min(meta_new['c']), np.max(meta_new['c']))\n",
    "mask_c_inf = meta_new['x1']>=0\n",
    "mask_c_sup = meta_new['x1']<=0.23\n",
    "mask2 = mask_c_inf & mask_c_sup\n",
    "\n",
    "meta_masked = meta_new[mask2]\n",
    "meta_masked"
   ]
  },
  {
   "cell_type": "code",
   "execution_count": 15,
   "id": "50e95595",
   "metadata": {},
   "outputs": [
    {
     "data": {
      "text/plain": [
       "<matplotlib.lines.Line2D at 0x7fc1851d0fa0>"
      ]
     },
     "execution_count": 15,
     "metadata": {},
     "output_type": "execute_result"
    },
    {
     "data": {
      "image/png": "[encoded data removed]",
      "text/plain": [
       "<Figure size 720x576 with 1 Axes>"
      ]
     },
     "metadata": {
      "needs_background": "light"
     },
     "output_type": "display_data"
    }
   ],
   "source": [
    "plt.figure(figsize=(10,8))\n",
    "plt.scatter(meta_new['z'], meta_new['c_err'])\n",
    "plt.axhline(y=0.04, color='r', linestyle='-')"
   ]
  },
  {
   "cell_type": "code",
   "execution_count": null,
   "id": "0663246e",
   "metadata": {},
   "outputs": [],
   "source": []
  }
 ],
 "metadata": {
  "kernelspec": {
   "display_name": "Python 3 (ipykernel)",
   "language": "python",
   "name": "python3"
  },
  "language_info": {
   "codemirror_mode": {
    "name": "ipython",
    "version": 3
   },
   "file_extension": ".py",
   "mimetype": "text/x-python",
   "name": "python",
   "nbconvert_exporter": "python",
   "pygments_lexer": "ipython3",
   "version": "3.9.7"
  }
 },
 "nbformat": 4,
 "nbformat_minor": 5
}
