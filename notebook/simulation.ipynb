{
 "cells": [
  {
   "cell_type": "code",
   "execution_count": 1,
   "metadata": {},
   "outputs": [],
   "source": [
    "# check PYTHONPATH with ztf_stage/python for scripts\n",
    "# check PYTHONPATH with ztf_stage/script for run scripts"
   ]
  },
  {
   "cell_type": "code",
   "execution_count": 2,
   "metadata": {},
   "outputs": [],
   "source": [
    "import os\n",
    "from ztf_hdf5 import Read_LightCurve"
   ]
  },
  {
   "cell_type": "code",
   "execution_count": 3,
   "metadata": {},
   "outputs": [
    {
     "name": "stdout",
     "output_type": "stream",
     "text": [
      "/home/philippe/ZTF/simu/ztf_stage/notebook\n",
      "/home/philippe/ZTF/simu/data\n",
      "Usage: run_simulation.py [options]\n",
      "\n",
      "Options:\n",
      "  -h, --help            show this help message and exit\n",
      "  --folder_dir=FOLDER_DIR\n",
      "                        folder directory [data]\n",
      "  --sfd98File=SFD98FILE\n",
      "                        sfd98 file name [sfd98]\n",
      "  --rcidFile=RCIDFILE   rcid file name [ZTF_corners_rcid.txt]\n",
      "  --csvFile=CSVFILE     csv file name for observation\n",
      "                        [2018_all_logs_from_dr1_rcid_zp_from_masci.csv]\n",
      "  --ZTF_Fields=ZTF_FIELDS\n",
      "                        ZTF field file name for observation [ZTF_Fields.txt]\n",
      "  --DataFileName=DATAFILENAME\n",
      "                        Data file name [Data.hdf5]\n",
      "  --MetaFileName=METAFILENAME\n",
      "                        Meta data file name [Meta.hdf5]\n",
      "  --outputDir=OUTPUTDIR\n",
      "                        output directory [dataLC]\n",
      "  --path_prefix=PATH_PREFIX\n",
      "                        path prefix for hdf5 [SN]\n",
      "  --zmin=ZMIN           min redshift [0.01]\n",
      "  --zmax=ZMAX           max redshift [0.1]\n",
      "  --decmin=DECMIN       min declinaison [-30]\n",
      "  --decmax=DECMAX       max declinaison [90]\n",
      "  --ndet=NDET           required number of detections [1]\n",
      "  --ntransient=NTRANSIENT\n",
      "                        number of transientor [11]\n",
      "  --seed=SEED           seed [70]\n",
      "  --threshold=THRESHOLD\n",
      "                        S/N requirement for detection [1]\n"
     ]
    }
   ],
   "source": [
    "# To have information about the python script parameters\n",
    "current_dir = os.getcwd()\n",
    "print(current_dir)\n",
    "SCRIPT_DIR = current_dir.replace('notebook','script')\n",
    "DATA_DIR = '/'.join(current_dir.split('/')[:-2])+'/data'\n",
    "!echo $DATA_DIR\n",
    "!python $SCRIPT_DIR/run_simulation.py --help"
   ]
  },
  {
   "cell_type": "code",
   "execution_count": 4,
   "metadata": {
    "scrolled": true
   },
   "outputs": [
    {
     "name": "stdout",
     "output_type": "stream",
     "text": [
      "<simsurvey.simulsurvey.SimulSurvey object at 0x7f8d87e95400>\n",
      "lc is not an astropy.table.table.Table type <class 'simsurvey.simulsurvey.LightcurveCollection'>\n",
      "meta data OrderedDict([('directory', 'dataLC'), ('file_name', 'data_simu_nb.hdf5')])          z                  t0                  x0           ... idx_orig path\n",
      "------------------- ----------------- ---------------------- ... -------- ----\n",
      "0.09746273115384423 58257.91621139255 0.00031819893673549164 ...        0 SN_0\n",
      " 0.0954508501914799 58371.81785054953 0.00027713578912904685 ...        1 SN_1\n",
      "0.08329532838343195 58274.43713241271  0.0005157470343335358 ...        2 SN_2\n",
      "0.05239567866061053  58231.2012471626  0.0011922257996227882 ...        5 SN_3\n",
      "0.09496615232554739 58233.14175236984 0.00032508682678714015 ...        6 SN_4\n",
      "0.07527202487012849 58421.53353253866  0.0005445907177406092 ...        7 SN_5\n",
      "0.07864194673814619 58210.72134081617   0.000843278667355219 ...        8 SN_6\n",
      "0.07636610804256264 58273.41723662158  0.0004897470307437442 ...        9 SN_7\n",
      "End of LC simulation \n"
     ]
    }
   ],
   "source": [
    "!python $SCRIPT_DIR/run_simulation.py --folder_dir $DATA_DIR --ntransient 11 --DataFile data_simu_nb.hdf5 --MetaFile meta_simu_nb.hdf5"
   ]
  },
  {
   "cell_type": "code",
   "execution_count": 7,
   "metadata": {
    "scrolled": true
   },
   "outputs": [
    {
     "data": {
      "text/plain": [
       "OrderedDict([('directory', 'dataLC'), ('file_name', 'data_simu_nb.hdf5')])"
      ]
     },
     "execution_count": 7,
     "metadata": {},
     "output_type": "execute_result"
    }
   ],
   "source": [
    "# Read meta data file\n",
    "class_meta = Read_LightCurve(file_name='meta_simu_nb.hdf5',inputDir='dataLC')\n",
    "read_meta = class_meta.get_table(path='meta')\n",
    "\n",
    "meta = read_meta.meta\n",
    "meta"
   ]
  },
  {
   "cell_type": "code",
   "execution_count": 8,
   "metadata": {
    "scrolled": true
   },
   "outputs": [
    {
     "data": {
      "text/html": [
       "<i>Table length=115</i>\n",
       "<table id=\"table140684264294216\" class=\"table-striped table-bordered table-condensed\">\n",
       "<thead><tr><th>time</th><th>band</th><th>flux</th><th>fluxerr</th><th>zp</th><th>zpsys</th><th>field</th><th>ccd</th><th>comment</th></tr></thead>\n",
       "<thead><tr><th>float64</th><th>str4</th><th>float64</th><th>float64</th><th>float64</th><th>str2</th><th>int64</th><th>int64</th><th>str1</th></tr></thead>\n",
       "<tr><td>58237.16957179969</td><td>ztfg</td><td>-37.698992488538224</td><td>110.41548785615123</td><td>26.275</td><td>ab</td><td>525</td><td>32</td><td></td></tr>\n",
       "<tr><td>58237.17003470007</td><td>ztfg</td><td>-245.48623041008202</td><td>115.6192094811434</td><td>26.275</td><td>ab</td><td>526</td><td>45</td><td></td></tr>\n",
       "<tr><td>58237.2329051001</td><td>ztfg</td><td>163.24451087053964</td><td>101.63188851211187</td><td>26.275</td><td>ab</td><td>525</td><td>32</td><td></td></tr>\n",
       "<tr><td>58237.23381939996</td><td>ztfg</td><td>-20.637365825902474</td><td>87.70613955499692</td><td>26.275</td><td>ab</td><td>525</td><td>32</td><td></td></tr>\n",
       "<tr><td>58237.23429400008</td><td>ztfg</td><td>15.307013523293802</td><td>108.40017808032455</td><td>26.275</td><td>ab</td><td>526</td><td>45</td><td></td></tr>\n",
       "<tr><td>58238.18980320031</td><td>ztfg</td><td>-88.48572742916659</td><td>142.89926521510242</td><td>26.275</td><td>ab</td><td>525</td><td>32</td><td></td></tr>\n",
       "<tr><td>58242.226956000086</td><td>ztfg</td><td>-13.36913437464922</td><td>15.24158020050822</td><td>26.275</td><td>ab</td><td>525</td><td>32</td><td></td></tr>\n",
       "<tr><td>58242.227870400064</td><td>ztfg</td><td>-19.973853315080436</td><td>14.555596090736456</td><td>26.275</td><td>ab</td><td>525</td><td>32</td><td></td></tr>\n",
       "<tr><td>58242.25234950008</td><td>ztfr</td><td>22.44562729510858</td><td>20.2782277147336</td><td>26.325</td><td>ab</td><td>525</td><td>32</td><td></td></tr>\n",
       "<tr><td>58242.25432870025</td><td>ztfr</td><td>-6.614662456978558</td><td>23.715374963343173</td><td>26.325</td><td>ab</td><td>525</td><td>32</td><td></td></tr>\n",
       "<tr><td>...</td><td>...</td><td>...</td><td>...</td><td>...</td><td>...</td><td>...</td><td>...</td><td>...</td></tr>\n",
       "<tr><td>58295.233379600104</td><td>ztfr</td><td>597.7739103294949</td><td>49.759003343156095</td><td>26.325</td><td>ab</td><td>526</td><td>45</td><td></td></tr>\n",
       "<tr><td>58297.25263890019</td><td>ztfr</td><td>378.39795126385</td><td>63.95339450756133</td><td>26.325</td><td>ab</td><td>525</td><td>32</td><td></td></tr>\n",
       "<tr><td>58298.17488429975</td><td>ztfg</td><td>-29.893629510670564</td><td>68.81836700984442</td><td>26.275</td><td>ab</td><td>526</td><td>45</td><td></td></tr>\n",
       "<tr><td>58298.25431710016</td><td>ztfr</td><td>431.3085355763884</td><td>66.4823782689568</td><td>26.325</td><td>ab</td><td>526</td><td>45</td><td></td></tr>\n",
       "<tr><td>58301.17467590002</td><td>ztfr</td><td>516.5622454466258</td><td>53.38590863026897</td><td>26.325</td><td>ab</td><td>526</td><td>45</td><td></td></tr>\n",
       "<tr><td>58301.25633100001</td><td>ztfg</td><td>159.15613483604412</td><td>57.86657018445778</td><td>26.275</td><td>ab</td><td>526</td><td>45</td><td></td></tr>\n",
       "<tr><td>58304.177766200155</td><td>ztfr</td><td>264.2596340106893</td><td>36.438876159673775</td><td>26.325</td><td>ab</td><td>526</td><td>45</td><td></td></tr>\n",
       "<tr><td>58304.19464120036</td><td>ztfg</td><td>45.44385778590088</td><td>26.195647403517324</td><td>26.275</td><td>ab</td><td>526</td><td>45</td><td></td></tr>\n",
       "<tr><td>58308.19006940024</td><td>ztfg</td><td>98.8780860196044</td><td>77.58405584108164</td><td>26.275</td><td>ab</td><td>525</td><td>32</td><td></td></tr>\n",
       "<tr><td>58323.1654167003</td><td>ztfr</td><td>69.60226398136977</td><td>88.57583344368521</td><td>26.325</td><td>ab</td><td>526</td><td>45</td><td></td></tr>\n",
       "</table>"
      ],
      "text/plain": [
       "<Table length=115>\n",
       "       time        band         flux        ... field  ccd  comment\n",
       "     float64       str4       float64       ... int64 int64   str1 \n",
       "------------------ ---- ------------------- ... ----- ----- -------\n",
       " 58237.16957179969 ztfg -37.698992488538224 ...   525    32        \n",
       " 58237.17003470007 ztfg -245.48623041008202 ...   526    45        \n",
       "  58237.2329051001 ztfg  163.24451087053964 ...   525    32        \n",
       " 58237.23381939996 ztfg -20.637365825902474 ...   525    32        \n",
       " 58237.23429400008 ztfg  15.307013523293802 ...   526    45        \n",
       " 58238.18980320031 ztfg  -88.48572742916659 ...   525    32        \n",
       "58242.226956000086 ztfg  -13.36913437464922 ...   525    32        \n",
       "58242.227870400064 ztfg -19.973853315080436 ...   525    32        \n",
       " 58242.25234950008 ztfr   22.44562729510858 ...   525    32        \n",
       " 58242.25432870025 ztfr  -6.614662456978558 ...   525    32        \n",
       "               ...  ...                 ... ...   ...   ...     ...\n",
       "58295.233379600104 ztfr   597.7739103294949 ...   526    45        \n",
       " 58297.25263890019 ztfr     378.39795126385 ...   525    32        \n",
       " 58298.17488429975 ztfg -29.893629510670564 ...   526    45        \n",
       " 58298.25431710016 ztfr   431.3085355763884 ...   526    45        \n",
       " 58301.17467590002 ztfr   516.5622454466258 ...   526    45        \n",
       " 58301.25633100001 ztfg  159.15613483604412 ...   526    45        \n",
       "58304.177766200155 ztfr   264.2596340106893 ...   526    45        \n",
       " 58304.19464120036 ztfg   45.44385778590088 ...   526    45        \n",
       " 58308.19006940024 ztfg    98.8780860196044 ...   525    32        \n",
       "  58323.1654167003 ztfr   69.60226398136977 ...   526    45        "
      ]
     },
     "execution_count": 8,
     "metadata": {},
     "output_type": "execute_result"
    }
   ],
   "source": [
    "# Read the light curve data\n",
    "inputDir = meta['directory']\n",
    "file_name = meta['file_name']\n",
    "class_data = Read_LightCurve(file_name=file_name,inputDir=inputDir)\n",
    "read_data = class_data.get_table(path='SN_7')\n",
    "\n",
    "read_data"
   ]
  },
  {
   "cell_type": "code",
   "execution_count": null,
   "metadata": {},
   "outputs": [],
   "source": []
  },
  {
   "cell_type": "code",
   "execution_count": null,
   "metadata": {},
   "outputs": [],
   "source": []
  }
 ],
 "metadata": {
  "kernelspec": {
   "display_name": "Python 3",
   "language": "python",
   "name": "python3"
  },
  "language_info": {
   "codemirror_mode": {
    "name": "ipython",
    "version": 3
   },
   "file_extension": ".py",
   "mimetype": "text/x-python",
   "name": "python",
   "nbconvert_exporter": "python",
   "pygments_lexer": "ipython3",
   "version": "3.7.3"
  }
 },
 "nbformat": 4,
 "nbformat_minor": 5
}
